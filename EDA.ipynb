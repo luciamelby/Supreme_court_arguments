{
 "cells": [
  {
   "cell_type": "code",
   "execution_count": 1,
   "metadata": {
    "collapsed": true
   },
   "outputs": [],
   "source": [
    "import pandas as pd\n",
    "%load_ext autotime"
   ]
  },
  {
   "cell_type": "code",
   "execution_count": 2,
   "metadata": {
    "collapsed": true
   },
   "outputs": [],
   "source": [
    "df = pd.read_csv('./data/data_speaker_1990_2017.csv')"
   ]
  },
  {
   "cell_type": "code",
   "execution_count": 83,
   "metadata": {
    "collapsed": true
   },
   "outputs": [],
   "source": [
    "df_just = pd.read_csv('./data/justice_list.csv')"
   ]
  },
  {
   "cell_type": "code",
   "execution_count": 3,
   "metadata": {},
   "outputs": [
    {
     "data": {
      "text/plain": [
       "(2169, 12)"
      ]
     },
     "execution_count": 3,
     "metadata": {},
     "output_type": "execute_result"
    }
   ],
   "source": [
    "df.shape"
   ]
  },
  {
   "cell_type": "code",
   "execution_count": 4,
   "metadata": {
    "scrolled": true
   },
   "outputs": [
    {
     "data": {
      "text/html": [
       "<div>\n",
       "<style>\n",
       "    .dataframe thead tr:only-child th {\n",
       "        text-align: right;\n",
       "    }\n",
       "\n",
       "    .dataframe thead th {\n",
       "        text-align: left;\n",
       "    }\n",
       "\n",
       "    .dataframe tbody tr th {\n",
       "        vertical-align: top;\n",
       "    }\n",
       "</style>\n",
       "<table border=\"1\" class=\"dataframe\">\n",
       "  <thead>\n",
       "    <tr style=\"text-align: right;\">\n",
       "      <th></th>\n",
       "      <th>Unnamed: 0</th>\n",
       "      <th>link_trans</th>\n",
       "      <th>docket</th>\n",
       "      <th>respondent</th>\n",
       "      <th>petitioner</th>\n",
       "      <th>pet_lawyer</th>\n",
       "      <th>resp_lawyer</th>\n",
       "      <th>decided</th>\n",
       "      <th>decision</th>\n",
       "      <th>justice_counts</th>\n",
       "      <th>speaker_verbage</th>\n",
       "      <th>case_link</th>\n",
       "    </tr>\n",
       "  </thead>\n",
       "  <tbody>\n",
       "    <tr>\n",
       "      <th>0</th>\n",
       "      <td>0</td>\n",
       "      <td>https://apps.oyez.org/player/#/rehnquist5/oral...</td>\n",
       "      <td>89-1416</td>\n",
       "      <td>American Postal Workers Union, AFL-CIO</td>\n",
       "      <td>Air Courier Conference of America</td>\n",
       "      <td>Paul J. Larkin, Jr. on behalf of the Federal ...</td>\n",
       "      <td>Keith E. Secular on behalf of the Private Res...</td>\n",
       "      <td>Feb 26, 1991</td>\n",
       "      <td>Air Courier Conference of America</td>\n",
       "      <td>{Byron R. White: 2, Keith E. Secular: 45, L. P...</td>\n",
       "      <td>{L. Peter Farkas: u'0Mr. Chief Justice, and ma...</td>\n",
       "      <td>https://www.oyez.org/cases/1990/89-1416</td>\n",
       "    </tr>\n",
       "    <tr>\n",
       "      <th>1</th>\n",
       "      <td>1</td>\n",
       "      <td>https://apps.oyez.org/player/#/rehnquist5/oral...</td>\n",
       "      <td>89-1493</td>\n",
       "      <td>O'Neill</td>\n",
       "      <td>Air Line Pilots Association, International</td>\n",
       "      <td>Laurence E. Gold on behalf of the Petitioner</td>\n",
       "      <td>Marty Harper on behalf of the Respondents</td>\n",
       "      <td>Mar 19, 1991</td>\n",
       "      <td>Air Line Pilots Association, International</td>\n",
       "      <td>{Laurence E. Gold: 38, Byron R. White: 30, Joh...</td>\n",
       "      <td>{Laurence E. Gold: u'0Thank you, Mr. Chief Jus...</td>\n",
       "      <td>https://www.oyez.org/cases/1990/89-1493</td>\n",
       "    </tr>\n",
       "    <tr>\n",
       "      <th>2</th>\n",
       "      <td>2</td>\n",
       "      <td>https://apps.oyez.org/player/#/rehnquist5/oral...</td>\n",
       "      <td>90-97</td>\n",
       "      <td>National Labor Relations Board</td>\n",
       "      <td>American Hospital Association</td>\n",
       "      <td>James D. Holzhauer on behalf of the Petitioner</td>\n",
       "      <td>David L. Shapiro on behalf of the Respondents</td>\n",
       "      <td>Apr 23, 1991</td>\n",
       "      <td>[]</td>\n",
       "      <td>{nan: 2, Byron R. White: 52, John Paul Stevens...</td>\n",
       "      <td>{nan: u'0Well, yes they are.--I see.', James D...</td>\n",
       "      <td>https://www.oyez.org/cases/1990/90-97</td>\n",
       "    </tr>\n",
       "    <tr>\n",
       "      <th>3</th>\n",
       "      <td>3</td>\n",
       "      <td>https://apps.oyez.org/player/#/rehnquist4/oral...</td>\n",
       "      <td>89-1283</td>\n",
       "      <td>Ohio Power Company</td>\n",
       "      <td>Arcadia, Ohio</td>\n",
       "      <td>Lawrence G. Wallace as Federal Respondent in ...</td>\n",
       "      <td>Edward Berlin on behalf of the Respondents</td>\n",
       "      <td>Nov 27, 1990</td>\n",
       "      <td>Arcadia, Ohio</td>\n",
       "      <td>{Edward Berlin: 58, Byron R. White: 12, John P...</td>\n",
       "      <td>{William H. Rehnquist: u'0We'll hear argument ...</td>\n",
       "      <td>https://www.oyez.org/cases/1990/89-1283</td>\n",
       "    </tr>\n",
       "    <tr>\n",
       "      <th>4</th>\n",
       "      <td>4</td>\n",
       "      <td>https://apps.oyez.org/player/#/rehnquist5/oral...</td>\n",
       "      <td>89-839</td>\n",
       "      <td>Oreste Fulminante</td>\n",
       "      <td>Arizona</td>\n",
       "      <td>[]</td>\n",
       "      <td>[]</td>\n",
       "      <td>Mar 26, 1991</td>\n",
       "      <td>[]</td>\n",
       "      <td>{nan: 119, Paul J. Larkin, Jr.: 23, Barbara M....</td>\n",
       "      <td>{nan: u'0Will we need to decide both?Well, you...</td>\n",
       "      <td>https://www.oyez.org/cases/1990/89-839</td>\n",
       "    </tr>\n",
       "  </tbody>\n",
       "</table>\n",
       "</div>"
      ],
      "text/plain": [
       "   Unnamed: 0                                         link_trans     docket  \\\n",
       "0           0  https://apps.oyez.org/player/#/rehnquist5/oral...   89-1416    \n",
       "1           1  https://apps.oyez.org/player/#/rehnquist5/oral...   89-1493    \n",
       "2           2  https://apps.oyez.org/player/#/rehnquist5/oral...     90-97    \n",
       "3           3  https://apps.oyez.org/player/#/rehnquist4/oral...   89-1283    \n",
       "4           4  https://apps.oyez.org/player/#/rehnquist5/oral...    89-839    \n",
       "\n",
       "                                 respondent  \\\n",
       "0   American Postal Workers Union, AFL-CIO    \n",
       "1                                  O'Neill    \n",
       "2           National Labor Relations Board    \n",
       "3                       Ohio Power Company    \n",
       "4                        Oreste Fulminante    \n",
       "\n",
       "                                     petitioner  \\\n",
       "0            Air Courier Conference of America    \n",
       "1   Air Line Pilots Association, International    \n",
       "2                American Hospital Association    \n",
       "3                                Arcadia, Ohio    \n",
       "4                                      Arizona    \n",
       "\n",
       "                                          pet_lawyer  \\\n",
       "0   Paul J. Larkin, Jr. on behalf of the Federal ...   \n",
       "1      Laurence E. Gold on behalf of the Petitioner    \n",
       "2    James D. Holzhauer on behalf of the Petitioner    \n",
       "3   Lawrence G. Wallace as Federal Respondent in ...   \n",
       "4                                                 []   \n",
       "\n",
       "                                         resp_lawyer        decided  \\\n",
       "0   Keith E. Secular on behalf of the Private Res...  Feb 26, 1991    \n",
       "1         Marty Harper on behalf of the Respondents   Mar 19, 1991    \n",
       "2     David L. Shapiro on behalf of the Respondents   Apr 23, 1991    \n",
       "3        Edward Berlin on behalf of the Respondents   Nov 27, 1990    \n",
       "4                                                 []  Mar 26, 1991    \n",
       "\n",
       "                                     decision  \\\n",
       "0           Air Courier Conference of America   \n",
       "1  Air Line Pilots Association, International   \n",
       "2                                          []   \n",
       "3                               Arcadia, Ohio   \n",
       "4                                          []   \n",
       "\n",
       "                                      justice_counts  \\\n",
       "0  {Byron R. White: 2, Keith E. Secular: 45, L. P...   \n",
       "1  {Laurence E. Gold: 38, Byron R. White: 30, Joh...   \n",
       "2  {nan: 2, Byron R. White: 52, John Paul Stevens...   \n",
       "3  {Edward Berlin: 58, Byron R. White: 12, John P...   \n",
       "4  {nan: 119, Paul J. Larkin, Jr.: 23, Barbara M....   \n",
       "\n",
       "                                     speaker_verbage  \\\n",
       "0  {L. Peter Farkas: u'0Mr. Chief Justice, and ma...   \n",
       "1  {Laurence E. Gold: u'0Thank you, Mr. Chief Jus...   \n",
       "2  {nan: u'0Well, yes they are.--I see.', James D...   \n",
       "3  {William H. Rehnquist: u'0We'll hear argument ...   \n",
       "4  {nan: u'0Will we need to decide both?Well, you...   \n",
       "\n",
       "                                 case_link  \n",
       "0  https://www.oyez.org/cases/1990/89-1416  \n",
       "1  https://www.oyez.org/cases/1990/89-1493  \n",
       "2    https://www.oyez.org/cases/1990/90-97  \n",
       "3  https://www.oyez.org/cases/1990/89-1283  \n",
       "4   https://www.oyez.org/cases/1990/89-839  "
      ]
     },
     "execution_count": 4,
     "metadata": {},
     "output_type": "execute_result"
    }
   ],
   "source": [
    "df.head()"
   ]
  },
  {
   "cell_type": "code",
   "execution_count": 84,
   "metadata": {},
   "outputs": [
    {
     "data": {
      "text/html": [
       "<div>\n",
       "<style>\n",
       "    .dataframe thead tr:only-child th {\n",
       "        text-align: right;\n",
       "    }\n",
       "\n",
       "    .dataframe thead th {\n",
       "        text-align: left;\n",
       "    }\n",
       "\n",
       "    .dataframe tbody tr th {\n",
       "        vertical-align: top;\n",
       "    }\n",
       "</style>\n",
       "<table border=\"1\" class=\"dataframe\">\n",
       "  <thead>\n",
       "    <tr style=\"text-align: right;\">\n",
       "      <th></th>\n",
       "      <th>Unnamed: 0</th>\n",
       "      <th>0</th>\n",
       "    </tr>\n",
       "  </thead>\n",
       "  <tbody>\n",
       "    <tr>\n",
       "      <th>0</th>\n",
       "      <td>0</td>\n",
       "      <td>Neil Gorsuch</td>\n",
       "    </tr>\n",
       "    <tr>\n",
       "      <th>1</th>\n",
       "      <td>1</td>\n",
       "      <td>Elena Kagan</td>\n",
       "    </tr>\n",
       "    <tr>\n",
       "      <th>2</th>\n",
       "      <td>2</td>\n",
       "      <td>Sonia Sotomayor</td>\n",
       "    </tr>\n",
       "    <tr>\n",
       "      <th>3</th>\n",
       "      <td>3</td>\n",
       "      <td>Samuel A. Alito, Jr.</td>\n",
       "    </tr>\n",
       "    <tr>\n",
       "      <th>4</th>\n",
       "      <td>4</td>\n",
       "      <td>John G. Roberts, Jr.</td>\n",
       "    </tr>\n",
       "  </tbody>\n",
       "</table>\n",
       "</div>"
      ],
      "text/plain": [
       "   Unnamed: 0                     0\n",
       "0           0          Neil Gorsuch\n",
       "1           1           Elena Kagan\n",
       "2           2       Sonia Sotomayor\n",
       "3           3  Samuel A. Alito, Jr.\n",
       "4           4  John G. Roberts, Jr."
      ]
     },
     "execution_count": 84,
     "metadata": {},
     "output_type": "execute_result"
    }
   ],
   "source": [
    "df_just.head()"
   ]
  },
  {
   "cell_type": "code",
   "execution_count": 10,
   "metadata": {},
   "outputs": [],
   "source": [
    "df = df[df.decision != 'dismissal']"
   ]
  },
  {
   "cell_type": "code",
   "execution_count": 20,
   "metadata": {},
   "outputs": [],
   "source": [
    "df['pet_win'] = [len(i) != 2 for i in df.decision]"
   ]
  },
  {
   "cell_type": "code",
   "execution_count": 21,
   "metadata": {
    "scrolled": true
   },
   "outputs": [
    {
     "data": {
      "text/html": [
       "<div>\n",
       "<style>\n",
       "    .dataframe thead tr:only-child th {\n",
       "        text-align: right;\n",
       "    }\n",
       "\n",
       "    .dataframe thead th {\n",
       "        text-align: left;\n",
       "    }\n",
       "\n",
       "    .dataframe tbody tr th {\n",
       "        vertical-align: top;\n",
       "    }\n",
       "</style>\n",
       "<table border=\"1\" class=\"dataframe\">\n",
       "  <thead>\n",
       "    <tr style=\"text-align: right;\">\n",
       "      <th></th>\n",
       "      <th>Unnamed: 0</th>\n",
       "      <th>link_trans</th>\n",
       "      <th>docket</th>\n",
       "      <th>respondent</th>\n",
       "      <th>petitioner</th>\n",
       "      <th>pet_lawyer</th>\n",
       "      <th>resp_lawyer</th>\n",
       "      <th>decided</th>\n",
       "      <th>decision</th>\n",
       "      <th>justice_counts</th>\n",
       "      <th>speaker_verbage</th>\n",
       "      <th>case_link</th>\n",
       "      <th>pet_win</th>\n",
       "    </tr>\n",
       "  </thead>\n",
       "  <tbody>\n",
       "    <tr>\n",
       "      <th>0</th>\n",
       "      <td>0</td>\n",
       "      <td>https://apps.oyez.org/player/#/rehnquist5/oral...</td>\n",
       "      <td>89-1416</td>\n",
       "      <td>American Postal Workers Union, AFL-CIO</td>\n",
       "      <td>Air Courier Conference of America</td>\n",
       "      <td>Paul J. Larkin, Jr. on behalf of the Federal ...</td>\n",
       "      <td>Keith E. Secular on behalf of the Private Res...</td>\n",
       "      <td>Feb 26, 1991</td>\n",
       "      <td>Air Courier Conference of America</td>\n",
       "      <td>{Byron R. White: 2, Keith E. Secular: 45, L. P...</td>\n",
       "      <td>{L. Peter Farkas: u'0Mr. Chief Justice, and ma...</td>\n",
       "      <td>https://www.oyez.org/cases/1990/89-1416</td>\n",
       "      <td>True</td>\n",
       "    </tr>\n",
       "    <tr>\n",
       "      <th>1</th>\n",
       "      <td>1</td>\n",
       "      <td>https://apps.oyez.org/player/#/rehnquist5/oral...</td>\n",
       "      <td>89-1493</td>\n",
       "      <td>O'Neill</td>\n",
       "      <td>Air Line Pilots Association, International</td>\n",
       "      <td>Laurence E. Gold on behalf of the Petitioner</td>\n",
       "      <td>Marty Harper on behalf of the Respondents</td>\n",
       "      <td>Mar 19, 1991</td>\n",
       "      <td>Air Line Pilots Association, International</td>\n",
       "      <td>{Laurence E. Gold: 38, Byron R. White: 30, Joh...</td>\n",
       "      <td>{Laurence E. Gold: u'0Thank you, Mr. Chief Jus...</td>\n",
       "      <td>https://www.oyez.org/cases/1990/89-1493</td>\n",
       "      <td>True</td>\n",
       "    </tr>\n",
       "    <tr>\n",
       "      <th>2</th>\n",
       "      <td>2</td>\n",
       "      <td>https://apps.oyez.org/player/#/rehnquist5/oral...</td>\n",
       "      <td>90-97</td>\n",
       "      <td>National Labor Relations Board</td>\n",
       "      <td>American Hospital Association</td>\n",
       "      <td>James D. Holzhauer on behalf of the Petitioner</td>\n",
       "      <td>David L. Shapiro on behalf of the Respondents</td>\n",
       "      <td>Apr 23, 1991</td>\n",
       "      <td>[]</td>\n",
       "      <td>{nan: 2, Byron R. White: 52, John Paul Stevens...</td>\n",
       "      <td>{nan: u'0Well, yes they are.--I see.', James D...</td>\n",
       "      <td>https://www.oyez.org/cases/1990/90-97</td>\n",
       "      <td>False</td>\n",
       "    </tr>\n",
       "    <tr>\n",
       "      <th>3</th>\n",
       "      <td>3</td>\n",
       "      <td>https://apps.oyez.org/player/#/rehnquist4/oral...</td>\n",
       "      <td>89-1283</td>\n",
       "      <td>Ohio Power Company</td>\n",
       "      <td>Arcadia, Ohio</td>\n",
       "      <td>Lawrence G. Wallace as Federal Respondent in ...</td>\n",
       "      <td>Edward Berlin on behalf of the Respondents</td>\n",
       "      <td>Nov 27, 1990</td>\n",
       "      <td>Arcadia, Ohio</td>\n",
       "      <td>{Edward Berlin: 58, Byron R. White: 12, John P...</td>\n",
       "      <td>{William H. Rehnquist: u'0We'll hear argument ...</td>\n",
       "      <td>https://www.oyez.org/cases/1990/89-1283</td>\n",
       "      <td>True</td>\n",
       "    </tr>\n",
       "    <tr>\n",
       "      <th>4</th>\n",
       "      <td>4</td>\n",
       "      <td>https://apps.oyez.org/player/#/rehnquist5/oral...</td>\n",
       "      <td>89-839</td>\n",
       "      <td>Oreste Fulminante</td>\n",
       "      <td>Arizona</td>\n",
       "      <td>[]</td>\n",
       "      <td>[]</td>\n",
       "      <td>Mar 26, 1991</td>\n",
       "      <td>[]</td>\n",
       "      <td>{nan: 119, Paul J. Larkin, Jr.: 23, Barbara M....</td>\n",
       "      <td>{nan: u'0Will we need to decide both?Well, you...</td>\n",
       "      <td>https://www.oyez.org/cases/1990/89-839</td>\n",
       "      <td>False</td>\n",
       "    </tr>\n",
       "  </tbody>\n",
       "</table>\n",
       "</div>"
      ],
      "text/plain": [
       "   Unnamed: 0                                         link_trans     docket  \\\n",
       "0           0  https://apps.oyez.org/player/#/rehnquist5/oral...   89-1416    \n",
       "1           1  https://apps.oyez.org/player/#/rehnquist5/oral...   89-1493    \n",
       "2           2  https://apps.oyez.org/player/#/rehnquist5/oral...     90-97    \n",
       "3           3  https://apps.oyez.org/player/#/rehnquist4/oral...   89-1283    \n",
       "4           4  https://apps.oyez.org/player/#/rehnquist5/oral...    89-839    \n",
       "\n",
       "                                 respondent  \\\n",
       "0   American Postal Workers Union, AFL-CIO    \n",
       "1                                  O'Neill    \n",
       "2           National Labor Relations Board    \n",
       "3                       Ohio Power Company    \n",
       "4                        Oreste Fulminante    \n",
       "\n",
       "                                     petitioner  \\\n",
       "0            Air Courier Conference of America    \n",
       "1   Air Line Pilots Association, International    \n",
       "2                American Hospital Association    \n",
       "3                                Arcadia, Ohio    \n",
       "4                                      Arizona    \n",
       "\n",
       "                                          pet_lawyer  \\\n",
       "0   Paul J. Larkin, Jr. on behalf of the Federal ...   \n",
       "1      Laurence E. Gold on behalf of the Petitioner    \n",
       "2    James D. Holzhauer on behalf of the Petitioner    \n",
       "3   Lawrence G. Wallace as Federal Respondent in ...   \n",
       "4                                                 []   \n",
       "\n",
       "                                         resp_lawyer        decided  \\\n",
       "0   Keith E. Secular on behalf of the Private Res...  Feb 26, 1991    \n",
       "1         Marty Harper on behalf of the Respondents   Mar 19, 1991    \n",
       "2     David L. Shapiro on behalf of the Respondents   Apr 23, 1991    \n",
       "3        Edward Berlin on behalf of the Respondents   Nov 27, 1990    \n",
       "4                                                 []  Mar 26, 1991    \n",
       "\n",
       "                                     decision  \\\n",
       "0           Air Courier Conference of America   \n",
       "1  Air Line Pilots Association, International   \n",
       "2                                          []   \n",
       "3                               Arcadia, Ohio   \n",
       "4                                          []   \n",
       "\n",
       "                                      justice_counts  \\\n",
       "0  {Byron R. White: 2, Keith E. Secular: 45, L. P...   \n",
       "1  {Laurence E. Gold: 38, Byron R. White: 30, Joh...   \n",
       "2  {nan: 2, Byron R. White: 52, John Paul Stevens...   \n",
       "3  {Edward Berlin: 58, Byron R. White: 12, John P...   \n",
       "4  {nan: 119, Paul J. Larkin, Jr.: 23, Barbara M....   \n",
       "\n",
       "                                     speaker_verbage  \\\n",
       "0  {L. Peter Farkas: u'0Mr. Chief Justice, and ma...   \n",
       "1  {Laurence E. Gold: u'0Thank you, Mr. Chief Jus...   \n",
       "2  {nan: u'0Well, yes they are.--I see.', James D...   \n",
       "3  {William H. Rehnquist: u'0We'll hear argument ...   \n",
       "4  {nan: u'0Will we need to decide both?Well, you...   \n",
       "\n",
       "                                 case_link  pet_win  \n",
       "0  https://www.oyez.org/cases/1990/89-1416     True  \n",
       "1  https://www.oyez.org/cases/1990/89-1493     True  \n",
       "2    https://www.oyez.org/cases/1990/90-97    False  \n",
       "3  https://www.oyez.org/cases/1990/89-1283     True  \n",
       "4   https://www.oyez.org/cases/1990/89-839    False  "
      ]
     },
     "execution_count": 21,
     "metadata": {},
     "output_type": "execute_result"
    }
   ],
   "source": [
    "df.head()"
   ]
  },
  {
   "cell_type": "code",
   "execution_count": 85,
   "metadata": {},
   "outputs": [
    {
     "name": "stdout",
     "output_type": "stream",
     "text": [
      "Samuel A. Alito, Jr.\n",
      "John G. Roberts, Jr.\n",
      "Lewis F. Powell, Jr.\n",
      "William J. Brennan, Jr.\n",
      "Fred M. Vinson, Jr.\n",
      "Oliver W. Holmes, Jr.\n",
      "George Shiras, Jr.\n",
      "John Blair, Jr.\n"
     ]
    }
   ],
   "source": [
    "for x in df_just['0']:\n",
    "    if ',' in x:\n",
    "        print x\n",
    "# remove suffixes: ', Jr.',', III'"
   ]
  },
  {
   "cell_type": "code",
   "execution_count": 32,
   "metadata": {},
   "outputs": [],
   "source": [
    "data = df[df.case_link == 'https://www.oyez.org/cases/1990/89-1416']"
   ]
  },
  {
   "cell_type": "code",
   "execution_count": 33,
   "metadata": {},
   "outputs": [
    {
     "data": {
      "text/html": [
       "<div>\n",
       "<style>\n",
       "    .dataframe thead tr:only-child th {\n",
       "        text-align: right;\n",
       "    }\n",
       "\n",
       "    .dataframe thead th {\n",
       "        text-align: left;\n",
       "    }\n",
       "\n",
       "    .dataframe tbody tr th {\n",
       "        vertical-align: top;\n",
       "    }\n",
       "</style>\n",
       "<table border=\"1\" class=\"dataframe\">\n",
       "  <thead>\n",
       "    <tr style=\"text-align: right;\">\n",
       "      <th></th>\n",
       "      <th>Unnamed: 0</th>\n",
       "      <th>link_trans</th>\n",
       "      <th>docket</th>\n",
       "      <th>respondent</th>\n",
       "      <th>petitioner</th>\n",
       "      <th>pet_lawyer</th>\n",
       "      <th>resp_lawyer</th>\n",
       "      <th>decided</th>\n",
       "      <th>decision</th>\n",
       "      <th>justice_counts</th>\n",
       "      <th>speaker_verbage</th>\n",
       "      <th>case_link</th>\n",
       "      <th>pet_win</th>\n",
       "    </tr>\n",
       "  </thead>\n",
       "  <tbody>\n",
       "    <tr>\n",
       "      <th>0</th>\n",
       "      <td>0</td>\n",
       "      <td>https://apps.oyez.org/player/#/rehnquist5/oral...</td>\n",
       "      <td>89-1416</td>\n",
       "      <td>American Postal Workers Union, AFL-CIO</td>\n",
       "      <td>Air Courier Conference of America</td>\n",
       "      <td>Paul J. Larkin, Jr. on behalf of the Federal ...</td>\n",
       "      <td>Keith E. Secular on behalf of the Private Res...</td>\n",
       "      <td>Feb 26, 1991</td>\n",
       "      <td>Air Courier Conference of America</td>\n",
       "      <td>{Byron R. White: 2, Keith E. Secular: 45, L. P...</td>\n",
       "      <td>{L. Peter Farkas: u'0Mr. Chief Justice, and ma...</td>\n",
       "      <td>https://www.oyez.org/cases/1990/89-1416</td>\n",
       "      <td>True</td>\n",
       "    </tr>\n",
       "  </tbody>\n",
       "</table>\n",
       "</div>"
      ],
      "text/plain": [
       "   Unnamed: 0                                         link_trans     docket  \\\n",
       "0           0  https://apps.oyez.org/player/#/rehnquist5/oral...   89-1416    \n",
       "\n",
       "                                 respondent  \\\n",
       "0   American Postal Workers Union, AFL-CIO    \n",
       "\n",
       "                            petitioner  \\\n",
       "0   Air Courier Conference of America    \n",
       "\n",
       "                                          pet_lawyer  \\\n",
       "0   Paul J. Larkin, Jr. on behalf of the Federal ...   \n",
       "\n",
       "                                         resp_lawyer        decided  \\\n",
       "0   Keith E. Secular on behalf of the Private Res...  Feb 26, 1991    \n",
       "\n",
       "                            decision  \\\n",
       "0  Air Courier Conference of America   \n",
       "\n",
       "                                      justice_counts  \\\n",
       "0  {Byron R. White: 2, Keith E. Secular: 45, L. P...   \n",
       "\n",
       "                                     speaker_verbage  \\\n",
       "0  {L. Peter Farkas: u'0Mr. Chief Justice, and ma...   \n",
       "\n",
       "                                 case_link  pet_win  \n",
       "0  https://www.oyez.org/cases/1990/89-1416     True  "
      ]
     },
     "execution_count": 33,
     "metadata": {},
     "output_type": "execute_result"
    }
   ],
   "source": [
    "data"
   ]
  },
  {
   "cell_type": "code",
   "execution_count": 90,
   "metadata": {},
   "outputs": [],
   "source": [
    "def return_to_dict(series):\n",
    "    speaker_dict = {}\n",
    "    first_clean = series[0].replace('{','').replace('}','').replace(', Jr.','').replace(', III','')\n",
    "    for i in str(first_clean).split(','):\n",
    "        speaker_dict.update({i.split(':')[0]:int(i.split(':')[1])})\n",
    "    return speaker_dict\n"
   ]
  },
  {
   "cell_type": "code",
   "execution_count": 98,
   "metadata": {},
   "outputs": [
    {
     "ename": "IndexError",
     "evalue": "list index out of range",
     "output_type": "error",
     "traceback": [
      "\u001b[0;31m---------------------------------------------------------------------------\u001b[0m",
      "\u001b[0;31mIndexError\u001b[0m                                Traceback (most recent call last)",
      "\u001b[0;32m<ipython-input-98-18f59ba6a7a6>\u001b[0m in \u001b[0;36m<module>\u001b[0;34m()\u001b[0m\n\u001b[1;32m      1\u001b[0m \u001b[0;32mfor\u001b[0m \u001b[0mx\u001b[0m \u001b[0;32min\u001b[0m \u001b[0mdata\u001b[0m\u001b[0;34m.\u001b[0m\u001b[0mjustice_counts\u001b[0m\u001b[0;34m:\u001b[0m\u001b[0;34m\u001b[0m\u001b[0m\n\u001b[0;32m----> 2\u001b[0;31m     \u001b[0;32mprint\u001b[0m \u001b[0mreturn_to_dict\u001b[0m\u001b[0;34m(\u001b[0m\u001b[0mx\u001b[0m\u001b[0;34m)\u001b[0m\u001b[0;34m\u001b[0m\u001b[0m\n\u001b[0m",
      "\u001b[0;32m<ipython-input-90-708566a9b4c4>\u001b[0m in \u001b[0;36mreturn_to_dict\u001b[0;34m(series)\u001b[0m\n\u001b[1;32m      3\u001b[0m     \u001b[0mfirst_clean\u001b[0m \u001b[0;34m=\u001b[0m \u001b[0mseries\u001b[0m\u001b[0;34m[\u001b[0m\u001b[0;36m0\u001b[0m\u001b[0;34m]\u001b[0m\u001b[0;34m.\u001b[0m\u001b[0mreplace\u001b[0m\u001b[0;34m(\u001b[0m\u001b[0;34m'{'\u001b[0m\u001b[0;34m,\u001b[0m\u001b[0;34m''\u001b[0m\u001b[0;34m)\u001b[0m\u001b[0;34m.\u001b[0m\u001b[0mreplace\u001b[0m\u001b[0;34m(\u001b[0m\u001b[0;34m'}'\u001b[0m\u001b[0;34m,\u001b[0m\u001b[0;34m''\u001b[0m\u001b[0;34m)\u001b[0m\u001b[0;34m.\u001b[0m\u001b[0mreplace\u001b[0m\u001b[0;34m(\u001b[0m\u001b[0;34m', Jr.'\u001b[0m\u001b[0;34m,\u001b[0m\u001b[0;34m''\u001b[0m\u001b[0;34m)\u001b[0m\u001b[0;34m.\u001b[0m\u001b[0mreplace\u001b[0m\u001b[0;34m(\u001b[0m\u001b[0;34m', III'\u001b[0m\u001b[0;34m,\u001b[0m\u001b[0;34m''\u001b[0m\u001b[0;34m)\u001b[0m\u001b[0;34m\u001b[0m\u001b[0m\n\u001b[1;32m      4\u001b[0m     \u001b[0;32mfor\u001b[0m \u001b[0mi\u001b[0m \u001b[0;32min\u001b[0m \u001b[0mstr\u001b[0m\u001b[0;34m(\u001b[0m\u001b[0mfirst_clean\u001b[0m\u001b[0;34m)\u001b[0m\u001b[0;34m.\u001b[0m\u001b[0msplit\u001b[0m\u001b[0;34m(\u001b[0m\u001b[0;34m','\u001b[0m\u001b[0;34m)\u001b[0m\u001b[0;34m:\u001b[0m\u001b[0;34m\u001b[0m\u001b[0m\n\u001b[0;32m----> 5\u001b[0;31m         \u001b[0mspeaker_dict\u001b[0m\u001b[0;34m.\u001b[0m\u001b[0mupdate\u001b[0m\u001b[0;34m(\u001b[0m\u001b[0;34m{\u001b[0m\u001b[0mi\u001b[0m\u001b[0;34m.\u001b[0m\u001b[0msplit\u001b[0m\u001b[0;34m(\u001b[0m\u001b[0;34m':'\u001b[0m\u001b[0;34m)\u001b[0m\u001b[0;34m[\u001b[0m\u001b[0;36m0\u001b[0m\u001b[0;34m]\u001b[0m\u001b[0;34m:\u001b[0m\u001b[0mint\u001b[0m\u001b[0;34m(\u001b[0m\u001b[0mi\u001b[0m\u001b[0;34m.\u001b[0m\u001b[0msplit\u001b[0m\u001b[0;34m(\u001b[0m\u001b[0;34m':'\u001b[0m\u001b[0;34m)\u001b[0m\u001b[0;34m[\u001b[0m\u001b[0;36m1\u001b[0m\u001b[0;34m]\u001b[0m\u001b[0;34m)\u001b[0m\u001b[0;34m}\u001b[0m\u001b[0;34m)\u001b[0m\u001b[0;34m\u001b[0m\u001b[0m\n\u001b[0m\u001b[1;32m      6\u001b[0m     \u001b[0;32mreturn\u001b[0m \u001b[0mspeaker_dict\u001b[0m\u001b[0;34m\u001b[0m\u001b[0m\n",
      "\u001b[0;31mIndexError\u001b[0m: list index out of range"
     ]
    }
   ],
   "source": []
  },
  {
   "cell_type": "code",
   "execution_count": 71,
   "metadata": {},
   "outputs": [
    {
     "name": "stderr",
     "output_type": "stream",
     "text": [
      "/Users/luciamelby/anaconda2/lib/python2.7/site-packages/ipykernel_launcher.py:1: SettingWithCopyWarning: \n",
      "A value is trying to be set on a copy of a slice from a DataFrame\n",
      "\n",
      "See the caveats in the documentation: http://pandas.pydata.org/pandas-docs/stable/indexing.html#indexing-view-versus-copy\n",
      "  \"\"\"Entry point for launching an IPython kernel.\n"
     ]
    }
   ],
   "source": [
    "data.justice_counts[0] = data.justice_counts[0].replace('{','').replace('}','').replace(', Jr.','')"
   ]
  },
  {
   "cell_type": "code",
   "execution_count": 79,
   "metadata": {},
   "outputs": [],
   "source": [
    "speaker_dict = {}\n",
    "for i in str(data.justice_counts[0]).split(','):\n",
    "    speaker_dict.update({i.split(':')[0]:int(i.split(':')[1])})\n"
   ]
  },
  {
   "cell_type": "code",
   "execution_count": 80,
   "metadata": {},
   "outputs": [
    {
     "data": {
      "text/plain": [
       "11"
      ]
     },
     "execution_count": 80,
     "metadata": {},
     "output_type": "execute_result"
    }
   ],
   "source": [
    "speaker_dict[' L. Peter Farkas']"
   ]
  },
  {
   "cell_type": "code",
   "execution_count": 95,
   "metadata": {},
   "outputs": [
    {
     "ename": "IndexError",
     "evalue": "list index out of range",
     "output_type": "error",
     "traceback": [
      "\u001b[0;31m---------------------------------------------------------------------------\u001b[0m",
      "\u001b[0;31mIndexError\u001b[0m                                Traceback (most recent call last)",
      "\u001b[0;32m<ipython-input-95-77bf6c505ace>\u001b[0m in \u001b[0;36m<module>\u001b[0;34m()\u001b[0m\n\u001b[0;32m----> 1\u001b[0;31m \u001b[0mdata\u001b[0m\u001b[0;34m.\u001b[0m\u001b[0mjustice_counts\u001b[0m\u001b[0;34m.\u001b[0m\u001b[0mapply\u001b[0m\u001b[0;34m(\u001b[0m\u001b[0mreturn_to_dict\u001b[0m\u001b[0;34m)\u001b[0m\u001b[0;34m\u001b[0m\u001b[0m\n\u001b[0m",
      "\u001b[0;32m/Users/luciamelby/anaconda2/lib/python2.7/site-packages/pandas/core/series.pyc\u001b[0m in \u001b[0;36mapply\u001b[0;34m(self, func, convert_dtype, args, **kwds)\u001b[0m\n\u001b[1;32m   2353\u001b[0m             \u001b[0;32melse\u001b[0m\u001b[0;34m:\u001b[0m\u001b[0;34m\u001b[0m\u001b[0m\n\u001b[1;32m   2354\u001b[0m                 \u001b[0mvalues\u001b[0m \u001b[0;34m=\u001b[0m \u001b[0mself\u001b[0m\u001b[0;34m.\u001b[0m\u001b[0masobject\u001b[0m\u001b[0;34m\u001b[0m\u001b[0m\n\u001b[0;32m-> 2355\u001b[0;31m                 \u001b[0mmapped\u001b[0m \u001b[0;34m=\u001b[0m \u001b[0mlib\u001b[0m\u001b[0;34m.\u001b[0m\u001b[0mmap_infer\u001b[0m\u001b[0;34m(\u001b[0m\u001b[0mvalues\u001b[0m\u001b[0;34m,\u001b[0m \u001b[0mf\u001b[0m\u001b[0;34m,\u001b[0m \u001b[0mconvert\u001b[0m\u001b[0;34m=\u001b[0m\u001b[0mconvert_dtype\u001b[0m\u001b[0;34m)\u001b[0m\u001b[0;34m\u001b[0m\u001b[0m\n\u001b[0m\u001b[1;32m   2356\u001b[0m \u001b[0;34m\u001b[0m\u001b[0m\n\u001b[1;32m   2357\u001b[0m         \u001b[0;32mif\u001b[0m \u001b[0mlen\u001b[0m\u001b[0;34m(\u001b[0m\u001b[0mmapped\u001b[0m\u001b[0;34m)\u001b[0m \u001b[0;32mand\u001b[0m \u001b[0misinstance\u001b[0m\u001b[0;34m(\u001b[0m\u001b[0mmapped\u001b[0m\u001b[0;34m[\u001b[0m\u001b[0;36m0\u001b[0m\u001b[0;34m]\u001b[0m\u001b[0;34m,\u001b[0m \u001b[0mSeries\u001b[0m\u001b[0;34m)\u001b[0m\u001b[0;34m:\u001b[0m\u001b[0;34m\u001b[0m\u001b[0m\n",
      "\u001b[0;32mpandas/_libs/src/inference.pyx\u001b[0m in \u001b[0;36mpandas._libs.lib.map_infer (pandas/_libs/lib.c:66645)\u001b[0;34m()\u001b[0m\n",
      "\u001b[0;32m<ipython-input-90-708566a9b4c4>\u001b[0m in \u001b[0;36mreturn_to_dict\u001b[0;34m(series)\u001b[0m\n\u001b[1;32m      3\u001b[0m     \u001b[0mfirst_clean\u001b[0m \u001b[0;34m=\u001b[0m \u001b[0mseries\u001b[0m\u001b[0;34m[\u001b[0m\u001b[0;36m0\u001b[0m\u001b[0;34m]\u001b[0m\u001b[0;34m.\u001b[0m\u001b[0mreplace\u001b[0m\u001b[0;34m(\u001b[0m\u001b[0;34m'{'\u001b[0m\u001b[0;34m,\u001b[0m\u001b[0;34m''\u001b[0m\u001b[0;34m)\u001b[0m\u001b[0;34m.\u001b[0m\u001b[0mreplace\u001b[0m\u001b[0;34m(\u001b[0m\u001b[0;34m'}'\u001b[0m\u001b[0;34m,\u001b[0m\u001b[0;34m''\u001b[0m\u001b[0;34m)\u001b[0m\u001b[0;34m.\u001b[0m\u001b[0mreplace\u001b[0m\u001b[0;34m(\u001b[0m\u001b[0;34m', Jr.'\u001b[0m\u001b[0;34m,\u001b[0m\u001b[0;34m''\u001b[0m\u001b[0;34m)\u001b[0m\u001b[0;34m.\u001b[0m\u001b[0mreplace\u001b[0m\u001b[0;34m(\u001b[0m\u001b[0;34m', III'\u001b[0m\u001b[0;34m,\u001b[0m\u001b[0;34m''\u001b[0m\u001b[0;34m)\u001b[0m\u001b[0;34m\u001b[0m\u001b[0m\n\u001b[1;32m      4\u001b[0m     \u001b[0;32mfor\u001b[0m \u001b[0mi\u001b[0m \u001b[0;32min\u001b[0m \u001b[0mstr\u001b[0m\u001b[0;34m(\u001b[0m\u001b[0mfirst_clean\u001b[0m\u001b[0;34m)\u001b[0m\u001b[0;34m.\u001b[0m\u001b[0msplit\u001b[0m\u001b[0;34m(\u001b[0m\u001b[0;34m','\u001b[0m\u001b[0;34m)\u001b[0m\u001b[0;34m:\u001b[0m\u001b[0;34m\u001b[0m\u001b[0m\n\u001b[0;32m----> 5\u001b[0;31m         \u001b[0mspeaker_dict\u001b[0m\u001b[0;34m.\u001b[0m\u001b[0mupdate\u001b[0m\u001b[0;34m(\u001b[0m\u001b[0;34m{\u001b[0m\u001b[0mi\u001b[0m\u001b[0;34m.\u001b[0m\u001b[0msplit\u001b[0m\u001b[0;34m(\u001b[0m\u001b[0;34m':'\u001b[0m\u001b[0;34m)\u001b[0m\u001b[0;34m[\u001b[0m\u001b[0;36m0\u001b[0m\u001b[0;34m]\u001b[0m\u001b[0;34m:\u001b[0m\u001b[0mint\u001b[0m\u001b[0;34m(\u001b[0m\u001b[0mi\u001b[0m\u001b[0;34m.\u001b[0m\u001b[0msplit\u001b[0m\u001b[0;34m(\u001b[0m\u001b[0;34m':'\u001b[0m\u001b[0;34m)\u001b[0m\u001b[0;34m[\u001b[0m\u001b[0;36m1\u001b[0m\u001b[0;34m]\u001b[0m\u001b[0;34m)\u001b[0m\u001b[0;34m}\u001b[0m\u001b[0;34m)\u001b[0m\u001b[0;34m\u001b[0m\u001b[0m\n\u001b[0m\u001b[1;32m      6\u001b[0m     \u001b[0;32mreturn\u001b[0m \u001b[0mspeaker_dict\u001b[0m\u001b[0;34m\u001b[0m\u001b[0m\n",
      "\u001b[0;31mIndexError\u001b[0m: list index out of range"
     ]
    }
   ],
   "source": [
    "data.justice_counts.apply(return_to_dict)"
   ]
  },
  {
   "cell_type": "code",
   "execution_count": 100,
   "metadata": {},
   "outputs": [],
   "source": []
  },
  {
   "cell_type": "code",
   "execution_count": null,
   "metadata": {},
   "outputs": [],
   "source": []
  },
  {
   "cell_type": "code",
   "execution_count": null,
   "metadata": {
    "collapsed": true
   },
   "outputs": [],
   "source": []
  }
 ],
 "metadata": {
  "kernelspec": {
   "display_name": "Python 2",
   "language": "python",
   "name": "python2"
  },
  "language_info": {
   "codemirror_mode": {
    "name": "ipython",
    "version": 2
   },
   "file_extension": ".py",
   "mimetype": "text/x-python",
   "name": "python",
   "nbconvert_exporter": "python",
   "pygments_lexer": "ipython2",
   "version": "2.7.13"
  }
 },
 "nbformat": 4,
 "nbformat_minor": 2
}
