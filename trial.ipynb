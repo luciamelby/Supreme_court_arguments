{
 "cells": [
  {
   "cell_type": "markdown",
   "metadata": {},
   "source": [
    "# Supreme Court Oral Arguments\n",
    "\n",
    "The goal of this project was to look at transcripts of the oral arguments in supreme court cases and examine if there was correlation between words/phrases and whether or not the court will vote in favor of the petitioner.  The text includes questions from the justices, and the oral arguments and answers from both the petitioner and the respondent.\n",
    "\n",
    "The metrics are the words in the oral argument texts.  Stop words from NLTK are removed as well as common words and phases.  The next logical step would be to separate the questions and the oral arguments from each party into separate variables.  Also the number of questions asked by each justice and the justices hearing the case would be interesting metrics to examine.  The most time consuming part of the project was collecting the data and keeping the data for each case aligned.\n",
    "\n",
    "The data is split into 80/20 train/test split.  Both the train and test data is passed through the sklearn count vectorizer, using a n-gram range of 1-3, in order for the words not included in the test data to be variables in the evaluation of the test data. Baseline for the data is 0.651. The attempt at modeling the data was a standard logistic regression and multinomial naive bayes.  \n",
    "\n",
    "The logistic regression model was evaluated using cross validation on the test data with 5 folds.  The mean of the cross validation score is 0.583.  The next step is a multinomial Naive Bayes model.  The accuracy score for the model is 0.614 and the 5 fold cross validated score is 0.667.  \n",
    "\n",
    "Since the first 2 models do not improve upon baseline, common phrases and words are added to the stop word list based on the most common n-grams.  The logistic regression and multinomial naive bales are run on the new words list.  The new mean cross validated 5 fold score for logistic regression is 0.634 and for naive bases is 0.646.  The results are not different enough from the first models to matter.  However, the 10 words with the highest coefficients for the logistic regression model for 1, 2, and 3 word combinations are in the next cell.\n",
    "\n",
    "The next step was to look at decision tree classifiers and ensemble methods.  The results for these models are at the end of this notebook.  The ensemble methods are not any better than the logistic regression model."
   ]
  },
  {
   "cell_type": "code",
   "execution_count": 294,
   "metadata": {
    "scrolled": true
   },
   "outputs": [
    {
     "data": {
      "text/html": [
       "<div>\n",
       "<style>\n",
       "    .dataframe thead tr:only-child th {\n",
       "        text-align: right;\n",
       "    }\n",
       "\n",
       "    .dataframe thead th {\n",
       "        text-align: left;\n",
       "    }\n",
       "\n",
       "    .dataframe tbody tr th {\n",
       "        vertical-align: top;\n",
       "    }\n",
       "</style>\n",
       "<table border=\"1\" class=\"dataframe\">\n",
       "  <thead>\n",
       "    <tr style=\"text-align: right;\">\n",
       "      <th></th>\n",
       "      <th>0</th>\n",
       "      <th>1</th>\n",
       "      <th>2</th>\n",
       "      <th>3</th>\n",
       "      <th>4</th>\n",
       "      <th>5</th>\n",
       "      <th>6</th>\n",
       "      <th>7</th>\n",
       "      <th>8</th>\n",
       "      <th>9</th>\n",
       "    </tr>\n",
       "  </thead>\n",
       "  <tbody>\n",
       "    <tr>\n",
       "      <th>0</th>\n",
       "      <td>proceedings</td>\n",
       "      <td>habeas</td>\n",
       "      <td>prior</td>\n",
       "      <td>corpus</td>\n",
       "      <td>south</td>\n",
       "      <td>number</td>\n",
       "      <td>bankruptcy</td>\n",
       "      <td>illinois</td>\n",
       "      <td>third</td>\n",
       "      <td>agency</td>\n",
       "    </tr>\n",
       "    <tr>\n",
       "      <th>1</th>\n",
       "      <td>ninth circuit</td>\n",
       "      <td>corpus proceedings</td>\n",
       "      <td>south carolina</td>\n",
       "      <td>williamson county</td>\n",
       "      <td>habeas corpus</td>\n",
       "      <td>scope employment</td>\n",
       "      <td>sixth circuit</td>\n",
       "      <td>death penalty</td>\n",
       "      <td>ten commandments</td>\n",
       "      <td>writs act</td>\n",
       "    </tr>\n",
       "    <tr>\n",
       "      <th>2</th>\n",
       "      <td>habeas corpus proceedings</td>\n",
       "      <td>subject matter jurisdiction</td>\n",
       "      <td>ninth circuit decision</td>\n",
       "      <td>state law claims</td>\n",
       "      <td>clearly established law</td>\n",
       "      <td>sixth amendment right</td>\n",
       "      <td>per se rule</td>\n",
       "      <td>reserve remainder time</td>\n",
       "      <td>major life activity</td>\n",
       "      <td>federal common law</td>\n",
       "    </tr>\n",
       "  </tbody>\n",
       "</table>\n",
       "</div>"
      ],
      "text/plain": [
       "                           0                            1  \\\n",
       "0                proceedings                       habeas   \n",
       "1              ninth circuit           corpus proceedings   \n",
       "2  habeas corpus proceedings  subject matter jurisdiction   \n",
       "\n",
       "                        2                  3                        4  \\\n",
       "0                   prior             corpus                    south   \n",
       "1          south carolina  williamson county            habeas corpus   \n",
       "2  ninth circuit decision   state law claims  clearly established law   \n",
       "\n",
       "                       5              6                       7  \\\n",
       "0                 number     bankruptcy                illinois   \n",
       "1       scope employment  sixth circuit           death penalty   \n",
       "2  sixth amendment right    per se rule  reserve remainder time   \n",
       "\n",
       "                     8                   9  \n",
       "0                third              agency  \n",
       "1     ten commandments           writs act  \n",
       "2  major life activity  federal common law  "
      ]
     },
     "execution_count": 294,
     "metadata": {},
     "output_type": "execute_result"
    },
    {
     "name": "stdout",
     "output_type": "stream",
     "text": [
      "time: 17.8 ms\n"
     ]
    }
   ],
   "source": [
    "gram_df"
   ]
  },
  {
   "cell_type": "markdown",
   "metadata": {},
   "source": []
  },
  {
   "cell_type": "code",
   "execution_count": 1,
   "metadata": {
    "collapsed": true
   },
   "outputs": [],
   "source": [
    "import pandas as pd\n",
    "import numpy as np\n",
    "import requests\n",
    "from bs4 import BeautifulSoup\n",
    "from selenium import webdriver\n",
    "from time import sleep\n",
    "\n",
    "%load_ext autotime"
   ]
  },
  {
   "cell_type": "code",
   "execution_count": null,
   "metadata": {
    "collapsed": true
   },
   "outputs": [],
   "source": []
  },
  {
   "cell_type": "markdown",
   "metadata": {},
   "source": [
    "## Data Collection\n",
    "Supreme Court case information collected from www.oyez.org using selenium to navigate the webpages and beautiful soup to extract the data. \n",
    "\n",
    "________________________________________"
   ]
  },
  {
   "cell_type": "markdown",
   "metadata": {},
   "source": [
    "Use a range of years to create list of urls to search over"
   ]
  },
  {
   "cell_type": "code",
   "execution_count": 85,
   "metadata": {
    "scrolled": true
   },
   "outputs": [
    {
     "name": "stdout",
     "output_type": "stream",
     "text": [
      "time: 1.9 ms\n"
     ]
    }
   ],
   "source": [
    "years = range(2000,2015)\n",
    "urls = []\n",
    "for year in years:\n",
    "    url = 'https://www.oyez.org/cases/' + str(year)\n",
    "    urls.append(url)"
   ]
  },
  {
   "cell_type": "markdown",
   "metadata": {},
   "source": [
    "Get HTML from each year/term page and retreive links for each case"
   ]
  },
  {
   "cell_type": "code",
   "execution_count": 79,
   "metadata": {
    "collapsed": true
   },
   "outputs": [],
   "source": [
    "htmls = []\n",
    "driver = webdriver.Chrome(executable_path=\"./chromedriver/chromedriver\")\n",
    "for url in urls:    \n",
    "    driver.get(url)\n",
    "    sleep(1)\n",
    "    html = driver.page_source\n",
    "    htmls.append(html)"
   ]
  },
  {
   "cell_type": "code",
   "execution_count": 80,
   "metadata": {
    "collapsed": true
   },
   "outputs": [],
   "source": [
    "#close webdriver\n",
    "driver.close()"
   ]
  },
  {
   "cell_type": "code",
   "execution_count": 81,
   "metadata": {
    "collapsed": true
   },
   "outputs": [],
   "source": [
    "#beautiful soup the html\n",
    "soups = []\n",
    "for html in htmls:\n",
    "    soup = BeautifulSoup(html, 'lxml')\n",
    "    soups.append(soup)"
   ]
  },
  {
   "cell_type": "code",
   "execution_count": 87,
   "metadata": {},
   "outputs": [
    {
     "name": "stdout",
     "output_type": "stream",
     "text": [
      "time: 525 ms\n"
     ]
    }
   ],
   "source": [
    "#extract the urls for the court cases on each page\n",
    "case_links = []\n",
    "for soup in soups:\n",
    "    for i in soup.find_all('a', href=True):\n",
    "        if len(i['href'])>10 and 'cases/' in i['href']:            \n",
    "            case_links.append('https://www.oyez.org/' + i['href'])"
   ]
  },
  {
   "cell_type": "code",
   "execution_count": 88,
   "metadata": {},
   "outputs": [
    {
     "name": "stdout",
     "output_type": "stream",
     "text": [
      "time: 1.37 ms\n"
     ]
    }
   ],
   "source": [
    "#convert to series in order to remove non case links\n",
    "case_series = pd.Series(case_links)"
   ]
  },
  {
   "cell_type": "code",
   "execution_count": 89,
   "metadata": {},
   "outputs": [
    {
     "name": "stdout",
     "output_type": "stream",
     "text": [
      "time: 3.37 ms\n"
     ]
    }
   ],
   "source": [
    "#drop duplicates\n",
    "case_series.drop_duplicates(inplace=True)"
   ]
  },
  {
   "cell_type": "code",
   "execution_count": 90,
   "metadata": {},
   "outputs": [
    {
     "name": "stdout",
     "output_type": "stream",
     "text": [
      "time: 1.14 ms\n"
     ]
    }
   ],
   "source": [
    "#save only case links\n",
    "case_series = case_series[4:]"
   ]
  },
  {
   "cell_type": "markdown",
   "metadata": {},
   "source": [
    "## Main data scrape\n",
    "Navigate to each case page.  Save the page HTML the navigate to each audio file link and save HTML.  Save all information related to each case in one list.  "
   ]
  },
  {
   "cell_type": "code",
   "execution_count": 91,
   "metadata": {},
   "outputs": [
    {
     "name": "stdout",
     "output_type": "stream",
     "text": [
      "https://apps.oyez.org/player/#/rehnquist10/oral_argument_audio/22757\n",
      "https://apps.oyez.org/player/#/rehnquist10/oral_argument_audio/22864\n",
      "https://apps.oyez.org/player/#/rehnquist10/oral_argument_audio/21446\n",
      "https://apps.oyez.org/player/#/rehnquist10/oral_argument_audio/22074\n",
      "https://apps.oyez.org/player/#/rehnquist10/oral_argument_audio/21413\n",
      "https://apps.oyez.org/player/#/rehnquist10/oral_argument_audio/22162\n",
      "https://apps.oyez.org/player/#/rehnquist10/oral_argument_audio/22528\n",
      "https://apps.oyez.org/player/#/rehnquist10/oral_argument_audio/21796\n",
      "https://apps.oyez.org/player/#/rehnquist10/oral_argument_audio/21541\n",
      "https://apps.oyez.org/player/#/rehnquist10/oral_argument_audio/22698\n",
      "https://apps.oyez.org/player/#/rehnquist10/oral_argument_audio/22682\n",
      "https://apps.oyez.org/player/#/rehnquist10/oral_argument_audio/22883\n",
      "https://apps.oyez.org/player/#/rehnquist10/oral_argument_audio/22006\n",
      "https://apps.oyez.org/player/#/rehnquist10/oral_argument_audio/22571\n",
      "https://apps.oyez.org/player/#/rehnquist10/oral_argument_audio/22370\n",
      "https://apps.oyez.org/player/#/rehnquist10/oral_argument_audio/21985\n",
      "https://apps.oyez.org/player/#/rehnquist10/oral_argument_audio/21477\n",
      "https://apps.oyez.org/player/#/rehnquist10/oral_argument_audio/21435\n",
      "https://apps.oyez.org/player/#/rehnquist10/oral_argument_audio/21311\n",
      "https://apps.oyez.org/player/#/rehnquist10/oral_argument_audio/22867\n",
      "https://apps.oyez.org/player/#/rehnquist10/oral_argument_audio/21911\n",
      "https://apps.oyez.org/player/#/rehnquist10/oral_argument_audio/21294\n",
      "https://apps.oyez.org/player/#/rehnquist10/oral_argument_audio/22313\n",
      "https://apps.oyez.org/player/#/rehnquist10/oral_argument_audio/21828\n",
      "https://apps.oyez.org/player/#/rehnquist10/oral_argument_audio/21358\n",
      "https://apps.oyez.org/player/#/rehnquist10/oral_argument_audio/23094\n",
      "https://apps.oyez.org/player/#/rehnquist10/oral_argument_audio/22005\n",
      "https://apps.oyez.org/player/#/rehnquist10/oral_argument_audio/22411\n",
      "https://apps.oyez.org/player/#/rehnquist10/oral_argument_audio/22251\n",
      "https://apps.oyez.org/player/#/rehnquist10/oral_argument_audio/22771\n",
      "https://apps.oyez.org/player/#/rehnquist10/oral_argument_audio/21452\n",
      "https://apps.oyez.org/player/#/rehnquist10/oral_argument_audio/22240\n",
      "https://apps.oyez.org/player/#/rehnquist10/oral_argument_audio/21568\n",
      "https://apps.oyez.org/player/#/rehnquist10/oral_argument_audio/21884\n",
      "https://apps.oyez.org/player/#/rehnquist10/oral_argument_audio/22697\n",
      "https://apps.oyez.org/player/#/rehnquist10/oral_argument_audio/22492\n",
      "https://apps.oyez.org/player/#/rehnquist10/oral_argument_audio/21778\n",
      "https://apps.oyez.org/player/#/rehnquist10/oral_argument_audio/21839\n",
      "https://apps.oyez.org/player/#/rehnquist10/oral_argument_audio/22584\n",
      "https://apps.oyez.org/player/#/rehnquist10/oral_argument_audio/21355\n",
      "https://apps.oyez.org/player/#/rehnquist10/oral_argument_audio/22888\n",
      "https://apps.oyez.org/player/#/rehnquist10/oral_argument_audio/21807\n",
      "https://apps.oyez.org/player/#/rehnquist10/oral_argument_audio/22003\n",
      "https://apps.oyez.org/player/#/rehnquist10/oral_argument_audio/22329\n",
      "https://apps.oyez.org/player/#/rehnquist10/oral_argument_audio/21737\n",
      "https://apps.oyez.org/player/#/rehnquist10/oral_argument_audio/22581\n",
      "https://apps.oyez.org/player/#/rehnquist10/oral_argument_audio/21837\n",
      "https://apps.oyez.org/player/#/rehnquist10/oral_argument_audio/23134\n",
      "https://apps.oyez.org/player/#/rehnquist10/oral_argument_audio/22320\n",
      "https://apps.oyez.org/player/#/rehnquist10/oral_argument_audio/22286\n",
      "https://apps.oyez.org/player/#/rehnquist10/oral_argument_audio/22722\n",
      "https://apps.oyez.org/player/#/rehnquist10/oral_argument_audio/21866\n",
      "https://apps.oyez.org/player/#/rehnquist10/oral_argument_audio/22023\n",
      "https://apps.oyez.org/player/#/rehnquist10/oral_argument_audio/22081\n",
      "https://apps.oyez.org/player/#/rehnquist10/oral_argument_audio/22753\n",
      "https://apps.oyez.org/player/#/rehnquist10/oral_argument_audio/21691\n",
      "https://apps.oyez.org/player/#/rehnquist10/oral_argument_audio/22088\n",
      "https://apps.oyez.org/player/#/rehnquist10/oral_argument_audio/21887\n",
      "https://apps.oyez.org/player/#/rehnquist10/oral_argument_audio/21720\n",
      "https://apps.oyez.org/player/#/rehnquist10/oral_argument_audio/21517\n",
      "https://apps.oyez.org/player/#/rehnquist10/oral_argument_audio/22319\n",
      "https://apps.oyez.org/player/#/rehnquist10/oral_argument_audio/22489\n",
      "https://apps.oyez.org/player/#/rehnquist10/oral_argument_audio/21942\n",
      "https://apps.oyez.org/player/#/rehnquist10/oral_argument_audio/21636\n",
      "https://apps.oyez.org/player/#/rehnquist10/oral_argument_audio/21968\n",
      "https://apps.oyez.org/player/#/rehnquist10/oral_argument_audio/22458\n",
      "https://apps.oyez.org/player/#/rehnquist10/oral_argument_audio/21572\n",
      "https://apps.oyez.org/player/#/rehnquist10/oral_argument_audio/22158\n",
      "https://apps.oyez.org/player/#/rehnquist10/oral_argument_audio/22865\n",
      "https://apps.oyez.org/player/#/rehnquist10/oral_argument_audio/22517\n",
      "https://apps.oyez.org/player/#/rehnquist10/oral_argument_audio/22529\n",
      "https://apps.oyez.org/player/#/rehnquist10/oral_argument_audio/23122\n",
      "https://apps.oyez.org/player/#/rehnquist10/oral_argument_audio/23003\n",
      "https://apps.oyez.org/player/#/rehnquist10/oral_argument_audio/22948\n",
      "https://apps.oyez.org/player/#/rehnquist10/oral_argument_audio/22560\n",
      "https://apps.oyez.org/player/#/rehnquist10/oral_argument_audio/23498\n",
      "https://apps.oyez.org/player/#/rehnquist10/oral_argument_audio/22721\n",
      "https://apps.oyez.org/player/#/rehnquist10/oral_argument_audio/21448\n",
      "https://apps.oyez.org/player/#/rehnquist10/oral_argument_audio/22788\n",
      "https://apps.oyez.org/player/#/rehnquist10/oral_argument_audio/21372\n",
      "https://apps.oyez.org/player/#/rehnquist10/oral_argument_audio/23138\n",
      "https://apps.oyez.org/player/#/rehnquist10/oral_argument_audio/22128\n",
      "https://apps.oyez.org/player/#/rehnquist10/oral_argument_audio/22826\n",
      "https://apps.oyez.org/player/#/rehnquist10/oral_argument_audio/21464\n",
      "https://apps.oyez.org/player/#/rehnquist10/oral_argument_audio/22390\n",
      "https://apps.oyez.org/player/#/rehnquist10/oral_argument_audio/23488\n",
      "https://apps.oyez.org/player/#/rehnquist10/oral_argument_audio/22577\n",
      "https://apps.oyez.org/player/#/rehnquist10/oral_argument_audio/22804\n",
      "https://apps.oyez.org/player/#/rehnquist10/oral_argument_audio/21524\n",
      "https://apps.oyez.org/player/#/rehnquist10/oral_argument_audio/21456\n",
      "https://apps.oyez.org/player/#/rehnquist10/oral_argument_audio/21306\n",
      "https://apps.oyez.org/player/#/rehnquist10/oral_argument_audio/22912\n",
      "https://apps.oyez.org/player/#/rehnquist10/oral_argument_audio/21585\n",
      "https://apps.oyez.org/player/#/rehnquist10/oral_argument_audio/22066\n",
      "https://apps.oyez.org/player/#/rehnquist10/oral_argument_audio/23067\n",
      "https://apps.oyez.org/player/#/rehnquist10/oral_argument_audio/23124\n",
      "https://apps.oyez.org/player/#/rehnquist10/oral_argument_audio/22983\n",
      "https://apps.oyez.org/player/#/rehnquist10/oral_argument_audio/21717\n",
      "https://apps.oyez.org/player/#/rehnquist10/oral_argument_audio/22278\n",
      "https://apps.oyez.org/player/#/rehnquist10/oral_argument_audio/22322\n",
      "https://apps.oyez.org/player/#/rehnquist10/oral_argument_audio/21345\n",
      "https://apps.oyez.org/player/#/rehnquist10/oral_argument_audio/23191\n",
      "https://apps.oyez.org/player/#/rehnquist10/oral_argument_audio/23605\n",
      "https://apps.oyez.org/player/#/rehnquist10/oral_argument_audio/21457\n",
      "https://apps.oyez.org/player/#/rehnquist10/oral_argument_audio/22007\n",
      "https://apps.oyez.org/player/#/rehnquist10/oral_argument_audio/22512\n",
      "https://apps.oyez.org/player/#/rehnquist10/oral_argument_audio/21628\n",
      "https://apps.oyez.org/player/#/rehnquist10/oral_argument_audio/22428\n",
      "https://apps.oyez.org/player/#/rehnquist10/oral_argument_audio/23018\n",
      "https://apps.oyez.org/player/#/rehnquist10/oral_argument_audio/23617\n",
      "https://apps.oyez.org/player/#/rehnquist10/oral_argument_audio/21309\n",
      "https://apps.oyez.org/player/#/rehnquist10/oral_argument_audio/23510\n",
      "https://apps.oyez.org/player/#/rehnquist10/oral_argument_audio/22976\n",
      "https://apps.oyez.org/player/#/rehnquist10/oral_argument_audio/22625\n",
      "https://apps.oyez.org/player/#/rehnquist10/oral_argument_audio/22265\n",
      "https://apps.oyez.org/player/#/rehnquist10/oral_argument_audio/23119\n",
      "https://apps.oyez.org/player/#/rehnquist10/oral_argument_audio/22597\n",
      "https://apps.oyez.org/player/#/rehnquist10/oral_argument_audio/21776\n",
      "https://apps.oyez.org/player/#/rehnquist10/oral_argument_audio/21863\n"
     ]
    },
    {
     "name": "stdout",
     "output_type": "stream",
     "text": [
      "https://apps.oyez.org/player/#/rehnquist10/oral_argument_audio/22567\n",
      "https://apps.oyez.org/player/#/rehnquist10/oral_argument_audio/22813\n",
      "https://apps.oyez.org/player/#/rehnquist10/oral_argument_audio/21735\n",
      "https://apps.oyez.org/player/#/rehnquist10/oral_argument_audio/22780\n",
      "https://apps.oyez.org/player/#/rehnquist10/oral_argument_audio/22537\n",
      "https://apps.oyez.org/player/#/rehnquist10/oral_argument_audio/22394\n",
      "https://apps.oyez.org/player/#/rehnquist10/oral_argument_audio/21588\n",
      "https://apps.oyez.org/player/#/rehnquist10/oral_argument_audio/23551\n",
      "https://apps.oyez.org/player/#/rehnquist10/oral_argument_audio/22569\n",
      "https://apps.oyez.org/player/#/rehnquist10/oral_argument_audio/22161\n",
      "https://apps.oyez.org/player/#/rehnquist10/oral_argument_audio/23077\n",
      "https://apps.oyez.org/player/#/rehnquist10/oral_argument_audio/22263\n",
      "https://apps.oyez.org/player/#/rehnquist10/oral_argument_audio/22187\n",
      "https://apps.oyez.org/player/#/rehnquist10/oral_argument_audio/22234\n",
      "https://apps.oyez.org/player/#/rehnquist10/oral_argument_audio/23040\n",
      "https://apps.oyez.org/player/#/rehnquist10/oral_argument_audio/22444\n",
      "https://apps.oyez.org/player/#/rehnquist10/oral_argument_audio/22510\n",
      "https://apps.oyez.org/player/#/rehnquist10/oral_argument_audio/21803\n",
      "https://apps.oyez.org/player/#/rehnquist10/oral_argument_audio/22501\n",
      "https://apps.oyez.org/player/#/rehnquist10/oral_argument_audio/22212\n",
      "https://apps.oyez.org/player/#/rehnquist10/oral_argument_audio/22772\n",
      "https://apps.oyez.org/player/#/rehnquist10/oral_argument_audio/21934\n",
      "https://apps.oyez.org/player/#/rehnquist10/oral_argument_audio/22694\n",
      "https://apps.oyez.org/player/#/rehnquist10/oral_argument_audio/21912\n",
      "https://apps.oyez.org/player/#/rehnquist10/oral_argument_audio/21472\n",
      "https://apps.oyez.org/player/#/rehnquist10/oral_argument_audio/22845\n",
      "https://apps.oyez.org/player/#/rehnquist10/oral_argument_audio/21940\n",
      "https://apps.oyez.org/player/#/rehnquist10/oral_argument_audio/23050\n",
      "https://apps.oyez.org/player/#/rehnquist10/oral_argument_audio/22858\n",
      "https://apps.oyez.org/player/#/rehnquist10/oral_argument_audio/21670\n",
      "https://apps.oyez.org/player/#/rehnquist10/oral_argument_audio/22971\n",
      "https://apps.oyez.org/player/#/rehnquist10/oral_argument_audio/21485\n",
      "https://apps.oyez.org/player/#/rehnquist10/oral_argument_audio/23489\n",
      "https://apps.oyez.org/player/#/rehnquist10/oral_argument_audio/22437\n",
      "https://apps.oyez.org/player/#/rehnquist10/oral_argument_audio/22048\n",
      "https://apps.oyez.org/player/#/rehnquist10/oral_argument_audio/21883\n",
      "https://apps.oyez.org/player/#/rehnquist10/oral_argument_audio/22755\n",
      "https://apps.oyez.org/player/#/rehnquist10/oral_argument_audio/23175\n",
      "https://apps.oyez.org/player/#/rehnquist10/oral_argument_audio/22910\n",
      "https://apps.oyez.org/player/#/rehnquist10/oral_argument_audio/22554\n",
      "https://apps.oyez.org/player/#/rehnquist10/oral_argument_audio/23555\n",
      "https://apps.oyez.org/player/#/rehnquist10/oral_argument_audio/23646\n",
      "https://apps.oyez.org/player/#/rehnquist10/oral_argument_audio/22691\n",
      "https://apps.oyez.org/player/#/rehnquist10/oral_argument_audio/21789\n",
      "https://apps.oyez.org/player/#/rehnquist10/oral_argument_audio/21947\n",
      "https://apps.oyez.org/player/#/rehnquist10/oral_argument_audio/22380\n",
      "https://apps.oyez.org/player/#/rehnquist10/oral_argument_audio/21806\n",
      "https://apps.oyez.org/player/#/rehnquist10/oral_argument_audio/23609\n",
      "https://apps.oyez.org/player/#/rehnquist10/oral_argument_audio/22338\n",
      "https://apps.oyez.org/player/#/rehnquist10/oral_argument_audio/22051\n",
      "https://apps.oyez.org/player/#/rehnquist10/oral_argument_audio/22662\n",
      "https://apps.oyez.org/player/#/rehnquist10/oral_argument_audio/21647\n",
      "https://apps.oyez.org/player/#/rehnquist10/oral_argument_audio/23604\n",
      "https://apps.oyez.org/player/#/rehnquist10/oral_argument_audio/21731\n",
      "https://apps.oyez.org/player/#/rehnquist10/oral_argument_audio/21893\n",
      "https://apps.oyez.org/player/#/rehnquist10/oral_argument_audio/23479\n",
      "https://apps.oyez.org/player/#/rehnquist10/oral_argument_audio/22124\n",
      "https://apps.oyez.org/player/#/rehnquist10/oral_argument_audio/21712\n",
      "https://apps.oyez.org/player/#/rehnquist10/oral_argument_audio/21891\n",
      "https://apps.oyez.org/player/#/rehnquist10/oral_argument_audio/23541\n",
      "https://apps.oyez.org/player/#/rehnquist10/oral_argument_audio/21873\n",
      "https://apps.oyez.org/player/#/rehnquist10/oral_argument_audio/22246\n",
      "https://apps.oyez.org/player/#/rehnquist10/oral_argument_audio/23508\n",
      "https://apps.oyez.org/player/#/rehnquist10/oral_argument_audio/23539\n",
      "https://apps.oyez.org/player/#/rehnquist10/oral_argument_audio/23600\n",
      "https://apps.oyez.org/player/#/rehnquist10/oral_argument_audio/21432\n",
      "https://apps.oyez.org/player/#/rehnquist10/oral_argument_audio/23545\n",
      "https://apps.oyez.org/player/#/rehnquist10/oral_argument_audio/21418\n",
      "https://apps.oyez.org/player/#/rehnquist10/oral_argument_audio/23652\n",
      "https://apps.oyez.org/player/#/rehnquist10/oral_argument_audio/23577\n",
      "https://apps.oyez.org/player/#/rehnquist10/oral_argument_audio/23580\n",
      "https://apps.oyez.org/player/#/rehnquist10/oral_argument_audio/22101\n",
      "https://apps.oyez.org/player/#/rehnquist10/oral_argument_audio/22909\n",
      "https://apps.oyez.org/player/#/rehnquist10/oral_argument_audio/21958\n",
      "https://apps.oyez.org/player/#/rehnquist10/oral_argument_audio/23169\n",
      "https://apps.oyez.org/player/#/rehnquist10/oral_argument_audio/22260\n",
      "https://apps.oyez.org/player/#/rehnquist10/oral_argument_audio/22639\n",
      "https://apps.oyez.org/player/#/rehnquist10/oral_argument_audio/23015\n",
      "https://apps.oyez.org/player/#/rehnquist10/oral_argument_audio/21843\n",
      "https://apps.oyez.org/player/#/rehnquist10/oral_argument_audio/23621\n",
      "https://apps.oyez.org/player/#/rehnquist10/oral_argument_audio/23592\n",
      "https://apps.oyez.org/player/#/rehnquist10/oral_argument_audio/22381\n",
      "https://apps.oyez.org/player/#/rehnquist10/oral_argument_audio/21865\n",
      "https://apps.oyez.org/player/#/rehnquist10/oral_argument_audio/21560\n",
      "https://apps.oyez.org/player/#/rehnquist10/oral_argument_audio/23647\n",
      "https://apps.oyez.org/player/#/rehnquist10/oral_argument_audio/21551\n",
      "https://apps.oyez.org/player/#/rehnquist10/oral_argument_audio/23154\n",
      "https://apps.oyez.org/player/#/rehnquist10/oral_argument_audio/22063\n",
      "https://apps.oyez.org/player/#/rehnquist10/oral_argument_audio/22013\n",
      "https://apps.oyez.org/player/#/rehnquist10/oral_argument_audio/23048\n",
      "https://apps.oyez.org/player/#/rehnquist10/oral_argument_audio/21964\n",
      "https://apps.oyez.org/player/#/rehnquist10/oral_argument_audio/22460\n",
      "https://apps.oyez.org/player/#/rehnquist10/oral_argument_audio/23147\n",
      "https://apps.oyez.org/player/#/rehnquist10/oral_argument_audio/21825\n",
      "https://apps.oyez.org/player/#/rehnquist10/oral_argument_audio/22129\n",
      "https://apps.oyez.org/player/#/rehnquist10/oral_argument_audio/21352\n",
      "https://apps.oyez.org/player/#/rehnquist10/oral_argument_audio/22972\n",
      "https://apps.oyez.org/player/#/rehnquist10/oral_argument_audio/22544\n",
      "https://apps.oyez.org/player/#/rehnquist10/oral_argument_audio/21451\n",
      "https://apps.oyez.org/player/#/rehnquist10/oral_argument_audio/21918\n",
      "https://apps.oyez.org/player/#/rehnquist10/oral_argument_audio/21503\n",
      "https://apps.oyez.org/player/#/rehnquist10/oral_argument_audio/23184\n",
      "https://apps.oyez.org/player/#/rehnquist10/oral_argument_audio/21736\n",
      "https://apps.oyez.org/player/#/rehnquist10/oral_argument_audio/23566\n",
      "https://apps.oyez.org/player/#/rehnquist10/oral_argument_audio/22417\n",
      "https://apps.oyez.org/player/#/rehnquist10/oral_argument_audio/22427\n",
      "https://apps.oyez.org/player/#/rehnquist10/oral_argument_audio/21441\n",
      "https://apps.oyez.org/player/#/rehnquist10/oral_argument_audio/21876\n",
      "https://apps.oyez.org/player/#/rehnquist10/oral_argument_audio/21546\n",
      "https://apps.oyez.org/player/#/rehnquist10/oral_argument_audio/21872\n",
      "https://apps.oyez.org/player/#/rehnquist10/oral_argument_audio/22093\n",
      "https://apps.oyez.org/player/#/rehnquist10/oral_argument_audio/23004\n",
      "https://apps.oyez.org/player/#/rehnquist10/oral_argument_audio/22108\n",
      "https://apps.oyez.org/player/#/rehnquist10/oral_argument_audio/21935\n",
      "https://apps.oyez.org/player/#/rehnquist10/oral_argument_audio/22785\n",
      "https://apps.oyez.org/player/#/rehnquist10/oral_argument_audio/22079\n",
      "https://apps.oyez.org/player/#/rehnquist10/oral_argument_audio/22119\n",
      "https://apps.oyez.org/player/#/rehnquist10/oral_argument_audio/21672\n",
      "https://apps.oyez.org/player/#/rehnquist10/oral_argument_audio/23144\n"
     ]
    },
    {
     "name": "stdout",
     "output_type": "stream",
     "text": [
      "https://apps.oyez.org/player/#/rehnquist10/oral_argument_audio/23505\n",
      "https://apps.oyez.org/player/#/rehnquist10/oral_argument_audio/21856\n",
      "https://apps.oyez.org/player/#/rehnquist10/oral_argument_audio/23069\n",
      "https://apps.oyez.org/player/#/rehnquist10/oral_argument_audio/23161\n",
      "https://apps.oyez.org/player/#/rehnquist10/oral_argument_audio/23512\n",
      "https://apps.oyez.org/player/#/rehnquist10/oral_argument_audio/22355\n",
      "https://apps.oyez.org/player/#/rehnquist10/oral_argument_audio/21739\n",
      "https://apps.oyez.org/player/#/rehnquist10/oral_argument_audio/21697\n",
      "https://apps.oyez.org/player/#/rehnquist10/oral_argument_audio/22650\n",
      "https://apps.oyez.org/player/#/rehnquist10/oral_argument_audio/23103\n",
      "https://apps.oyez.org/player/#/rehnquist10/oral_argument_audio/21531\n",
      "https://apps.oyez.org/player/#/rehnquist10/oral_argument_audio/23543\n",
      "https://apps.oyez.org/player/#/rehnquist10/oral_argument_audio/23634\n",
      "https://apps.oyez.org/player/#/rehnquist10/oral_argument_audio/22236\n",
      "https://apps.oyez.org/player/#/rehnquist10/oral_argument_audio/21927\n",
      "https://apps.oyez.org/player/#/rehnquist10/oral_argument_audio/22790\n",
      "https://apps.oyez.org/player/#/rehnquist10/oral_argument_audio/23072\n",
      "https://apps.oyez.org/player/#/rehnquist10/oral_argument_audio/22887\n",
      "https://apps.oyez.org/player/#/rehnquist10/oral_argument_audio/22490\n",
      "https://apps.oyez.org/player/#/rehnquist10/oral_argument_audio/22483\n",
      "https://apps.oyez.org/player/#/rehnquist10/oral_argument_audio/23471\n",
      "https://apps.oyez.org/player/#/rehnquist10/oral_argument_audio/21631\n",
      "https://apps.oyez.org/player/#/rehnquist10/oral_argument_audio/22998\n",
      "https://apps.oyez.org/player/#/rehnquist10/oral_argument_audio/22206\n",
      "https://apps.oyez.org/player/#/rehnquist10/oral_argument_audio/23511\n",
      "https://apps.oyez.org/player/#/rehnquist10/oral_argument_audio/21874\n",
      "https://apps.oyez.org/player/#/rehnquist10/oral_argument_audio/21528\n",
      "https://apps.oyez.org/player/#/rehnquist10/oral_argument_audio/21526\n",
      "https://apps.oyez.org/player/#/rehnquist10/oral_argument_audio/22148\n",
      "https://apps.oyez.org/player/#/rehnquist10/oral_argument_audio/23572\n",
      "https://apps.oyez.org/player/#/rehnquist10/oral_argument_audio/22784\n",
      "https://apps.oyez.org/player/#/rehnquist10/oral_argument_audio/23601\n",
      "https://apps.oyez.org/player/#/rehnquist10/oral_argument_audio/22296\n",
      "https://apps.oyez.org/player/#/rehnquist10/oral_argument_audio/23553\n",
      "https://apps.oyez.org/player/#/rehnquist10/oral_argument_audio/23020\n",
      "https://apps.oyez.org/player/#/rehnquist10/oral_argument_audio/22545\n",
      "https://apps.oyez.org/player/#/rehnquist10/oral_argument_audio/22741\n",
      "https://apps.oyez.org/player/#/rehnquist10/oral_argument_audio/23047\n",
      "https://apps.oyez.org/player/#/rehnquist10/oral_argument_audio/22031\n",
      "https://apps.oyez.org/player/#/rehnquist10/oral_argument_audio/21867\n",
      "https://apps.oyez.org/player/#/rehnquist10/oral_argument_audio/22386\n",
      "https://apps.oyez.org/player/#/rehnquist10/oral_argument_audio/21350\n",
      "https://apps.oyez.org/player/#/rehnquist10/oral_argument_audio/21615\n",
      "https://apps.oyez.org/player/#/rehnquist10/oral_argument_audio/21377\n",
      "https://apps.oyez.org/player/#/rehnquist10/oral_argument_audio/21982\n",
      "https://apps.oyez.org/player/#/rehnquist10/oral_argument_audio/23165\n",
      "https://apps.oyez.org/player/#/rehnquist10/oral_argument_audio/23635\n",
      "https://apps.oyez.org/player/#/rehnquist10/oral_argument_audio/21857\n",
      "https://apps.oyez.org/player/#/rehnquist10/oral_argument_audio/23496\n",
      "https://apps.oyez.org/player/#/rehnquist10/oral_argument_audio/22181\n",
      "https://apps.oyez.org/player/#/rehnquist10/oral_argument_audio/23655\n",
      "https://apps.oyez.org/player/#/rehnquist10/oral_argument_audio/22209\n",
      "https://apps.oyez.org/player/#/rehnquist10/oral_argument_audio/21991\n",
      "https://apps.oyez.org/player/#/rehnquist10/oral_argument_audio/22514\n",
      "https://apps.oyez.org/player/#/rehnquist10/oral_argument_audio/23071\n",
      "https://apps.oyez.org/player/#/rehnquist10/oral_argument_audio/22456\n",
      "https://apps.oyez.org/player/#/rehnquist10/oral_argument_audio/21520\n",
      "https://apps.oyez.org/player/#/rehnquist10/oral_argument_audio/23011\n",
      "https://apps.oyez.org/player/#/rehnquist10/oral_argument_audio/22708\n",
      "https://apps.oyez.org/player/#/rehnquist10/oral_argument_audio/22176\n",
      "https://apps.oyez.org/player/#/rehnquist10/oral_argument_audio/22009\n",
      "https://apps.oyez.org/player/#/rehnquist10/oral_argument_audio/23549\n",
      "https://apps.oyez.org/player/#/rehnquist10/oral_argument_audio/21764\n",
      "https://apps.oyez.org/player/#/rehnquist10/oral_argument_audio/22637\n",
      "https://apps.oyez.org/player/#/rehnquist10/oral_argument_audio/21453\n",
      "https://apps.oyez.org/player/#/rehnquist10/oral_argument_audio/21523\n",
      "https://apps.oyez.org/player/#/rehnquist10/oral_argument_audio/22803\n",
      "https://apps.oyez.org/player/#/rehnquist10/oral_argument_audio/21504\n",
      "https://apps.oyez.org/player/#/rehnquist10/oral_argument_audio/22645\n",
      "https://apps.oyez.org/player/#/rehnquist10/oral_argument_audio/21668\n",
      "https://apps.oyez.org/player/#/rehnquist10/oral_argument_audio/22725\n",
      "https://apps.oyez.org/player/#/rehnquist10/oral_argument_audio/21827\n",
      "https://apps.oyez.org/player/#/rehnquist10/oral_argument_audio/22034\n",
      "https://apps.oyez.org/player/#/rehnquist10/oral_argument_audio/21689\n",
      "https://apps.oyez.org/player/#/rehnquist10/oral_argument_audio/21589\n",
      "https://apps.oyez.org/player/#/rehnquist10/oral_argument_audio/22168\n",
      "https://apps.oyez.org/player/#/rehnquist10/oral_argument_audio/22150\n",
      "https://apps.oyez.org/player/#/rehnquist10/oral_argument_audio/22062\n",
      "https://apps.oyez.org/player/#/rehnquist10/oral_argument_audio/22333\n",
      "https://apps.oyez.org/player/#/rehnquist10/oral_argument_audio/22511\n",
      "https://apps.oyez.org/player/#/rehnquist10/oral_argument_audio/23679\n",
      "https://apps.oyez.org/player/#/rehnquist10/oral_argument_audio/22523\n",
      "https://apps.oyez.org/player/#/rehnquist10/oral_argument_audio/21815\n",
      "https://apps.oyez.org/player/#/rehnquist10/oral_argument_audio/22899\n",
      "https://apps.oyez.org/player/#/rehnquist10/oral_argument_audio/23152\n",
      "https://apps.oyez.org/player/#/rehnquist10/oral_argument_audio/22290\n",
      "https://apps.oyez.org/player/#/rehnquist10/oral_argument_audio/22794\n",
      "https://apps.oyez.org/player/#/rehnquist10/oral_argument_audio/22332\n",
      "https://apps.oyez.org/player/#/rehnquist10/oral_argument_audio/23691\n",
      "https://apps.oyez.org/player/#/rehnquist10/oral_argument_audio/23105\n",
      "https://apps.oyez.org/player/#/rehnquist10/oral_argument_audio/23548\n",
      "https://apps.oyez.org/player/#/rehnquist10/oral_argument_audio/22579\n",
      "https://apps.oyez.org/player/#/rehnquist10/oral_argument_audio/23079\n",
      "https://apps.oyez.org/player/#/rehnquist10/oral_argument_audio/22622\n",
      "https://apps.oyez.org/player/#/rehnquist10/oral_argument_audio/21471\n",
      "https://apps.oyez.org/player/#/rehnquist10/oral_argument_audio/22500\n",
      "https://apps.oyez.org/player/#/rehnquist10/oral_argument_audio/22591\n",
      "https://apps.oyez.org/player/#/rehnquist10/oral_argument_audio/22727\n",
      "https://apps.oyez.org/player/#/rehnquist10/oral_argument_audio/23608\n",
      "https://apps.oyez.org/player/#/rehnquist10/oral_argument_audio/21813\n",
      "https://apps.oyez.org/player/#/rehnquist10/oral_argument_audio/21688\n",
      "https://apps.oyez.org/player/#/rehnquist10/oral_argument_audio/23002\n",
      "https://apps.oyez.org/player/#/rehnquist10/oral_argument_audio/22633\n",
      "https://apps.oyez.org/player/#/rehnquist10/oral_argument_audio/23062\n",
      "https://apps.oyez.org/player/#/rehnquist10/oral_argument_audio/22103\n",
      "https://apps.oyez.org/player/#/rehnquist10/oral_argument_audio/22316\n",
      "https://apps.oyez.org/player/#/rehnquist10/oral_argument_audio/23091\n",
      "https://apps.oyez.org/player/#/rehnquist10/oral_argument_audio/22848\n",
      "https://apps.oyez.org/player/#/rehnquist10/oral_argument_audio/21343\n",
      "https://apps.oyez.org/player/#/rehnquist10/oral_argument_audio/22585\n",
      "https://apps.oyez.org/player/#/rehnquist10/oral_argument_audio/21584\n",
      "https://apps.oyez.org/player/#/rehnquist10/oral_argument_audio/22453\n",
      "https://apps.oyez.org/player/#/rehnquist10/oral_argument_audio/23513\n",
      "https://apps.oyez.org/player/#/rehnquist10/oral_argument_audio/22508\n",
      "https://apps.oyez.org/player/#/rehnquist10/oral_argument_audio/22539\n",
      "https://apps.oyez.org/player/#/rehnquist10/oral_argument_audio/21652\n",
      "https://apps.oyez.org/player/#/rehnquist10/oral_argument_audio/22964\n",
      "https://apps.oyez.org/player/#/rehnquist10/oral_argument_audio/22383\n",
      "https://apps.oyez.org/player/#/rehnquist10/oral_argument_audio/21880\n"
     ]
    },
    {
     "name": "stdout",
     "output_type": "stream",
     "text": [
      "https://apps.oyez.org/player/#/rehnquist10/oral_argument_audio/22435\n",
      "https://apps.oyez.org/player/#/rehnquist10/oral_argument_audio/22799\n",
      "https://apps.oyez.org/player/#/rehnquist10/oral_argument_audio/21681\n",
      "https://apps.oyez.org/player/#/rehnquist10/oral_argument_audio/23557\n",
      "https://apps.oyez.org/player/#/rehnquist10/oral_argument_audio/21977\n",
      "https://apps.oyez.org/player/#/rehnquist10/oral_argument_audio/22825\n",
      "https://apps.oyez.org/player/#/rehnquist10/oral_argument_audio/22367\n",
      "https://apps.oyez.org/player/#/rehnquist10/oral_argument_audio/21657\n",
      "https://apps.oyez.org/player/#/rehnquist10/oral_argument_audio/22024\n",
      "https://apps.oyez.org/player/#/rehnquist10/oral_argument_audio/22559\n",
      "https://apps.oyez.org/player/#/rehnquist10/oral_argument_audio/21444\n",
      "https://apps.oyez.org/player/#/rehnquist10/oral_argument_audio/21537\n",
      "https://apps.oyez.org/player/#/rehnquist10/oral_argument_audio/21548\n",
      "https://apps.oyez.org/player/#/rehnquist10/oral_argument_audio/22658\n",
      "https://apps.oyez.org/player/#/rehnquist10/oral_argument_audio/21307\n",
      "https://apps.oyez.org/player/#/rehnquist10/oral_argument_audio/21470\n",
      "https://apps.oyez.org/player/#/roberts2/oral_argument_audio/22620\n",
      "https://apps.oyez.org/player/#/roberts1/oral_argument_audio/22925\n",
      "https://apps.oyez.org/player/#/roberts2/oral_argument_audio/21842\n",
      "https://apps.oyez.org/player/#/roberts2/oral_argument_audio/22732\n",
      "https://apps.oyez.org/player/#/roberts1/oral_argument_audio/22317\n",
      "https://apps.oyez.org/player/#/roberts2/oral_argument_audio/22898\n",
      "https://apps.oyez.org/player/#/roberts2/oral_argument_audio/22400\n",
      "https://apps.oyez.org/player/#/roberts1/oral_argument_audio/21686\n",
      "https://apps.oyez.org/player/#/roberts1/oral_argument_audio/21380\n",
      "https://apps.oyez.org/player/#/roberts2/oral_argument_audio/21597\n",
      "https://apps.oyez.org/player/#/roberts1/oral_argument_audio/21746\n",
      "https://apps.oyez.org/player/#/roberts2/oral_argument_audio/22125\n",
      "https://apps.oyez.org/player/#/roberts2/oral_argument_audio/22822\n",
      "https://apps.oyez.org/player/#/roberts2/oral_argument_audio/21565\n",
      "https://apps.oyez.org/player/#/roberts2/oral_argument_audio/22931\n",
      "https://apps.oyez.org/player/#/roberts2/oral_argument_audio/21702\n",
      "https://apps.oyez.org/player/#/roberts1/oral_argument_audio/21543\n",
      "https://apps.oyez.org/player/#/roberts1/oral_argument_audio/21644\n",
      "https://apps.oyez.org/player/#/roberts2/oral_argument_audio/23053\n",
      "https://apps.oyez.org/player/#/roberts2/oral_argument_audio/22116\n",
      "https://apps.oyez.org/player/#/roberts1/oral_argument_audio/22635\n",
      "https://apps.oyez.org/player/#/roberts2/oral_argument_audio/22184\n",
      "https://apps.oyez.org/player/#/roberts1/oral_argument_audio/21399\n",
      "https://apps.oyez.org/player/#/roberts1/oral_argument_audio/21993\n",
      "https://apps.oyez.org/player/#/roberts1/oral_argument_audio/22464\n",
      "https://apps.oyez.org/player/#/roberts1/oral_argument_audio/21569\n",
      "https://apps.oyez.org/player/#/roberts1/oral_argument_audio/23146\n",
      "https://apps.oyez.org/player/#/roberts2/oral_argument_audio/22583\n",
      "https://apps.oyez.org/player/#/roberts2/oral_argument_audio/22328\n",
      "https://apps.oyez.org/player/#/roberts1/oral_argument_audio/21946\n",
      "https://apps.oyez.org/player/#/roberts2/oral_argument_audio/22091\n",
      "https://apps.oyez.org/player/#/roberts2/oral_argument_audio/21492\n",
      "https://apps.oyez.org/player/#/roberts1/oral_argument_audio/22326\n",
      "https://apps.oyez.org/player/#/roberts2/oral_argument_audio/22094\n",
      "https://apps.oyez.org/player/#/roberts1/oral_argument_audio/21573\n",
      "https://apps.oyez.org/player/#/roberts1/oral_argument_audio/22767\n",
      "https://apps.oyez.org/player/#/roberts1/oral_argument_audio/21879\n",
      "https://apps.oyez.org/player/#/roberts1/oral_argument_audio/21719\n",
      "https://apps.oyez.org/player/#/roberts1/oral_argument_audio/23100\n",
      "https://apps.oyez.org/player/#/roberts1/oral_argument_audio/21325\n",
      "https://apps.oyez.org/player/#/roberts1/oral_argument_audio/23051\n",
      "https://apps.oyez.org/player/#/roberts2/oral_argument_audio/22201\n",
      "https://apps.oyez.org/player/#/roberts2/oral_argument_audio/22653\n",
      "https://apps.oyez.org/player/#/roberts2/oral_argument_audio/22724\n",
      "https://apps.oyez.org/player/#/roberts1/oral_argument_audio/21337\n",
      "https://apps.oyez.org/player/#/roberts1/oral_argument_audio/21579\n",
      "https://apps.oyez.org/player/#/roberts2/oral_argument_audio/21970\n",
      "https://apps.oyez.org/player/#/roberts1/oral_argument_audio/21289\n",
      "https://apps.oyez.org/player/#/roberts1/oral_argument_audio/22204\n",
      "https://apps.oyez.org/player/#/roberts1/oral_argument_audio/22547\n",
      "https://apps.oyez.org/player/#/roberts2/oral_argument_audio/22105\n",
      "https://apps.oyez.org/player/#/roberts2/oral_argument_audio/22994\n",
      "https://apps.oyez.org/player/#/roberts1/oral_argument_audio/22601\n",
      "https://apps.oyez.org/player/#/roberts2/oral_argument_audio/22300\n",
      "https://apps.oyez.org/player/#/roberts2/oral_argument_audio/21920\n",
      "https://apps.oyez.org/player/#/roberts2/oral_argument_audio/22792\n",
      "https://apps.oyez.org/player/#/roberts2/oral_argument_audio/21430\n",
      "https://apps.oyez.org/player/#/roberts1/oral_argument_audio/21716\n",
      "https://apps.oyez.org/player/#/roberts1/oral_argument_audio/22815\n",
      "https://apps.oyez.org/player/#/roberts2/oral_argument_audio/21673\n",
      "https://apps.oyez.org/player/#/roberts1/oral_argument_audio/22340\n",
      "https://apps.oyez.org/player/#/roberts1/oral_argument_audio/21445\n",
      "https://apps.oyez.org/player/#/roberts2/oral_argument_audio/22629\n",
      "https://apps.oyez.org/player/#/roberts1/oral_argument_audio/22798\n",
      "https://apps.oyez.org/player/#/roberts1/oral_argument_audio/22874\n",
      "https://apps.oyez.org/player/#/roberts1/oral_argument_audio/22820\n",
      "https://apps.oyez.org/player/#/roberts1/oral_argument_audio/23009\n",
      "https://apps.oyez.org/player/#/roberts1/oral_argument_audio/22531\n",
      "https://apps.oyez.org/player/#/roberts1/oral_argument_audio/21817\n",
      "https://apps.oyez.org/player/#/roberts2/oral_argument_audio/21826\n",
      "https://apps.oyez.org/player/#/roberts1/oral_argument_audio/21574\n",
      "https://apps.oyez.org/player/#/roberts1/oral_argument_audio/23001\n",
      "https://apps.oyez.org/player/#/roberts1/oral_argument_audio/22010\n",
      "https://apps.oyez.org/player/#/roberts2/oral_argument_audio/22142\n",
      "https://apps.oyez.org/player/#/roberts2/oral_argument_audio/23010\n",
      "https://apps.oyez.org/player/#/roberts2/oral_argument_audio/22878\n",
      "https://apps.oyez.org/player/#/roberts2/oral_argument_audio/22679\n",
      "https://apps.oyez.org/player/#/roberts2/oral_argument_audio/22430\n",
      "https://apps.oyez.org/player/#/roberts2/oral_argument_audio/22748\n",
      "https://apps.oyez.org/player/#/roberts2/oral_argument_audio/22821\n",
      "https://apps.oyez.org/player/#/roberts2/oral_argument_audio/21695\n",
      "https://apps.oyez.org/player/#/roberts2/oral_argument_audio/22255\n",
      "https://apps.oyez.org/player/#/roberts2/oral_argument_audio/21620\n",
      "https://apps.oyez.org/player/#/roberts2/oral_argument_audio/22102\n",
      "https://apps.oyez.org/player/#/roberts2/oral_argument_audio/21338\n",
      "https://apps.oyez.org/player/#/roberts2/oral_argument_audio/23181\n",
      "https://apps.oyez.org/player/#/roberts2/oral_argument_audio/22484\n",
      "https://apps.oyez.org/player/#/roberts2/oral_argument_audio/22330\n",
      "https://apps.oyez.org/player/#/roberts2/oral_argument_audio/22268\n",
      "https://apps.oyez.org/player/#/roberts2/oral_argument_audio/22999\n",
      "https://apps.oyez.org/player/#/roberts2/oral_argument_audio/22562\n",
      "https://apps.oyez.org/player/#/roberts2/oral_argument_audio/22834\n",
      "https://apps.oyez.org/player/#/roberts2/oral_argument_audio/22299\n",
      "https://apps.oyez.org/player/#/roberts2/oral_argument_audio/21902\n",
      "https://apps.oyez.org/player/#/roberts2/oral_argument_audio/22850\n",
      "https://apps.oyez.org/player/#/roberts2/oral_argument_audio/22302\n",
      "https://apps.oyez.org/player/#/roberts2/oral_argument_audio/21829\n",
      "https://apps.oyez.org/player/#/roberts2/oral_argument_audio/22595\n",
      "https://apps.oyez.org/player/#/roberts2/oral_argument_audio/21861\n",
      "https://apps.oyez.org/player/#/roberts2/oral_argument_audio/21768\n",
      "https://apps.oyez.org/player/#/roberts2/oral_argument_audio/21972\n",
      "https://apps.oyez.org/player/#/roberts2/oral_argument_audio/22578\n",
      "https://apps.oyez.org/player/#/roberts2/oral_argument_audio/22566\n",
      "https://apps.oyez.org/player/#/roberts2/oral_argument_audio/22475\n",
      "https://apps.oyez.org/player/#/roberts2/oral_argument_audio/22395\n",
      "https://apps.oyez.org/player/#/roberts2/oral_argument_audio/22941\n",
      "https://apps.oyez.org/player/#/roberts2/oral_argument_audio/22481\n",
      "https://apps.oyez.org/player/#/roberts2/oral_argument_audio/22222\n"
     ]
    },
    {
     "name": "stdout",
     "output_type": "stream",
     "text": [
      "https://apps.oyez.org/player/#/roberts2/oral_argument_audio/21987\n",
      "https://apps.oyez.org/player/#/roberts2/oral_argument_audio/22714\n",
      "https://apps.oyez.org/player/#/roberts2/oral_argument_audio/21416\n",
      "https://apps.oyez.org/player/#/roberts2/oral_argument_audio/21728\n",
      "https://apps.oyez.org/player/#/roberts2/oral_argument_audio/21393\n",
      "https://apps.oyez.org/player/#/roberts2/oral_argument_audio/22224\n",
      "https://apps.oyez.org/player/#/roberts2/oral_argument_audio/21678\n",
      "https://apps.oyez.org/player/#/roberts2/oral_argument_audio/22352\n",
      "https://apps.oyez.org/player/#/roberts2/oral_argument_audio/22257\n",
      "https://apps.oyez.org/player/#/roberts2/oral_argument_audio/22802\n",
      "https://apps.oyez.org/player/#/roberts2/oral_argument_audio/21328\n",
      "https://apps.oyez.org/player/#/roberts2/oral_argument_audio/22039\n",
      "https://apps.oyez.org/player/#/roberts2/oral_argument_audio/22756\n",
      "https://apps.oyez.org/player/#/roberts2/oral_argument_audio/22818\n",
      "https://apps.oyez.org/player/#/roberts2/oral_argument_audio/21933\n",
      "https://apps.oyez.org/player/#/roberts2/oral_argument_audio/22913\n",
      "https://apps.oyez.org/player/#/roberts2/oral_argument_audio/22011\n",
      "https://apps.oyez.org/player/#/roberts2/oral_argument_audio/22361\n",
      "https://apps.oyez.org/player/#/roberts2/oral_argument_audio/21595\n",
      "https://apps.oyez.org/player/#/roberts2/oral_argument_audio/22280\n",
      "https://apps.oyez.org/player/#/roberts2/oral_argument_audio/22839\n",
      "https://apps.oyez.org/player/#/roberts2/oral_argument_audio/21945\n",
      "https://apps.oyez.org/player/#/roberts2/oral_argument_audio/21967\n",
      "https://apps.oyez.org/player/#/roberts2/oral_argument_audio/21323\n",
      "https://apps.oyez.org/player/#/roberts2/oral_argument_audio/22470\n",
      "https://apps.oyez.org/player/#/roberts2/oral_argument_audio/23063\n",
      "https://apps.oyez.org/player/#/roberts2/oral_argument_audio/22630\n",
      "https://apps.oyez.org/player/#/roberts2/oral_argument_audio/21818\n",
      "https://apps.oyez.org/player/#/roberts2/oral_argument_audio/22548\n",
      "https://apps.oyez.org/player/#/roberts2/oral_argument_audio/22211\n",
      "https://apps.oyez.org/player/#/roberts2/oral_argument_audio/22463\n",
      "https://apps.oyez.org/player/#/roberts2/oral_argument_audio/21862\n",
      "https://apps.oyez.org/player/#/roberts2/oral_argument_audio/21317\n",
      "https://apps.oyez.org/player/#/roberts2/oral_argument_audio/22446\n",
      "https://apps.oyez.org/player/#/roberts2/oral_argument_audio/21527\n",
      "https://apps.oyez.org/player/#/roberts2/oral_argument_audio/22797\n",
      "https://apps.oyez.org/player/#/roberts2/oral_argument_audio/22618\n",
      "https://apps.oyez.org/player/#/roberts2/oral_argument_audio/22309\n",
      "https://apps.oyez.org/player/#/roberts2/oral_argument_audio/22202\n",
      "https://apps.oyez.org/player/#/roberts2/oral_argument_audio/22282\n",
      "https://apps.oyez.org/player/#/roberts2/oral_argument_audio/22020\n",
      "https://apps.oyez.org/player/#/roberts2/oral_argument_audio/22138\n",
      "https://apps.oyez.org/player/#/roberts2/oral_argument_audio/22939\n",
      "https://apps.oyez.org/player/#/roberts2/oral_argument_audio/23120\n",
      "https://apps.oyez.org/player/#/roberts2/oral_argument_audio/22135\n",
      "https://apps.oyez.org/player/#/roberts2/oral_argument_audio/22743\n",
      "https://apps.oyez.org/player/#/roberts2/oral_argument_audio/21651\n",
      "https://apps.oyez.org/player/#/roberts2/oral_argument_audio/21777\n",
      "https://apps.oyez.org/player/#/roberts2/oral_argument_audio/21921\n",
      "https://apps.oyez.org/player/#/roberts2/oral_argument_audio/23085\n",
      "https://apps.oyez.org/player/#/roberts2/oral_argument_audio/21897\n",
      "https://apps.oyez.org/player/#/roberts2/oral_argument_audio/21389\n",
      "https://apps.oyez.org/player/#/roberts2/oral_argument_audio/22130\n",
      "https://apps.oyez.org/player/#/roberts2/oral_argument_audio/23186\n",
      "https://apps.oyez.org/player/#/roberts2/oral_argument_audio/21798\n",
      "https://apps.oyez.org/player/#/roberts2/oral_argument_audio/22521\n",
      "https://apps.oyez.org/player/#/roberts2/oral_argument_audio/21302\n",
      "https://apps.oyez.org/player/#/roberts2/oral_argument_audio/21400\n",
      "https://apps.oyez.org/player/#/roberts2/oral_argument_audio/21613\n",
      "https://apps.oyez.org/player/#/roberts2/oral_argument_audio/22026\n",
      "https://apps.oyez.org/player/#/roberts2/oral_argument_audio/23168\n",
      "https://apps.oyez.org/player/#/roberts2/oral_argument_audio/22052\n",
      "https://apps.oyez.org/player/#/roberts2/oral_argument_audio/21598\n",
      "https://apps.oyez.org/player/#/roberts2/oral_argument_audio/22612\n",
      "https://apps.oyez.org/player/#/roberts2/oral_argument_audio/22183\n",
      "https://apps.oyez.org/player/#/roberts2/oral_argument_audio/22004\n",
      "https://apps.oyez.org/player/#/roberts2/oral_argument_audio/22387\n",
      "https://apps.oyez.org/player/#/roberts2/oral_argument_audio/22929\n",
      "https://apps.oyez.org/player/#/roberts2/oral_argument_audio/22193\n",
      "https://apps.oyez.org/player/#/roberts2/oral_argument_audio/21742\n",
      "https://apps.oyez.org/player/#/roberts2/oral_argument_audio/23176\n",
      "https://apps.oyez.org/player/#/roberts2/oral_argument_audio/22611\n",
      "https://apps.oyez.org/player/#/roberts2/oral_argument_audio/22947\n",
      "https://apps.oyez.org/player/#/roberts2/oral_argument_audio/21655\n",
      "https://apps.oyez.org/player/#/roberts2/oral_argument_audio/22644\n",
      "https://apps.oyez.org/player/#/roberts2/oral_argument_audio/22433\n",
      "https://apps.oyez.org/player/#/roberts2/oral_argument_audio/22950\n",
      "https://apps.oyez.org/player/#/roberts2/oral_argument_audio/22616\n",
      "https://apps.oyez.org/player/#/roberts2/oral_argument_audio/22164\n",
      "https://apps.oyez.org/player/#/roberts2/oral_argument_audio/21487\n",
      "https://apps.oyez.org/player/#/roberts2/oral_argument_audio/22385\n",
      "https://apps.oyez.org/player/#/roberts2/oral_argument_audio/21751\n",
      "https://apps.oyez.org/player/#/roberts2/oral_argument_audio/21632\n",
      "https://apps.oyez.org/player/#/roberts2/oral_argument_audio/21782\n",
      "https://apps.oyez.org/player/#/roberts2/oral_argument_audio/22774\n",
      "https://apps.oyez.org/player/#/roberts2/oral_argument_audio/21658\n",
      "https://apps.oyez.org/player/#/roberts2/oral_argument_audio/22696\n",
      "https://apps.oyez.org/player/#/roberts2/oral_argument_audio/22043\n",
      "https://apps.oyez.org/player/#/roberts2/oral_argument_audio/21885\n",
      "https://apps.oyez.org/player/#/roberts2/oral_argument_audio/22782\n",
      "https://apps.oyez.org/player/#/roberts2/oral_argument_audio/21823\n",
      "https://apps.oyez.org/player/#/roberts2/oral_argument_audio/22283\n",
      "https://apps.oyez.org/player/#/roberts2/oral_argument_audio/22533\n",
      "https://apps.oyez.org/player/#/roberts2/oral_argument_audio/22147\n",
      "https://apps.oyez.org/player/#/roberts2/oral_argument_audio/21917\n",
      "https://apps.oyez.org/player/#/roberts2/oral_argument_audio/22681\n",
      "https://apps.oyez.org/player/#/roberts2/oral_argument_audio/21295\n",
      "https://apps.oyez.org/player/#/roberts2/oral_argument_audio/22806\n",
      "https://apps.oyez.org/player/#/roberts2/oral_argument_audio/22439\n",
      "https://apps.oyez.org/player/#/roberts2/oral_argument_audio/21849\n",
      "https://apps.oyez.org/player/#/roberts2/oral_argument_audio/21629\n",
      "https://apps.oyez.org/player/#/roberts2/oral_argument_audio/23131\n",
      "https://apps.oyez.org/player/#/roberts2/oral_argument_audio/22055\n",
      "https://apps.oyez.org/player/#/roberts2/oral_argument_audio/22376\n",
      "https://apps.oyez.org/player/#/roberts2/oral_argument_audio/22627\n",
      "https://apps.oyez.org/player/#/roberts2/oral_argument_audio/22301\n",
      "https://apps.oyez.org/player/#/roberts2/oral_argument_audio/22657\n",
      "https://apps.oyez.org/player/#/roberts2/oral_argument_audio/22683\n",
      "https://apps.oyez.org/player/#/roberts2/oral_argument_audio/21359\n",
      "https://apps.oyez.org/player/#/roberts2/oral_argument_audio/22959\n",
      "https://apps.oyez.org/player/#/roberts2/oral_argument_audio/22507\n",
      "https://apps.oyez.org/player/#/roberts2/oral_argument_audio/21397\n",
      "https://apps.oyez.org/player/#/roberts2/oral_argument_audio/22605\n",
      "https://apps.oyez.org/player/#/roberts2/oral_argument_audio/22709\n",
      "https://apps.oyez.org/player/#/roberts2/oral_argument_audio/22880\n",
      "https://apps.oyez.org/player/#/roberts2/oral_argument_audio/22773\n",
      "https://apps.oyez.org/player/#/roberts2/oral_argument_audio/22179\n",
      "https://apps.oyez.org/player/#/roberts2/oral_argument_audio/21932\n",
      "https://apps.oyez.org/player/#/roberts2/oral_argument_audio/22745\n",
      "https://apps.oyez.org/player/#/roberts2/oral_argument_audio/22482\n",
      "https://apps.oyez.org/player/#/roberts2/oral_argument_audio/21955\n",
      "https://apps.oyez.org/player/#/roberts2/oral_argument_audio/22264\n",
      "https://apps.oyez.org/player/#/roberts2/oral_argument_audio/21937\n",
      "https://apps.oyez.org/player/#/roberts2/oral_argument_audio/23098\n",
      "https://apps.oyez.org/player/#/roberts2/oral_argument_audio/22953\n"
     ]
    },
    {
     "name": "stdout",
     "output_type": "stream",
     "text": [
      "https://apps.oyez.org/player/#/roberts2/oral_argument_audio/23491\n",
      "https://apps.oyez.org/player/#/roberts2/oral_argument_audio/22476\n",
      "https://apps.oyez.org/player/#/roberts2/oral_argument_audio/22397\n",
      "https://apps.oyez.org/player/#/roberts2/oral_argument_audio/21346\n",
      "https://apps.oyez.org/player/#/roberts2/oral_argument_audio/22557\n",
      "https://apps.oyez.org/player/#/roberts2/oral_argument_audio/22339\n",
      "https://apps.oyez.org/player/#/roberts2/oral_argument_audio/22415\n",
      "https://apps.oyez.org/player/#/roberts2/oral_argument_audio/22473\n",
      "https://apps.oyez.org/player/#/roberts2/oral_argument_audio/21491\n",
      "https://apps.oyez.org/player/#/roberts2/oral_argument_audio/22215\n",
      "https://apps.oyez.org/player/#/roberts2/oral_argument_audio/21802\n",
      "https://apps.oyez.org/player/#/roberts2/oral_argument_audio/21561\n",
      "https://apps.oyez.org/player/#/roberts2/oral_argument_audio/22750\n",
      "https://apps.oyez.org/player/#/roberts2/oral_argument_audio/22717\n",
      "https://apps.oyez.org/player/#/roberts2/oral_argument_audio/22347\n",
      "https://apps.oyez.org/player/#/roberts2/oral_argument_audio/22970\n",
      "https://apps.oyez.org/player/#/roberts2/oral_argument_audio/22423\n",
      "https://apps.oyez.org/player/#/roberts2/oral_argument_audio/22551\n",
      "https://apps.oyez.org/player/#/roberts2/oral_argument_audio/22262\n",
      "https://apps.oyez.org/player/#/roberts2/oral_argument_audio/22606\n",
      "https://apps.oyez.org/player/#/roberts2/oral_argument_audio/21375\n",
      "https://apps.oyez.org/player/#/roberts2/oral_argument_audio/21699\n",
      "https://apps.oyez.org/player/#/roberts2/oral_argument_audio/21490\n",
      "https://apps.oyez.org/player/#/roberts2/oral_argument_audio/21714\n",
      "https://apps.oyez.org/player/#/roberts2/oral_argument_audio/22314\n",
      "https://apps.oyez.org/player/#/roberts2/oral_argument_audio/21314\n",
      "https://apps.oyez.org/player/#/roberts2/oral_argument_audio/22869\n",
      "https://apps.oyez.org/player/#/roberts2/oral_argument_audio/23029\n",
      "https://apps.oyez.org/player/#/roberts2/oral_argument_audio/22488\n",
      "https://apps.oyez.org/player/#/roberts2/oral_argument_audio/21646\n",
      "https://apps.oyez.org/player/#/roberts2/oral_argument_audio/22979\n",
      "https://apps.oyez.org/player/#/roberts2/oral_argument_audio/22991\n",
      "https://apps.oyez.org/player/#/roberts2/oral_argument_audio/22907\n",
      "https://apps.oyez.org/player/#/roberts2/oral_argument_audio/21961\n",
      "https://apps.oyez.org/player/#/roberts2/oral_argument_audio/21436\n",
      "https://apps.oyez.org/player/#/roberts2/oral_argument_audio/22445\n",
      "https://apps.oyez.org/player/#/roberts2/oral_argument_audio/23070\n",
      "https://apps.oyez.org/player/#/roberts2/oral_argument_audio/23132\n",
      "https://apps.oyez.org/player/#/roberts2/oral_argument_audio/21703\n",
      "https://apps.oyez.org/player/#/roberts2/oral_argument_audio/21812\n",
      "https://apps.oyez.org/player/#/roberts2/oral_argument_audio/22795\n",
      "https://apps.oyez.org/player/#/roberts2/oral_argument_audio/21313\n",
      "https://apps.oyez.org/player/#/roberts2/oral_argument_audio/21606\n",
      "https://apps.oyez.org/player/#/roberts2/oral_argument_audio/21656\n",
      "https://apps.oyez.org/player/#/roberts2/oral_argument_audio/21775\n",
      "https://apps.oyez.org/player/#/roberts2/oral_argument_audio/23187\n",
      "https://apps.oyez.org/player/#/roberts2/oral_argument_audio/21635\n",
      "https://apps.oyez.org/player/#/roberts2/oral_argument_audio/22934\n",
      "https://apps.oyez.org/player/#/roberts2/oral_argument_audio/21653\n",
      "https://apps.oyez.org/player/#/roberts2/oral_argument_audio/22015\n",
      "https://apps.oyez.org/player/#/roberts2/oral_argument_audio/21710\n",
      "https://apps.oyez.org/player/#/roberts2/oral_argument_audio/21339\n",
      "https://apps.oyez.org/player/#/roberts2/oral_argument_audio/22405\n",
      "https://apps.oyez.org/player/#/roberts2/oral_argument_audio/23044\n",
      "https://apps.oyez.org/player/#/roberts2/oral_argument_audio/22154\n",
      "https://apps.oyez.org/player/#/roberts2/oral_argument_audio/22928\n",
      "https://apps.oyez.org/player/#/roberts2/oral_argument_audio/23099\n",
      "https://apps.oyez.org/player/#/roberts2/oral_argument_audio/22479\n",
      "https://apps.oyez.org/player/#/roberts2/oral_argument_audio/22035\n",
      "https://apps.oyez.org/player/#/roberts4/oral_argument_audio/22654\n",
      "https://apps.oyez.org/player/#/roberts4/oral_argument_audio/21669\n",
      "https://apps.oyez.org/player/#/roberts4/oral_argument_audio/22693\n",
      "https://apps.oyez.org/player/#/roberts4/oral_argument_audio/23031\n",
      "https://apps.oyez.org/player/#/roberts4/oral_argument_audio/22670\n",
      "https://apps.oyez.org/player/#/roberts4/oral_argument_audio/22742\n",
      "https://apps.oyez.org/player/#/roberts4/oral_argument_audio/21926\n",
      "https://apps.oyez.org/player/#/roberts4/oral_argument_audio/21645\n",
      "https://apps.oyez.org/player/#/roberts4/oral_argument_audio/22291\n",
      "https://apps.oyez.org/player/#/roberts4/oral_argument_audio/22191\n",
      "https://apps.oyez.org/player/#/roberts4/oral_argument_audio/21816\n",
      "https://apps.oyez.org/player/#/roberts4/oral_argument_audio/22809\n",
      "https://apps.oyez.org/player/#/roberts4/oral_argument_audio/21726\n",
      "https://apps.oyez.org/player/#/roberts4/oral_argument_audio/23093\n",
      "https://apps.oyez.org/player/#/roberts4/oral_argument_audio/23092\n",
      "https://apps.oyez.org/player/#/roberts4/oral_argument_audio/23075\n",
      "https://apps.oyez.org/player/#/roberts4/oral_argument_audio/22674\n",
      "https://apps.oyez.org/player/#/roberts4/oral_argument_audio/22555\n",
      "https://apps.oyez.org/player/#/roberts4/oral_argument_audio/22447\n",
      "https://apps.oyez.org/player/#/roberts4/oral_argument_audio/22421\n",
      "https://apps.oyez.org/player/#/roberts4/oral_argument_audio/22269\n",
      "https://apps.oyez.org/player/#/roberts4/oral_argument_audio/22655\n",
      "https://apps.oyez.org/player/#/roberts4/oral_argument_audio/22695\n",
      "https://apps.oyez.org/player/#/roberts4/oral_argument_audio/21844\n",
      "https://apps.oyez.org/player/#/roberts4/oral_argument_audio/21898\n",
      "https://apps.oyez.org/player/#/roberts4/oral_argument_audio/22132\n",
      "https://apps.oyez.org/player/#/roberts4/oral_argument_audio/22109\n",
      "https://apps.oyez.org/player/#/roberts4/oral_argument_audio/22256\n",
      "https://apps.oyez.org/player/#/roberts4/oral_argument_audio/21952\n",
      "https://apps.oyez.org/player/#/roberts4/oral_argument_audio/21525\n",
      "https://apps.oyez.org/player/#/roberts4/oral_argument_audio/22540\n",
      "https://apps.oyez.org/player/#/roberts4/oral_argument_audio/22875\n",
      "https://apps.oyez.org/player/#/roberts4/oral_argument_audio/21592\n",
      "https://apps.oyez.org/player/#/roberts4/oral_argument_audio/22221\n",
      "https://apps.oyez.org/player/#/roberts4/oral_argument_audio/21449\n",
      "https://apps.oyez.org/player/#/roberts4/oral_argument_audio/21329\n",
      "https://apps.oyez.org/player/#/roberts4/oral_argument_audio/22747\n",
      "https://apps.oyez.org/player/#/roberts4/oral_argument_audio/22594\n",
      "https://apps.oyez.org/player/#/roberts4/oral_argument_audio/21605\n",
      "https://apps.oyez.org/player/#/roberts4/oral_argument_audio/22242\n",
      "https://apps.oyez.org/player/#/roberts4/oral_argument_audio/22885\n",
      "https://apps.oyez.org/player/#/roberts4/oral_argument_audio/22900\n",
      "https://apps.oyez.org/player/#/roberts4/oral_argument_audio/23086\n",
      "https://apps.oyez.org/player/#/roberts4/oral_argument_audio/22963\n",
      "https://apps.oyez.org/player/#/roberts4/oral_argument_audio/21790\n",
      "https://apps.oyez.org/player/#/roberts4/oral_argument_audio/22624\n",
      "https://apps.oyez.org/player/#/roberts4/oral_argument_audio/22946\n",
      "https://apps.oyez.org/player/#/roberts4/oral_argument_audio/21767\n",
      "https://apps.oyez.org/player/#/roberts4/oral_argument_audio/22932\n",
      "https://apps.oyez.org/player/#/roberts4/oral_argument_audio/22170\n",
      "https://apps.oyez.org/player/#/roberts4/oral_argument_audio/21700\n",
      "https://apps.oyez.org/player/#/roberts4/oral_argument_audio/22285\n",
      "https://apps.oyez.org/player/#/roberts4/oral_argument_audio/22431\n",
      "https://apps.oyez.org/player/#/roberts4/oral_argument_audio/22995\n",
      "https://apps.oyez.org/player/#/roberts4/oral_argument_audio/22754\n",
      "https://apps.oyez.org/player/#/roberts4/oral_argument_audio/21515\n",
      "https://apps.oyez.org/player/#/roberts4/oral_argument_audio/22111\n",
      "https://apps.oyez.org/player/#/roberts4/oral_argument_audio/22819\n",
      "https://apps.oyez.org/player/#/roberts4/oral_argument_audio/21941\n",
      "https://apps.oyez.org/player/#/roberts4/oral_argument_audio/21549\n",
      "https://apps.oyez.org/player/#/roberts4/oral_argument_audio/21881\n",
      "https://apps.oyez.org/player/#/roberts4/oral_argument_audio/21388\n",
      "https://apps.oyez.org/player/#/roberts4/oral_argument_audio/22974\n",
      "https://apps.oyez.org/player/#/roberts4/oral_argument_audio/22440\n",
      "https://apps.oyez.org/player/#/roberts4/oral_argument_audio/22656\n",
      "https://apps.oyez.org/player/#/roberts4/oral_argument_audio/21522\n"
     ]
    },
    {
     "name": "stdout",
     "output_type": "stream",
     "text": [
      "https://apps.oyez.org/player/#/roberts4/oral_argument_audio/22660\n",
      "https://apps.oyez.org/player/#/roberts4/oral_argument_audio/21299\n",
      "https://apps.oyez.org/player/#/roberts4/oral_argument_audio/21989\n",
      "https://apps.oyez.org/player/#/roberts4/oral_argument_audio/22541\n",
      "https://apps.oyez.org/player/#/roberts4/oral_argument_audio/22348\n",
      "https://apps.oyez.org/player/#/roberts4/oral_argument_audio/23061\n",
      "https://apps.oyez.org/player/#/roberts4/oral_argument_audio/23145\n",
      "https://apps.oyez.org/player/#/roberts6/oral_argument_audio/22372\n",
      "https://apps.oyez.org/player/#/roberts6/oral_argument_audio/21694\n",
      "https://apps.oyez.org/player/#/roberts6/oral_argument_audio/22462\n",
      "https://apps.oyez.org/player/#/roberts6/oral_argument_audio/21834\n",
      "https://apps.oyez.org/player/#/roberts6/oral_argument_audio/23016\n",
      "https://apps.oyez.org/player/#/roberts6/oral_argument_audio/22916\n",
      "https://apps.oyez.org/player/#/roberts6/oral_argument_audio/21761\n",
      "https://apps.oyez.org/player/#/roberts6/oral_argument_audio/22892\n",
      "https://apps.oyez.org/player/#/roberts6/oral_argument_audio/22422\n",
      "https://apps.oyez.org/player/#/roberts6/oral_argument_audio/22294\n",
      "https://apps.oyez.org/player/#/roberts6/oral_argument_audio/21675\n",
      "https://apps.oyez.org/player/#/roberts6/oral_argument_audio/21480\n",
      "https://apps.oyez.org/player/#/roberts6/oral_argument_audio/23110\n",
      "https://apps.oyez.org/player/#/roberts6/oral_argument_audio/23106\n",
      "https://apps.oyez.org/player/#/roberts6/oral_argument_audio/22151\n",
      "https://apps.oyez.org/player/#/roberts6/oral_argument_audio/21875\n",
      "https://apps.oyez.org/player/#/roberts6/oral_argument_audio/22513\n",
      "https://apps.oyez.org/player/#/roberts6/oral_argument_audio/21708\n",
      "https://apps.oyez.org/player/#/roberts6/oral_argument_audio/22070\n",
      "https://apps.oyez.org/player/#/roberts6/oral_argument_audio/22331\n",
      "https://apps.oyez.org/player/#/roberts6/oral_argument_audio/22573\n",
      "https://apps.oyez.org/player/#/roberts6/oral_argument_audio/21395\n",
      "https://apps.oyez.org/player/#/roberts6/oral_argument_audio/23143\n",
      "https://apps.oyez.org/player/#/roberts6/oral_argument_audio/23195\n",
      "https://apps.oyez.org/player/#/roberts6/oral_argument_audio/21562\n",
      "https://apps.oyez.org/player/#/roberts6/oral_argument_audio/22214\n",
      "https://apps.oyez.org/player/#/roberts6/oral_argument_audio/22344\n",
      "https://apps.oyez.org/player/#/roberts6/oral_argument_audio/21805\n",
      "https://apps.oyez.org/player/#/roberts6/oral_argument_audio/21909\n",
      "https://apps.oyez.org/player/#/roberts6/oral_argument_audio/22984\n",
      "https://apps.oyez.org/player/#/roberts6/oral_argument_audio/22978\n",
      "https://apps.oyez.org/player/#/roberts6/oral_argument_audio/22133\n",
      "https://apps.oyez.org/player/#/roberts6/oral_argument_audio/23128\n",
      "https://apps.oyez.org/player/#/roberts6/oral_argument_audio/21738\n",
      "https://apps.oyez.org/player/#/roberts6/oral_argument_audio/22706\n",
      "https://apps.oyez.org/player/#/roberts6/oral_argument_audio/21383\n",
      "https://apps.oyez.org/player/#/roberts6/oral_argument_audio/22607\n",
      "https://apps.oyez.org/player/#/roberts6/oral_argument_audio/21859\n",
      "https://apps.oyez.org/player/#/roberts6/oral_argument_audio/22392\n",
      "https://apps.oyez.org/player/#/roberts6/oral_argument_audio/23190\n",
      "https://apps.oyez.org/player/#/roberts6/oral_argument_audio/22726\n",
      "https://apps.oyez.org/player/#/roberts6/oral_argument_audio/21626\n",
      "https://apps.oyez.org/player/#/roberts6/oral_argument_audio/22412\n",
      "https://apps.oyez.org/player/#/roberts6/oral_argument_audio/22841\n",
      "https://apps.oyez.org/player/#/roberts6/oral_argument_audio/22530\n",
      "https://apps.oyez.org/player/#/roberts6/oral_argument_audio/22609\n",
      "https://apps.oyez.org/player/#/roberts6/oral_argument_audio/22610\n",
      "https://apps.oyez.org/player/#/roberts6/oral_argument_audio/22760\n",
      "https://apps.oyez.org/player/#/roberts6/oral_argument_audio/21744\n",
      "https://apps.oyez.org/player/#/roberts6/oral_argument_audio/21463\n",
      "https://apps.oyez.org/player/#/roberts6/oral_argument_audio/22349\n",
      "https://apps.oyez.org/player/#/roberts6/oral_argument_audio/22518\n",
      "https://apps.oyez.org/player/#/roberts6/oral_argument_audio/23108\n",
      "https://apps.oyez.org/player/#/roberts6/oral_argument_audio/22229\n",
      "https://apps.oyez.org/player/#/roberts6/oral_argument_audio/22379\n",
      "https://apps.oyez.org/player/#/roberts6/oral_argument_audio/21417\n",
      "https://apps.oyez.org/player/#/roberts6/oral_argument_audio/22538\n",
      "https://apps.oyez.org/player/#/roberts6/oral_argument_audio/21948\n",
      "https://apps.oyez.org/player/#/roberts6/oral_argument_audio/22838\n",
      "https://apps.oyez.org/player/#/roberts6/oral_argument_audio/21293\n",
      "https://apps.oyez.org/player/#/roberts6/oral_argument_audio/22776\n",
      "https://apps.oyez.org/player/#/roberts6/oral_argument_audio/21421\n",
      "https://apps.oyez.org/player/#/roberts6/oral_argument_audio/21423\n",
      "https://apps.oyez.org/player/#/roberts6/oral_argument_audio/21696\n",
      "https://apps.oyez.org/player/#/roberts6/oral_argument_audio/21901\n",
      "https://apps.oyez.org/player/#/roberts6/oral_argument_audio/23038\n",
      "https://apps.oyez.org/player/#/roberts6/oral_argument_audio/21795\n",
      "https://apps.oyez.org/player/#/roberts6/oral_argument_audio/22673\n",
      "https://apps.oyez.org/player/#/roberts6/oral_argument_audio/21963\n",
      "https://apps.oyez.org/player/#/roberts6/oral_argument_audio/23023\n",
      "https://apps.oyez.org/player/#/roberts6/oral_argument_audio/22139\n",
      "https://apps.oyez.org/player/#/roberts6/oral_argument_audio/21905\n",
      "https://apps.oyez.org/player/#/roberts6/oral_argument_audio/22729\n",
      "https://apps.oyez.org/player/#/roberts6/oral_argument_audio/22672\n",
      "https://apps.oyez.org/player/#/roberts6/oral_argument_audio/21886\n",
      "https://apps.oyez.org/player/#/roberts6/oral_argument_audio/21513\n",
      "https://apps.oyez.org/player/#/roberts6/oral_argument_audio/21748\n",
      "https://apps.oyez.org/player/#/roberts6/oral_argument_audio/22763\n",
      "https://apps.oyez.org/player/#/roberts6/oral_argument_audio/22060\n",
      "https://apps.oyez.org/player/#/roberts6/oral_argument_audio/22022\n",
      "https://apps.oyez.org/player/#/roberts6/oral_argument_audio/23188\n",
      "https://apps.oyez.org/player/#/roberts6/oral_argument_audio/22543\n",
      "https://apps.oyez.org/player/#/roberts6/oral_argument_audio/22258\n",
      "https://apps.oyez.org/player/#/roberts6/oral_argument_audio/22648\n",
      "https://apps.oyez.org/player/#/roberts6/oral_argument_audio/21922\n",
      "https://apps.oyez.org/player/#/roberts6/oral_argument_audio/22659\n",
      "https://apps.oyez.org/player/#/roberts6/oral_argument_audio/22073\n",
      "https://apps.oyez.org/player/#/roberts6/oral_argument_audio/21538\n",
      "https://apps.oyez.org/player/#/roberts6/oral_argument_audio/22761\n",
      "https://apps.oyez.org/player/#/roberts6/oral_argument_audio/22069\n",
      "https://apps.oyez.org/player/#/roberts6/oral_argument_audio/22565\n",
      "https://apps.oyez.org/player/#/roberts6/oral_argument_audio/22604\n",
      "https://apps.oyez.org/player/#/roberts6/oral_argument_audio/22426\n",
      "https://apps.oyez.org/player/#/roberts6/oral_argument_audio/23090\n",
      "https://apps.oyez.org/player/#/roberts6/oral_argument_audio/23162\n",
      "https://apps.oyez.org/player/#/roberts6/oral_argument_audio/22232\n",
      "https://apps.oyez.org/player/#/roberts6/oral_argument_audio/21878\n",
      "https://apps.oyez.org/player/#/roberts6/oral_argument_audio/22248\n",
      "https://apps.oyez.org/player/#/roberts6/oral_argument_audio/23158\n",
      "https://apps.oyez.org/player/#/roberts6/oral_argument_audio/22336\n",
      "https://apps.oyez.org/player/#/roberts6/oral_argument_audio/22663\n",
      "https://apps.oyez.org/player/#/roberts6/oral_argument_audio/21637\n",
      "https://apps.oyez.org/player/#/roberts6/oral_argument_audio/21305\n",
      "https://apps.oyez.org/player/#/roberts6/oral_argument_audio/21535\n",
      "https://apps.oyez.org/player/#/roberts6/oral_argument_audio/21559\n",
      "https://apps.oyez.org/player/#/roberts6/oral_argument_audio/23033\n",
      "https://apps.oyez.org/player/#/roberts6/oral_argument_audio/23472\n",
      "https://apps.oyez.org/player/#/roberts6/oral_argument_audio/21324\n",
      "https://apps.oyez.org/player/#/roberts6/oral_argument_audio/22137\n",
      "https://apps.oyez.org/player/#/roberts6/oral_argument_audio/22688\n",
      "https://apps.oyez.org/player/#/roberts6/oral_argument_audio/22075\n",
      "https://apps.oyez.org/player/#/roberts6/oral_argument_audio/21671\n",
      "https://apps.oyez.org/player/#/roberts6/oral_argument_audio/22535\n",
      "https://apps.oyez.org/player/#/roberts6/oral_argument_audio/23155\n",
      "https://apps.oyez.org/player/#/roberts6/oral_argument_audio/21765\n",
      "https://apps.oyez.org/player/#/roberts6/oral_argument_audio/21510\n",
      "https://apps.oyez.org/player/#/roberts6/oral_argument_audio/23109\n",
      "https://apps.oyez.org/player/#/roberts6/oral_argument_audio/21929\n"
     ]
    },
    {
     "name": "stdout",
     "output_type": "stream",
     "text": [
      "https://apps.oyez.org/player/#/roberts6/oral_argument_audio/23578\n",
      "https://apps.oyez.org/player/#/roberts6/oral_argument_audio/21609\n",
      "https://apps.oyez.org/player/#/roberts6/oral_argument_audio/22598\n",
      "https://apps.oyez.org/player/#/roberts6/oral_argument_audio/21740\n",
      "https://apps.oyez.org/player/#/roberts6/oral_argument_audio/23115\n",
      "https://apps.oyez.org/player/#/roberts6/oral_argument_audio/23636\n",
      "https://apps.oyez.org/player/#/roberts6/oral_argument_audio/23639\n",
      "https://apps.oyez.org/player/#/roberts6/oral_argument_audio/21342\n",
      "https://apps.oyez.org/player/#/roberts6/oral_argument_audio/23643\n",
      "https://apps.oyez.org/player/#/roberts6/oral_argument_audio/22414\n",
      "https://apps.oyez.org/player/#/roberts6/oral_argument_audio/22233\n",
      "https://apps.oyez.org/player/#/roberts6/oral_argument_audio/21370\n",
      "https://apps.oyez.org/player/#/roberts6/oral_argument_audio/21808\n",
      "https://apps.oyez.org/player/#/roberts6/oral_argument_audio/21627\n",
      "https://apps.oyez.org/player/#/roberts6/oral_argument_audio/21858\n",
      "https://apps.oyez.org/player/#/roberts6/oral_argument_audio/22667\n",
      "https://apps.oyez.org/player/#/roberts6/oral_argument_audio/21577\n",
      "https://apps.oyez.org/player/#/roberts6/oral_argument_audio/22365\n",
      "https://apps.oyez.org/player/#/roberts6/oral_argument_audio/22337\n",
      "https://apps.oyez.org/player/#/roberts6/oral_argument_audio/21412\n",
      "https://apps.oyez.org/player/#/roberts6/oral_argument_audio/22114\n",
      "https://apps.oyez.org/player/#/roberts6/oral_argument_audio/22466\n",
      "https://apps.oyez.org/player/#/roberts6/oral_argument_audio/22506\n",
      "https://apps.oyez.org/player/#/roberts6/oral_argument_audio/22955\n",
      "https://apps.oyez.org/player/#/roberts6/oral_argument_audio/22000\n",
      "https://apps.oyez.org/player/#/roberts6/oral_argument_audio/22626\n",
      "https://apps.oyez.org/player/#/roberts6/oral_argument_audio/22032\n",
      "https://apps.oyez.org/player/#/roberts6/oral_argument_audio/22661\n",
      "https://apps.oyez.org/player/#/roberts6/oral_argument_audio/22550\n",
      "https://apps.oyez.org/player/#/roberts6/oral_argument_audio/22225\n",
      "https://apps.oyez.org/player/#/roberts6/oral_argument_audio/21953\n",
      "https://apps.oyez.org/player/#/roberts6/oral_argument_audio/21836\n",
      "https://apps.oyez.org/player/#/roberts6/oral_argument_audio/21959\n",
      "https://apps.oyez.org/player/#/roberts6/oral_argument_audio/21999\n",
      "https://apps.oyez.org/player/#/roberts6/oral_argument_audio/21944\n",
      "https://apps.oyez.org/player/#/roberts6/oral_argument_audio/21792\n",
      "https://apps.oyez.org/player/#/roberts6/oral_argument_audio/22406\n",
      "https://apps.oyez.org/player/#/roberts6/oral_argument_audio/22289\n",
      "https://apps.oyez.org/player/#/roberts6/oral_argument_audio/22954\n",
      "https://apps.oyez.org/player/#/roberts6/oral_argument_audio/21476\n",
      "https://apps.oyez.org/player/#/roberts6/oral_argument_audio/22303\n",
      "https://apps.oyez.org/player/#/roberts6/oral_argument_audio/22121\n",
      "https://apps.oyez.org/player/#/roberts6/oral_argument_audio/22106\n",
      "https://apps.oyez.org/player/#/roberts6/oral_argument_audio/21396\n",
      "https://apps.oyez.org/player/#/roberts6/oral_argument_audio/21362\n",
      "https://apps.oyez.org/player/#/roberts6/oral_argument_audio/23046\n",
      "https://apps.oyez.org/player/#/roberts6/oral_argument_audio/23096\n",
      "https://apps.oyez.org/player/#/roberts6/oral_argument_audio/22846\n",
      "https://apps.oyez.org/player/#/roberts6/oral_argument_audio/21539\n",
      "https://apps.oyez.org/player/#/roberts6/oral_argument_audio/22056\n",
      "https://apps.oyez.org/player/#/roberts6/oral_argument_audio/22341\n",
      "https://apps.oyez.org/player/#/roberts6/oral_argument_audio/21542\n",
      "https://apps.oyez.org/player/#/roberts6/oral_argument_audio/21962\n",
      "https://apps.oyez.org/player/#/roberts6/oral_argument_audio/21497\n",
      "https://apps.oyez.org/player/#/roberts6/oral_argument_audio/21594\n",
      "https://apps.oyez.org/player/#/roberts6/oral_argument_audio/21587\n",
      "https://apps.oyez.org/player/#/roberts6/oral_argument_audio/22037\n",
      "https://apps.oyez.org/player/#/roberts6/oral_argument_audio/22527\n",
      "https://apps.oyez.org/player/#/roberts6/oral_argument_audio/21407\n",
      "https://apps.oyez.org/player/#/roberts6/oral_argument_audio/21459\n",
      "https://apps.oyez.org/player/#/roberts6/oral_argument_audio/22019\n",
      "https://apps.oyez.org/player/#/roberts6/oral_argument_audio/21315\n",
      "https://apps.oyez.org/player/#/roberts6/oral_argument_audio/22823\n",
      "https://apps.oyez.org/player/#/roberts6/oral_argument_audio/22835\n",
      "https://apps.oyez.org/player/#/roberts6/oral_argument_audio/22084\n",
      "https://apps.oyez.org/player/#/roberts6/oral_argument_audio/22180\n",
      "https://apps.oyez.org/player/#/roberts6/oral_argument_audio/22172\n",
      "https://apps.oyez.org/player/#/roberts6/oral_argument_audio/22112\n",
      "https://apps.oyez.org/player/#/roberts6/oral_argument_audio/22368\n",
      "https://apps.oyez.org/player/#/roberts6/oral_argument_audio/21619\n",
      "https://apps.oyez.org/player/#/roberts6/oral_argument_audio/21956\n",
      "https://apps.oyez.org/player/#/roberts6/oral_argument_audio/22781\n",
      "https://apps.oyez.org/player/#/roberts6/oral_argument_audio/21429\n",
      "https://apps.oyez.org/player/#/roberts6/oral_argument_audio/21661\n",
      "https://apps.oyez.org/player/#/roberts6/oral_argument_audio/23117\n",
      "https://apps.oyez.org/player/#/roberts6/oral_argument_audio/21890\n",
      "https://apps.oyez.org/player/#/roberts6/oral_argument_audio/22033\n",
      "https://apps.oyez.org/player/#/roberts6/oral_argument_audio/21398\n",
      "https://apps.oyez.org/player/#/roberts6/oral_argument_audio/22894\n",
      "https://apps.oyez.org/player/#/roberts6/oral_argument_audio/22364\n",
      "https://apps.oyez.org/player/#/roberts6/oral_argument_audio/22793\n",
      "https://apps.oyez.org/player/#/roberts6/oral_argument_audio/23104\n",
      "https://apps.oyez.org/player/#/roberts6/oral_argument_audio/21990\n",
      "https://apps.oyez.org/player/#/roberts6/oral_argument_audio/22465\n",
      "https://apps.oyez.org/player/#/roberts6/oral_argument_audio/21974\n",
      "https://apps.oyez.org/player/#/roberts6/oral_argument_audio/22156\n",
      "https://apps.oyez.org/player/#/roberts6/oral_argument_audio/22703\n",
      "https://apps.oyez.org/player/#/roberts6/oral_argument_audio/21718\n",
      "https://apps.oyez.org/player/#/roberts6/oral_argument_audio/23571\n",
      "https://apps.oyez.org/player/#/roberts6/oral_argument_audio/21648\n",
      "https://apps.oyez.org/player/#/roberts6/oral_argument_audio/22918\n",
      "https://apps.oyez.org/player/#/roberts6/oral_argument_audio/21864\n",
      "https://apps.oyez.org/player/#/roberts6/oral_argument_audio/21390\n",
      "https://apps.oyez.org/player/#/roberts6/oral_argument_audio/22844\n",
      "https://apps.oyez.org/player/#/roberts6/oral_argument_audio/21757\n",
      "https://apps.oyez.org/player/#/roberts6/oral_argument_audio/22486\n",
      "https://apps.oyez.org/player/#/roberts6/oral_argument_audio/22558\n",
      "https://apps.oyez.org/player/#/roberts6/oral_argument_audio/22829\n",
      "https://apps.oyez.org/player/#/roberts6/oral_argument_audio/22649\n",
      "https://apps.oyez.org/player/#/roberts6/oral_argument_audio/22778\n",
      "https://apps.oyez.org/player/#/roberts6/oral_argument_audio/22077\n",
      "https://apps.oyez.org/player/#/roberts6/oral_argument_audio/21460\n",
      "https://apps.oyez.org/player/#/roberts6/oral_argument_audio/21847\n",
      "https://apps.oyez.org/player/#/roberts6/oral_argument_audio/22071\n",
      "https://apps.oyez.org/player/#/roberts6/oral_argument_audio/22509\n",
      "https://apps.oyez.org/player/#/roberts6/oral_argument_audio/21508\n",
      "https://apps.oyez.org/player/#/roberts6/oral_argument_audio/23527\n",
      "https://apps.oyez.org/player/#/roberts6/oral_argument_audio/21732\n",
      "https://apps.oyez.org/player/#/roberts6/oral_argument_audio/23037\n",
      "https://apps.oyez.org/player/#/roberts6/oral_argument_audio/23529\n",
      "https://apps.oyez.org/player/#/roberts6/oral_argument_audio/23520\n",
      "https://apps.oyez.org/player/#/roberts6/oral_argument_audio/23137\n",
      "https://apps.oyez.org/player/#/roberts6/oral_argument_audio/22866\n",
      "https://apps.oyez.org/player/#/roberts6/oral_argument_audio/22890\n",
      "https://apps.oyez.org/player/#/roberts6/oral_argument_audio/21642\n",
      "https://apps.oyez.org/player/#/roberts6/oral_argument_audio/23076\n",
      "https://apps.oyez.org/player/#/roberts6/oral_argument_audio/22118\n",
      "https://apps.oyez.org/player/#/roberts6/oral_argument_audio/23268\n",
      "https://apps.oyez.org/player/#/roberts6/oral_argument_audio/21723\n",
      "https://apps.oyez.org/player/#/roberts6/oral_argument_audio/23521\n",
      "https://apps.oyez.org/player/#/roberts6/oral_argument_audio/23519\n",
      "https://apps.oyez.org/player/#/roberts6/oral_argument_audio/21578\n",
      "https://apps.oyez.org/player/#/roberts6/oral_argument_audio/21550\n",
      "https://apps.oyez.org/player/#/roberts6/oral_argument_audio/22292\n",
      "https://apps.oyez.org/player/#/roberts6/oral_argument_audio/23013\n"
     ]
    },
    {
     "name": "stdout",
     "output_type": "stream",
     "text": [
      "https://apps.oyez.org/player/#/roberts6/oral_argument_audio/23235\n",
      "https://apps.oyez.org/player/#/roberts6/oral_argument_audio/23222\n",
      "https://apps.oyez.org/player/#/roberts6/oral_argument_audio/23248\n",
      "https://apps.oyez.org/player/#/roberts6/oral_argument_audio/23097\n",
      "https://apps.oyez.org/player/#/roberts6/oral_argument_audio/21363\n",
      "https://apps.oyez.org/player/#/roberts6/oral_argument_audio/23478\n",
      "https://apps.oyez.org/player/#/roberts6/oral_argument_audio/22575\n",
      "https://apps.oyez.org/player/#/roberts6/oral_argument_audio/22684\n",
      "https://apps.oyez.org/player/#/roberts6/oral_argument_audio/23475\n",
      "https://apps.oyez.org/player/#/roberts6/oral_argument_audio/23696\n",
      "https://apps.oyez.org/player/#/roberts6/oral_argument_audio/21544\n",
      "https://apps.oyez.org/player/#/roberts6/oral_argument_audio/22965\n",
      "https://apps.oyez.org/player/#/roberts6/oral_argument_audio/23538\n",
      "https://apps.oyez.org/player/#/roberts6/oral_argument_audio/23204\n",
      "https://apps.oyez.org/player/#/roberts6/oral_argument_audio/21772\n",
      "https://apps.oyez.org/player/#/roberts6/oral_argument_audio/21758\n",
      "https://apps.oyez.org/player/#/roberts6/oral_argument_audio/23140\n",
      "https://apps.oyez.org/player/#/roberts6/oral_argument_audio/21353\n",
      "https://apps.oyez.org/player/#/roberts6/oral_argument_audio/21552\n",
      "https://apps.oyez.org/player/#/roberts6/oral_argument_audio/21683\n",
      "https://apps.oyez.org/player/#/roberts6/oral_argument_audio/21916\n",
      "https://apps.oyez.org/player/#/roberts6/oral_argument_audio/22173\n",
      "https://apps.oyez.org/player/#/roberts6/oral_argument_audio/23518\n",
      "https://apps.oyez.org/player/#/roberts6/oral_argument_audio/22940\n",
      "https://apps.oyez.org/player/#/roberts6/oral_argument_audio/23603\n",
      "https://apps.oyez.org/player/#/roberts6/oral_argument_audio/22814\n",
      "https://apps.oyez.org/player/#/roberts6/oral_argument_audio/21614\n",
      "https://apps.oyez.org/player/#/roberts6/oral_argument_audio/23632\n",
      "https://apps.oyez.org/player/#/roberts6/oral_argument_audio/23517\n",
      "https://apps.oyez.org/player/#/roberts6/oral_argument_audio/22239\n",
      "https://apps.oyez.org/player/#/roberts6/oral_argument_audio/23059\n",
      "https://apps.oyez.org/player/#/roberts6/oral_argument_audio/23523\n",
      "https://apps.oyez.org/player/#/roberts6/oral_argument_audio/23588\n",
      "https://apps.oyez.org/player/#/roberts6/oral_argument_audio/23628\n",
      "https://apps.oyez.org/player/#/roberts6/oral_argument_audio/21610\n",
      "https://apps.oyez.org/player/#/roberts6/oral_argument_audio/23129\n",
      "https://apps.oyez.org/player/#/roberts6/oral_argument_audio/22178\n",
      "https://apps.oyez.org/player/#/roberts6/oral_argument_audio/21871\n",
      "https://apps.oyez.org/player/#/roberts6/oral_argument_audio/22497\n",
      "https://apps.oyez.org/player/#/roberts6/oral_argument_audio/23536\n",
      "https://apps.oyez.org/player/#/roberts6/oral_argument_audio/22615\n",
      "https://apps.oyez.org/player/#/roberts6/oral_argument_audio/22305\n",
      "https://apps.oyez.org/player/#/roberts6/oral_argument_audio/22425\n",
      "https://apps.oyez.org/player/#/roberts6/oral_argument_audio/23170\n",
      "https://apps.oyez.org/player/#/roberts6/oral_argument_audio/23522\n",
      "https://apps.oyez.org/player/#/roberts6/oral_argument_audio/22777\n",
      "https://apps.oyez.org/player/#/roberts6/oral_argument_audio/22936\n",
      "https://apps.oyez.org/player/#/roberts6/oral_argument_audio/23660\n",
      "https://apps.oyez.org/player/#/roberts6/oral_argument_audio/22586\n",
      "https://apps.oyez.org/player/#/roberts6/oral_argument_audio/23066\n",
      "https://apps.oyez.org/player/#/roberts6/oral_argument_audio/23205\n",
      "https://apps.oyez.org/player/#/roberts6/oral_argument_audio/23291\n",
      "https://apps.oyez.org/player/#/roberts6/oral_argument_audio/23252\n",
      "https://apps.oyez.org/player/#/roberts6/oral_argument_audio/23270\n",
      "https://apps.oyez.org/player/#/roberts6/oral_argument_audio/23278\n",
      "https://apps.oyez.org/player/#/roberts6/oral_argument_audio/23293\n",
      "https://apps.oyez.org/player/#/roberts6/oral_argument_audio/23310\n",
      "https://apps.oyez.org/player/#/roberts6/oral_argument_audio/23737\n",
      "https://apps.oyez.org/player/#/roberts6/oral_argument_audio/23739\n",
      "https://apps.oyez.org/player/#/roberts6/oral_argument_audio/23743\n",
      "https://apps.oyez.org/player/#/roberts6/oral_argument_audio/23735\n",
      "https://apps.oyez.org/player/#/roberts6/oral_argument_audio/23314\n",
      "https://apps.oyez.org/player/#/roberts6/oral_argument_audio/23313\n",
      "https://apps.oyez.org/player/#/roberts6/oral_argument_audio/23740\n",
      "https://apps.oyez.org/player/#/roberts6/oral_argument_audio/23236\n",
      "https://apps.oyez.org/player/#/roberts6/oral_argument_audio/23265\n",
      "https://apps.oyez.org/player/#/roberts6/oral_argument_audio/23203\n",
      "https://apps.oyez.org/player/#/roberts6/oral_argument_audio/23230\n",
      "https://apps.oyez.org/player/#/roberts6/oral_argument_audio/23229\n",
      "https://apps.oyez.org/player/#/roberts6/oral_argument_audio/23259\n",
      "https://apps.oyez.org/player/#/roberts6/oral_argument_audio/23256\n",
      "https://apps.oyez.org/player/#/roberts6/oral_argument_audio/23246\n",
      "https://apps.oyez.org/player/#/roberts6/oral_argument_audio/23752\n",
      "https://apps.oyez.org/player/#/roberts6/oral_argument_audio/23257\n",
      "https://apps.oyez.org/player/#/roberts6/oral_argument_audio/23742\n",
      "https://apps.oyez.org/player/#/roberts6/oral_argument_audio/23272\n",
      "https://apps.oyez.org/player/#/roberts6/oral_argument_audio/23206\n",
      "https://apps.oyez.org/player/#/roberts6/oral_argument_audio/23221\n",
      "https://apps.oyez.org/player/#/roberts6/oral_argument_audio/23733\n",
      "https://apps.oyez.org/player/#/roberts6/oral_argument_audio/23301\n",
      "https://apps.oyez.org/player/#/roberts6/oral_argument_audio/23311\n",
      "https://apps.oyez.org/player/#/roberts6/oral_argument_audio/23754\n",
      "https://apps.oyez.org/player/#/roberts6/oral_argument_audio/23312\n",
      "https://apps.oyez.org/player/#/roberts6/oral_argument_audio/23264\n",
      "https://apps.oyez.org/player/#/roberts6/oral_argument_audio/23215\n",
      "https://apps.oyez.org/player/#/roberts6/oral_argument_audio/23741\n",
      "https://apps.oyez.org/player/#/roberts6/oral_argument_audio/23286\n",
      "https://apps.oyez.org/player/#/roberts6/oral_argument_audio/23750\n",
      "https://apps.oyez.org/player/#/roberts6/oral_argument_audio/23281\n",
      "https://apps.oyez.org/player/#/roberts6/oral_argument_audio/23234\n",
      "https://apps.oyez.org/player/#/roberts6/oral_argument_audio/23732\n",
      "https://apps.oyez.org/player/#/roberts6/oral_argument_audio/23218\n",
      "https://apps.oyez.org/player/#/roberts6/oral_argument_audio/23738\n",
      "https://apps.oyez.org/player/#/roberts6/oral_argument_audio/23208\n",
      "https://apps.oyez.org/player/#/roberts6/oral_argument_audio/23751\n",
      "https://apps.oyez.org/player/#/roberts6/oral_argument_audio/23753\n",
      "https://apps.oyez.org/player/#/roberts6/oral_argument_audio/23279\n",
      "https://apps.oyez.org/player/#/roberts6/oral_argument_audio/23237\n",
      "https://apps.oyez.org/player/#/roberts6/oral_argument_audio/23304\n",
      "https://apps.oyez.org/player/#/roberts6/oral_argument_audio/23306\n",
      "https://apps.oyez.org/player/#/roberts6/oral_argument_audio/23303\n",
      "https://apps.oyez.org/player/#/roberts6/oral_argument_audio/23749\n",
      "https://apps.oyez.org/player/#/roberts6/oral_argument_audio/23226\n",
      "https://apps.oyez.org/player/#/roberts6/oral_argument_audio/23202\n",
      "https://apps.oyez.org/player/#/roberts6/oral_argument_audio/23300\n",
      "https://apps.oyez.org/player/#/roberts6/oral_argument_audio/23285\n",
      "https://apps.oyez.org/player/#/roberts6/oral_argument_audio/23269\n",
      "https://apps.oyez.org/player/#/roberts6/oral_argument_audio/23263\n",
      "https://apps.oyez.org/player/#/roberts6/oral_argument_audio/23288\n",
      "https://apps.oyez.org/player/#/roberts6/oral_argument_audio/23734\n",
      "https://apps.oyez.org/player/#/roberts6/oral_argument_audio/23217\n",
      "https://apps.oyez.org/player/#/roberts6/oral_argument_audio/23228\n",
      "https://apps.oyez.org/player/#/roberts6/oral_argument_audio/23216\n",
      "https://apps.oyez.org/player/#/roberts6/oral_argument_audio/23249\n",
      "https://apps.oyez.org/player/#/roberts6/oral_argument_audio/23280\n",
      "https://apps.oyez.org/player/#/roberts6/oral_argument_audio/23307\n",
      "https://apps.oyez.org/player/#/roberts6/oral_argument_audio/23292\n",
      "time: 52min 51s\n"
     ]
    }
   ],
   "source": [
    "htmls1 = []\n",
    "htmls2 = []\n",
    "links = []\n",
    "list_test = []\n",
    "driver = webdriver.Chrome(executable_path=\"./chromedriver/chromedriver\")\n",
    "for url in case_series:    \n",
    "    #go to link\n",
    "    driver.get(url)\n",
    "    #wait b/c javascript\n",
    "    sleep(1)\n",
    "    #get html\n",
    "    html1 = driver.page_source\n",
    "    htmls1.append(html1)\n",
    "    #beatuful soup\n",
    "    soup = BeautifulSoup(html1, 'lxml')\n",
    "    for i in soup.find_all('a', {'class':'ng-binding ng-isolate-scope'}):\n",
    "        if 'argument' in i['iframe-url']:\n",
    "            if 'https://apps.oyez.org' in i['iframe-url']:\n",
    "                driver.get(str(i['iframe-url']))\n",
    "                links.append(str(i['iframe-url']))\n",
    "                print str(i['iframe-url'])\n",
    "                sleep(1)\n",
    "                html2 = driver.page_source\n",
    "                htmls2.append(html2)\n",
    "                list_test.append([str(i['iframe-url']),html2,html1])\n",
    "                "
   ]
  },
  {
   "cell_type": "code",
   "execution_count": 92,
   "metadata": {},
   "outputs": [
    {
     "name": "stdout",
     "output_type": "stream",
     "text": [
      "time: 92.6 ms\n"
     ]
    }
   ],
   "source": [
    "driver.close()"
   ]
  },
  {
   "cell_type": "code",
   "execution_count": 93,
   "metadata": {},
   "outputs": [
    {
     "name": "stdout",
     "output_type": "stream",
     "text": [
      "time: 1min 12s\n"
     ]
    }
   ],
   "source": [
    "list_text2 = []\n",
    "for i in list_test:\n",
    "    soup1 = BeautifulSoup(i[2], 'lxml')\n",
    "    soup2 = BeautifulSoup(i[1], 'lxml')\n",
    "    list_text2.append([i[0],soup1,soup2])"
   ]
  },
  {
   "cell_type": "markdown",
   "metadata": {},
   "source": [
    "The data was then extraced from the html of the case page and the audio transcript page"
   ]
  },
  {
   "cell_type": "code",
   "execution_count": 129,
   "metadata": {},
   "outputs": [
    {
     "name": "stdout",
     "output_type": "stream",
     "text": [
      "time: 49.6 s\n"
     ]
    }
   ],
   "source": [
    "list_text3 = []\n",
    "for term in list_text2:\n",
    "    verbage = []\n",
    "    speakers = []\n",
    "    audio_link = []\n",
    "    docket = []\n",
    "    petitioner = []\n",
    "    respondent = []\n",
    "    decided = []\n",
    "    decision = []\n",
    "    for i in term[2].find_all('section',{'ng-repeat':'turn in section.turns'}):\n",
    "        verb = []\n",
    "        speaker= []\n",
    "        for x in i.find('h4'):\n",
    "            speaker = x\n",
    "        for y in i.find_all('p', {'ng-repeat':'textBlock in turn.text_blocks'}):\n",
    "            verb.append(y.text)\n",
    "        if len(speaker) == 0:\n",
    "            speaker = np.NaN\n",
    "        speakers.append(speaker)\n",
    "        verbage.append(verb)  \n",
    "    for i in term[1].find_all('div',{'class':'cell ng-binding'}):\n",
    "        if 'Docket' in i.text:\n",
    "            docket = i.text\n",
    "        if 'Petitioner' in i.text:\n",
    "            petitioner = i.text\n",
    "        if 'Respondent' in i.text:\n",
    "            respondent = i.text\n",
    "    for x in term[1].find_all('a', {'class':'ng-binding ng-isolate-scope'}):  \n",
    "        \n",
    "        if 'oral_argument_audio' in str(x['iframe-url']):\n",
    "            audio_link.append(str(x['iframe-url']))\n",
    "    for y in term[1].find_all('div', {'ng-repeat':'chron in case.timeline'}):\n",
    "        if 'Decided' in y.text:\n",
    "            decided = y.text\n",
    "    for f in term[1].find_all('span',{'ng-if':'decision.winning_party'}):\n",
    "        decision = f.text\n",
    "        \n",
    "    list_text3.append([term[0], audio_link, docket[11:], respondent[11:], petitioner[11:], decided[9:-1], decision[5:],speakers,verbage]) "
   ]
  },
  {
   "cell_type": "code",
   "execution_count": 130,
   "metadata": {},
   "outputs": [
    {
     "data": {
      "text/plain": [
       "['https://apps.oyez.org/player/#/rehnquist10/oral_argument_audio/22757',\n",
       " ['https://apps.oyez.org/player/#/rehnquist10/oral_argument_audio/22757'],\n",
       " u' 00-492 ',\n",
       " u' Bozeman ',\n",
       " u' Alabama ',\n",
       " u'Jun 11, 2001',\n",
       " [],\n",
       " [u'William H. Rehnquist',\n",
       "  u'Sandra Jean Stewart',\n",
       "  u\"Sandra Day O'Connor\",\n",
       "  u'Sandra Jean Stewart',\n",
       "  u\"Sandra Day O'Connor\",\n",
       "  u'Sandra Jean Stewart',\n",
       "  u\"Sandra Day O'Connor\",\n",
       "  u'Sandra Jean Stewart',\n",
       "  u'Anthony M. Kennedy',\n",
       "  u'Sandra Jean Stewart',\n",
       "  u'Anthony M. Kennedy',\n",
       "  u'Sandra Jean Stewart',\n",
       "  u'William H. Rehnquist',\n",
       "  u'Sandra Jean Stewart',\n",
       "  u'William H. Rehnquist',\n",
       "  u'Sandra Jean Stewart',\n",
       "  u'Antonin Scalia',\n",
       "  u'Sandra Jean Stewart',\n",
       "  u'Antonin Scalia',\n",
       "  u'Sandra Jean Stewart',\n",
       "  u'David H. Souter',\n",
       "  u'Sandra Jean Stewart',\n",
       "  u'David H. Souter',\n",
       "  u'Sandra Jean Stewart',\n",
       "  u'Stephen G. Breyer',\n",
       "  u'Sandra Jean Stewart',\n",
       "  u'Stephen G. Breyer',\n",
       "  u'Sandra Jean Stewart',\n",
       "  u'Stephen G. Breyer',\n",
       "  u'Sandra Jean Stewart',\n",
       "  u'Stephen G. Breyer',\n",
       "  u'Sandra Jean Stewart',\n",
       "  u'Stephen G. Breyer',\n",
       "  u'Sandra Jean Stewart',\n",
       "  u'Stephen G. Breyer',\n",
       "  u'Sandra Jean Stewart',\n",
       "  u'Stephen G. Breyer',\n",
       "  u'Sandra Jean Stewart',\n",
       "  u'Stephen G. Breyer',\n",
       "  u'Sandra Jean Stewart',\n",
       "  u'Stephen G. Breyer',\n",
       "  u'Sandra Jean Stewart',\n",
       "  u'Stephen G. Breyer',\n",
       "  u'Sandra Jean Stewart',\n",
       "  u'Stephen G. Breyer',\n",
       "  u'Sandra Jean Stewart',\n",
       "  u'Stephen G. Breyer',\n",
       "  u'Sandra Jean Stewart',\n",
       "  u'Anthony M. Kennedy',\n",
       "  u'Sandra Jean Stewart',\n",
       "  u'Anthony M. Kennedy',\n",
       "  u'Sandra Jean Stewart',\n",
       "  u'Anthony M. Kennedy',\n",
       "  u'Sandra Jean Stewart',\n",
       "  u'Anthony M. Kennedy',\n",
       "  u'Sandra Jean Stewart',\n",
       "  u'Anthony M. Kennedy',\n",
       "  u'Sandra Jean Stewart',\n",
       "  u'Anthony M. Kennedy',\n",
       "  u'Sandra Jean Stewart',\n",
       "  u'Stephen G. Breyer',\n",
       "  u'Sandra Jean Stewart',\n",
       "  u'Anthony M. Kennedy',\n",
       "  u'Sandra Jean Stewart',\n",
       "  u'Anthony M. Kennedy',\n",
       "  u'Sandra Jean Stewart',\n",
       "  u'Anthony M. Kennedy',\n",
       "  u'Sandra Jean Stewart',\n",
       "  u'Anthony M. Kennedy',\n",
       "  u'Sandra Jean Stewart',\n",
       "  u'Anthony M. Kennedy',\n",
       "  u'Sandra Jean Stewart',\n",
       "  u'Ruth Bader Ginsburg',\n",
       "  u'Sandra Jean Stewart',\n",
       "  u'Ruth Bader Ginsburg',\n",
       "  u'Sandra Jean Stewart',\n",
       "  u'Ruth Bader Ginsburg',\n",
       "  u'Sandra Jean Stewart',\n",
       "  u'Ruth Bader Ginsburg',\n",
       "  u'Sandra Jean Stewart',\n",
       "  u'Ruth Bader Ginsburg',\n",
       "  u'Sandra Jean Stewart',\n",
       "  u'William H. Rehnquist',\n",
       "  u'Jeffrey A. Lamken',\n",
       "  u'Stephen G. Breyer',\n",
       "  u'Jeffrey A. Lamken',\n",
       "  u'Stephen G. Breyer',\n",
       "  u'Jeffrey A. Lamken',\n",
       "  u'Stephen G. Breyer',\n",
       "  u'Jeffrey A. Lamken',\n",
       "  u'John Paul Stevens',\n",
       "  u'Jeffrey A. Lamken',\n",
       "  u'John Paul Stevens',\n",
       "  u'Jeffrey A. Lamken',\n",
       "  u'John Paul Stevens',\n",
       "  u'Jeffrey A. Lamken',\n",
       "  u'Anthony M. Kennedy',\n",
       "  u'Jeffrey A. Lamken',\n",
       "  u'Anthony M. Kennedy',\n",
       "  u'Jeffrey A. Lamken',\n",
       "  u'Anthony M. Kennedy',\n",
       "  u'Jeffrey A. Lamken',\n",
       "  u'Anthony M. Kennedy',\n",
       "  u'Jeffrey A. Lamken',\n",
       "  u'Anthony M. Kennedy',\n",
       "  u'Jeffrey A. Lamken',\n",
       "  u'David H. Souter',\n",
       "  u'Jeffrey A. Lamken',\n",
       "  u'Ruth Bader Ginsburg',\n",
       "  u'Jeffrey A. Lamken',\n",
       "  u'David H. Souter',\n",
       "  u'Jeffrey A. Lamken',\n",
       "  u'Anthony M. Kennedy',\n",
       "  u'Jeffrey A. Lamken',\n",
       "  u'Anthony M. Kennedy',\n",
       "  u'Jeffrey A. Lamken',\n",
       "  u'Anthony M. Kennedy',\n",
       "  u'Jeffrey A. Lamken',\n",
       "  u'Anthony M. Kennedy',\n",
       "  u'Jeffrey A. Lamken',\n",
       "  u'Ruth Bader Ginsburg',\n",
       "  u'Jeffrey A. Lamken',\n",
       "  u'Ruth Bader Ginsburg',\n",
       "  u'Jeffrey A. Lamken',\n",
       "  u'William H. Rehnquist',\n",
       "  u'Mark John Christensen',\n",
       "  u'David H. Souter',\n",
       "  u'Mark John Christensen',\n",
       "  u'David H. Souter',\n",
       "  u'Mark John Christensen',\n",
       "  u'David H. Souter',\n",
       "  u'Mark John Christensen',\n",
       "  u'David H. Souter',\n",
       "  u'Mark John Christensen',\n",
       "  u'Anthony M. Kennedy',\n",
       "  u'Mark John Christensen',\n",
       "  u'Anthony M. Kennedy',\n",
       "  u'Mark John Christensen',\n",
       "  u'Antonin Scalia',\n",
       "  u'Mark John Christensen',\n",
       "  u'Anthony M. Kennedy',\n",
       "  u'Mark John Christensen',\n",
       "  u'Anthony M. Kennedy',\n",
       "  u'Mark John Christensen',\n",
       "  u'Anthony M. Kennedy',\n",
       "  u'Mark John Christensen',\n",
       "  u'Anthony M. Kennedy',\n",
       "  u'Mark John Christensen',\n",
       "  u'Anthony M. Kennedy',\n",
       "  u'Mark John Christensen',\n",
       "  u'William H. Rehnquist',\n",
       "  u'Mark John Christensen',\n",
       "  u'William H. Rehnquist',\n",
       "  u'Mark John Christensen',\n",
       "  u'William H. Rehnquist',\n",
       "  u'Mark John Christensen',\n",
       "  u'William H. Rehnquist',\n",
       "  u'Mark John Christensen',\n",
       "  u'William H. Rehnquist',\n",
       "  u'Mark John Christensen',\n",
       "  u'Stephen G. Breyer',\n",
       "  u'Mark John Christensen',\n",
       "  u'Stephen G. Breyer',\n",
       "  u'Mark John Christensen',\n",
       "  u'Stephen G. Breyer',\n",
       "  u'Mark John Christensen',\n",
       "  u'Stephen G. Breyer',\n",
       "  u'Mark John Christensen',\n",
       "  u'Stephen G. Breyer',\n",
       "  u'Mark John Christensen',\n",
       "  u'Stephen G. Breyer',\n",
       "  u'Mark John Christensen',\n",
       "  u'Stephen G. Breyer',\n",
       "  u'Mark John Christensen',\n",
       "  u'Stephen G. Breyer',\n",
       "  u'Mark John Christensen',\n",
       "  u'John Paul Stevens',\n",
       "  u'Mark John Christensen',\n",
       "  u'Anthony M. Kennedy',\n",
       "  u'Mark John Christensen',\n",
       "  u'Anthony M. Kennedy',\n",
       "  u'Mark John Christensen',\n",
       "  u'Anthony M. Kennedy',\n",
       "  u'Mark John Christensen',\n",
       "  u'Ruth Bader Ginsburg',\n",
       "  u'Mark John Christensen',\n",
       "  u'Ruth Bader Ginsburg',\n",
       "  u'Mark John Christensen',\n",
       "  u'Ruth Bader Ginsburg',\n",
       "  u'Mark John Christensen',\n",
       "  u'Stephen G. Breyer',\n",
       "  u'Mark John Christensen',\n",
       "  u'Stephen G. Breyer',\n",
       "  u'Mark John Christensen',\n",
       "  u'Stephen G. Breyer',\n",
       "  u'Mark John Christensen',\n",
       "  u'William H. Rehnquist',\n",
       "  u'Mark John Christensen',\n",
       "  u'Anthony M. Kennedy',\n",
       "  u'Mark John Christensen',\n",
       "  u'William H. Rehnquist',\n",
       "  u'Mark John Christensen',\n",
       "  u'William H. Rehnquist',\n",
       "  u'Mark John Christensen',\n",
       "  u'Antonin Scalia',\n",
       "  u'Mark John Christensen',\n",
       "  u'Antonin Scalia',\n",
       "  u'Mark John Christensen',\n",
       "  u'William H. Rehnquist',\n",
       "  u'Sandra Jean Stewart',\n",
       "  u'William H. Rehnquist'],\n",
       " [[u\" We'll hear argument next in number 00-492, Alabama versus Bozeman. \",\n",
       "   u' Ms. Stewart. '],\n",
       "  [u' Mr. Chief Justice, may it please the Court-- ',\n",
       "   u' We are here today not because a possibly innocent man was unjustly convicted nor are we here because he was possibly denied a constitutional right nor are we even here because he possibly was denied one of the rudimentary demands of a fair trial. ',\n",
       "   u' We are simply here today to resolve whether or not a guilty man should escape his just punishment as a result of a technical violation of a statute. ',\n",
       "   u' Specifically, the question presented here is whether or not Michael Bozeman is entitled to have his, was entitled to have his indictment dismissed with prejudice as a result of a one day transfer from Federal custody into State custody for purposes of arraignment and appointment of counsel. '],\n",
       "  [u\" Well, that's the clear provision of Article IV(e) of the Interstate Agreement, here, on Detainments. \",\n",
       "   u\" It couldn't be more clearly provided in there that the court shall enter an order dismissing with prejudice an indictment or complaint if he isn't tried immediately. \"],\n",
       "  [u\" Clearly the language, when it's read in isolation, seems to indicate that the indictment must be dismissed with prejudice-- \"],\n",
       "  [u\" Yeah, that's what it says. \"],\n",
       "  [u\" --but the language simply can't be read in isolation. \",\n",
       "   u' It has to be read against the background principle of harmless error, which was in existence at the time the IAD was passed. '],\n",
       "  [u' Well, I would think you maybe ought to just seek an amendment of the agreement. ',\n",
       "   u\" It's just clear. \"],\n",
       "  [u\" Well, there's a question whether or not the parties to the agreement can actually amend the agreement. \",\n",
       "   u' This is not a... this is an interstate compact involving 48 different states. '],\n",
       "  [u' Can Alabama just get out of it any time they want? ',\n",
       "   u' How does that work? '],\n",
       "  [u' They would have to go to their legislature and repeal participation. '],\n",
       "  [u' But the State could through this legislature just withdraw from the whole country? '],\n",
       "  [u' Yes, according to the act itself, it could withdraw from the whole Act itself, but to do so it would have to give up certain rights that are bestowed upon it in the Act that are very beneficial to the States in disposing of detainers. '],\n",
       "  [u\" Supposing there was an effort to amend this provision, if it proves that you're wrong about the... how could it be done? \",\n",
       "   u' Could Congress alone do it? '],\n",
       "  [u' Congress could not unilaterally change the provision of the compact. '],\n",
       "  [u\" Congress did it, didn't it, for Federal prisoners? \"],\n",
       "  [u' Congress did do it in Section 9 of the Agreement, but when Congress passed the original Agreement in Section 7, they reserved to themselves the right to amend the agreement. ',\n",
       "   u' Other States, specifically Alabama, do not have such a reservation clause in the Agreement, which would make it more difficult certainly to amend the Agreement. ',\n",
       "   u\" Now, there are some other States that have amended the Agreement unilaterally, but it's not been challenged whether or not that was permitted... permissible under the Agreement itself. \"],\n",
       "  [u\" Well, you shouldn't sign agreements that say this then if you don't intend to abide by it. \",\n",
       "   u\" It just couldn't be clearer. \",\n",
       "   u' It just says if trial is not had, the information or complaint shall not be of any further force and effect, and the court shall enter an order dismissing. ',\n",
       "   u\" Why did your State sign that, adopt that if it wasn't prepared to abide by it. \"],\n",
       "  [u\" Well, the State adopted the Agreement partially... certainly because of the benefits to it, but it also adopted the Agreement against the background principle that harmless errors shouldn't apply. \"],\n",
       "  [u' I do not know a background principle that overcomes the explicit mandate of a statute, shall enter an order dismissing the same. ',\n",
       "   u\" Do you have cases that simply don't talk about where the implied effect of a provision in most cases is to cause dismissal of the suit, we won't let it happen when there's been no substantial prejudice, that I can understand, but here you have language that is categorically mandatory. \"],\n",
       "  [u' No, Your Honor, I do not have a case where this Court has specifically held harmless error applicable where there is a specific type of remedy such as this contained within the Agreement. '],\n",
       "  [u\" Isn't there a broader problem? \",\n",
       "   u\" And I have the same difficulty, I guess, with the Government's de minimis argument, and that is, it's true there is a... there is a, as you put it, a sort of background principle of the harmless error doctrine, and there's a background de minimis, but I don't think that there is a background to the effect that these either/or of these doctrines may be used to excuse an intentional and systematic series of violations of the statute, and it seems to me that that is what you are arguing for. \",\n",
       "   u\" You're saying not only would we move the person for two days for an arraignment here, we will continue to do it or we should be entitled to continue to do it, and even though that's a technical violation of the statute, we would in each case be excused on harmless error. \",\n",
       "   u' Do you know of any instance in which harmless error or de minimis, for that matter, has been used in effect to excuse a systematic violation of the statute? '],\n",
       "  [u' I do not know of a case where that has been done. ',\n",
       "   u\" However, I would say, number one, that an intentional violation act would certainly, whether or not it was intentional, would be a part of the harmless error analysis, and here I don't think there was an intentional act whatsoever. \",\n",
       "   u' I think the prosecutor simply misread the Act and dropped the ball, and as a result Mr.... if this Court holds that dismissal is required, then of course then the result, the purposes of this Act have not been maintained-- '],\n",
       "  [u' But I thought you were making a broader argument, and that is that this sort of transfer should be allowed. ',\n",
       "   u' It is... I mean, I can certainly see the value of making this transfer so that somebody who is not willing to waive arraignment can at least get counsel appointed and get the ball rolling toward prosecution, and I thought you were making the broader argument, not merely that this was a one time mistake, but that for the good reasons that support this procedure, we ought as a general matter to apply harmless error whenever it occurs. '],\n",
       "  [u\" --Mr. Justice Souter, I am making the broader argument that harmless error should apply to a statute unless there's an indication of an intent contrary to it that says that harmless error should not apply, and it's my position that this statute does not indicate such an intent that harmless error should not apply. \"],\n",
       "  [u\" How do we know it's harmless? \"],\n",
       "  [u' Excuse me? '],\n",
       "  [u\" How do we know it's harmless? \",\n",
       "   u\" What's the point of Article VI? \",\n",
       "   u\" It's hard to... what is it contemplating? \",\n",
       "   u\" There's a person in another State, you want to try him. \",\n",
       "   u\" Now, you're not supposed to bring him out of that State until you're ready to go to trial? \",\n",
       "   u' How does it normally work? '],\n",
       "  [u' Normally Article IV works that you bring the prisoner over and you have 120 days within which to try him. '],\n",
       "  [u\" So you're going to put him in the county jail? \"],\n",
       "  [u' Right. '],\n",
       "  [u' But you have the indictment before you get him, is that right? '],\n",
       "  [u\" That's correct. \"],\n",
       "  [u\" So what's he coming for, just the trial? \"],\n",
       "  [u\" Under the Act, that is the purposes, he's supposed to... if you read the language in its technical, in its... on its face, then, yes, that seems to be the only purpose which you can bring him to. \"],\n",
       "  [u' The only reason that a State... Joe Smith is in California. ',\n",
       "   u\" Now, you're going to use this Act, you're bringing him, you're under this Act in Article VI, you don't even want to see him until you're ready to go to trial, is that the theory of it? \"],\n",
       "  [u' That seems to be the theory, if you read it, on its face. '],\n",
       "  [u' But now might you sometimes-- '],\n",
       "  [u' But certainly, no-- '],\n",
       "  [u' --have to see him in Alabama before you go to trial? '],\n",
       "  [u\" --I'm sorry, I didn't understand. \"],\n",
       "  [u' How do trials work in that State? ',\n",
       "   u\" Don't you sometimes have to see a defendant before he goes to trial? \"],\n",
       "  [u' Absolutely. ',\n",
       "   u' And that is why this individual was brought to Alabama, to have the appointment of counsel. '],\n",
       "  [u\" So this must come up all the time, I mean, you bring a person into the State, we say it's not, we're not ready for trial yet, but we're going to the arraignment or we're going to have a hearing on suppression or a lot of things. \"],\n",
       "  [u' Certainly. '],\n",
       "  [u' All right. ',\n",
       "   u\" So what are they thinking in this, there might be lots of instances where there are days that pass between bringing him into the State and trying him, and what's supposed to happen in that time? \",\n",
       "   u\" Are you supposed to always keep him in a county jail, even if you're in Maryland, and in fact the other prison happens to be two feet away in Virginia? \"],\n",
       "  [u\" And the State of Alabama's position is, no, you don't always have to keep them there. \"],\n",
       "  [u\" But that's what it says. \", u' So what are they thinking? '],\n",
       "  [u\" I think that's not what it says. \",\n",
       "   u\" I think that there's enough ambiguity in the statute that is not required that you keep them there until trial. \"],\n",
       "  [u\" Well, you said the prosecutor dropped the ball, I think candidly, which leads to Justice Breyer's question. \",\n",
       "   u' If everything had gone right here, he would have stayed in the county jail and not, and would not be returned to the original place where we get can get him then in a minute, he could probably be returned some other place. '],\n",
       "  [u' Right. '],\n",
       "  [u\" But at least not to the original place until the trial's complete? \"],\n",
       "  [u' Right. '],\n",
       "  [u' Or unless I get a waiver? '],\n",
       "  [u' Yes. '],\n",
       "  [u' Can he be brought to another State for questioning just to meet with police officials? '],\n",
       "  [u' Certainly. '],\n",
       "  [u' Or is it just a court proceeding? '],\n",
       "  [u' Certainly he can be brought to another State just for questioning or for other purposes, but the position of Mr. Bozeman is that under the Act you can only bring him for trial. ',\n",
       "   u' The position of the State is that, no, there are other reasons you can bring him under detainer to Alabama. '],\n",
       "  [u\" But that, we don't really need to resolve that here? \"],\n",
       "  [u\" No, that's not the question that's presented today, Justice Kennedy. \"],\n",
       "  [u\" The reason I ask is the only sense I can make out of it, given the realities, is this is some kind of prophylactic rule, and the prophylactic rule would be, we know it's nutty in a lot of circumstances, but nonetheless the only way to get the States to move off the dime is to insist that they try him before they send him back, even if the jail's next door to the prison he came from. \",\n",
       "   u\" Now, if it's a prophylactic rule, you don't have a de minimis violation. \"],\n",
       "  [u\" And certainly this Act was passed, this remedial legislation, it was passed specifically to address certain problems that occurred as a result of detainers, there being no formal procedures, and there being no way to bring an inmate into a State and have the detainers disposed of, and to do so in such a way that it didn't interfere with the rights to rehabilitation, that's the specific purposes behind this Act. \",\n",
       "   u' Article IX of the Act specifically says that it should be construed in such a way as to effectuate those purposes, and to construe this Act as requiring dismissal of the indictment is not going to effectuate those purposes. '],\n",
       "  [u' Well, but on that point, I thought that was a persuasive argument that both you and the Government make. ',\n",
       "   u' They are interested in the rehabilitation, so they should send him back to the Federal prison. ',\n",
       "   u\" But why can't that be achieved by just asking for a waiver from the man because he would presumably agree with you in the normal case? \"],\n",
       "  [u\" Supposedly you could, you know, theoretically you certainly could ask for a waiver, but that is not what happened in this case, and it shouldn't be required that you ask for a waiver in order to-- \"],\n",
       "  [u' Why not? ',\n",
       "   u\" I mean, if everybody is fully informed about the statute and the procedures, why couldn't that interest be adequately protected by saying, counsel, here's the problem, we can't try this fellow for another 30 days, so we'd rather... we can either let him stay here in the county jail or go back to his regular rehabilitation program and then give the person the choice. \"],\n",
       "  [u' --We could give the person the choice, but certainly again that could just simply lead to more litigation, and whether or not he understood what he was waiving and what right he had, and also we have to get him here practically in Alabama, the practical way, you have to get the person into Alabama before you can appoint counsel. ',\n",
       "   u' There are ways to appoint counsel in advance of bringing the person to Alabama, but the practicalities-- '],\n",
       "  [u' Well, but that just means that instead of a 24-hour turnaround, make it 48 hours, so you appoint counsel, give them time to consult with counsel, and then decide whether to go ahead with the trial before you send him back or send him back and let him continue the Government program. ',\n",
       "   u\" I would think very often the prisoner would say, yes, it makes more sense to go back, but assuming I guess he lived in Alabama, didn't he? \",\n",
       "   u\" That's part of the problem. \"],\n",
       "  [u' --Yes, he did, Justice Stevens. ',\n",
       "   u\" Certainly that's one way that this Act could be implemented, but the State's position is that that's not required under the Act because simply the transfer did not violate-- \"],\n",
       "  [u\" Well, it's clearly required if you read it literally, but you're sort of saying for this reason we should not read it literally and therefore it's not required. \"],\n",
       "  [u' --Right. '],\n",
       "  [u' Yeah. '],\n",
       "  [u\" And of course this Court, at the time that this case was decided and at the time we were talking about whether or not Mr. Bozeman, whether his rights had been violated by the transfer, this Court had not decided New York v. Hill and decided whether or not waiver applied to the Act, and similarly the argument made there was that because the Act said that it shall be, that if there's a violation of the 120-day provision that the Act shall be... or the indictment shall be dismissed with prejudice, that waiver shouldn't apply because and that the Act specifically should say whether it should or shouldn't. \"],\n",
       "  [u' There was an enormous difference, Ms. Stewart, between that case and this one, and that is the defendant did something that caused... the defendant was sitting right there, and agreed to something. ',\n",
       "   u\" Here the defendant hasn't agreed to anything at all. \",\n",
       "   u\" So it's one thing to say a defendant can't say, yeah, go ahead and try me and then the trial date comes and he says, uh huh, it's too late. \",\n",
       "   u\" Here the defendant didn't do one thing. \"],\n",
       "  [u\" I think there is a significance in that that case involved waiver, but it's not for the purposes of the argument that I'm making which is that the IAD was silent on whether or not waiver principles applied to it, just as it's silent as to whether or not harmless error principles apply to it. \",\n",
       "   u\" This Court held that because it was silent and because the general principle, there's a presumption that waiver applies that waiver should apply there. \",\n",
       "   u\" Similarly, I'm arguing that because harmless error is, there's a presumption that it applies to statutes as well as to constitutional errors that it should apply in this case. \"],\n",
       "  [u\" It seems it would apply then in every case, and here was a prosecutor who made a perfectly reasonable choice were it not for this IAD to say, we're going to turn him around in 24 hours, just want to arraign him and send him back, but the literal reading of this cuts the other way, and if you don't hold prosecutors to that literal reading, then every case would be harmless, and must, shall would have no teeth at all. \"],\n",
       "  [u\" I don't think that every case would result in harmful error. \",\n",
       "   u\" Certainly in this case is a perfect example where there was no harm... I'm sorry, I got that back-- \"],\n",
       "  [u\" I'm saying there would be-- \"],\n",
       "  [u\" --Certainly there are cases where there would be harm to the defendant by the transfer, for instance in Alabama there are like 2600 inmates involved in drug programs, and there's currently a waiting list of 800. \",\n",
       "   u\" Under the I... if an inmate were transferred to another jurisdiction for a single day or maybe two days, he wouldn't lose his place in line to become involved in this program, so if he was transferred for the entire period, say, to a Federal jurisdiction to await trial, he would lose his place and lose his opportunity to participate in those programs, which could specifically prevent him from participating-- \"],\n",
       "  [u\" --But we're talking about a one day turnaround. \",\n",
       "   u\" We're talking about... I'm saying that this practice of saying it's convenient for us to bring the person up without the clock ticking on when we have to start the trial, so bring him up, arrange arraignment, send him right back. \",\n",
       "   u' And it seems to me that every case like that would be harmless error and not... and then you have the words of the statute and then simply not enforced. '],\n",
       "  [u\" --I do think that there is a situation where you could bring somebody just for one day and there could be harm to them, if they weren't involved specifically, say, it was the time to take a GED, for instance, was that day, and they couldn't take it as a result, and it wouldn't be given for, you know, another year or something along that lines, it would be harm to the defendant, so there could be harm from a single day transfer. \"],\n",
       "  [u\" Well, on that, even in this case illustrates the particular day, first it was one day, then another day, so it doesn't seem that the particular day is what's at issue. \",\n",
       "   u\" It's the idea of can we get this person here for a purpose other than trial, then send him back, and not keep him here long term until the trial. \"],\n",
       "  [u' That is certainly one of the issues that is encompassed. ',\n",
       "   u' If the Court has no further questions, I would like to save the remainder of my time for rebuttal. '],\n",
       "  [u' Very well, Ms. Stewart. ', u\" Mr. Lamken, we'll hear from you. \"],\n",
       "  [u' Mr. Chief Justice, and may it please the Court-- ',\n",
       "   u\" As the majority of Federal courts have held, a brief interruption in a prisoner's confinement does not require dismissal of the State indictment against the prisoner under Article IV(e) of the Interstate Agreement on Detainers. \",\n",
       "   u' Those decisions are correct, and the rule of de minimis is of particular-- '],\n",
       "  [u' Why would a long interruption be worse? '],\n",
       "  [u' --Pardon? '],\n",
       "  [u' Why would a long interruption be worse? '],\n",
       "  [u' There are two reasons, Your Honor. ',\n",
       "   u' First, a long interruption would often cause the prisoner to lose his place in programs and then he would also, may lose his priority-- '],\n",
       "  [u\" That's the... the interruption part wouldn't. \",\n",
       "   u\" I mean, if he was in the county jail for a month or a year and then they sent him back, the sending back wouldn't cause any problem. \"],\n",
       "  [u\" --That's correct, Your Honor. \",\n",
       "   u\" Our view is that the interruption is what is de minimis in this case, and when the interruption is merely for an overnight period, it does not cause a disruption in the inmate's participation in programs of rehabilitation in the original institution of confinement. \",\n",
       "   u' If there was a long period of interruption, in contrast, the inmate would have to start over in the programs or could possibly lose his place as priority of the programs, depending on the institution, so we believe that, yes, in fact, there could be a longer interruption that would cause harm to the-- '],\n",
       "  [u\" But if your rationale is to protect the interests of the prisoner, why isn't the waiver the solution? \"],\n",
       "  [u' --In an ideal world, yes, they would get waivers, but in our experience this situation arises because of miscommunications. ',\n",
       "   u\" For example, in a case called United States v. Taylor, the United States Marshal Service placed a detainer on the prisoner, and the United States attorney's office was not aware of that detainer. \",\n",
       "   u' Consequently, when they obtained custody of the prisoner, they said... the magistrate specifically asked, is there a detainer on this prisoner? ',\n",
       "   u' And the U.S. attorney said, no. ',\n",
       "   u' They sent the prisoner back, not realizing that-- '],\n",
       "  [u\" But we can't make the law take care of miscommunication within the United States Department of Justice, can we? \",\n",
       "   u\" We've got to assume everybody knows what's going on? \"],\n",
       "  [u\" --Of course, Your Honor, but the rule of de minimis that when the event is so insubstantial in relationship to the purposes of the statute, the law does not take cognizance of it, and a single overnight transfer, like the one at issue here, is insubstantial in relationship to the purposes of the prohibition, and that purpose is to ensure rehabilitation of the prisoner and the prisoner's participation in the rehabilitation program. \"],\n",
       "  [u\" Yeah, but to the extent you rely on the interests of the prisoner, it seems to me that interest is totally protected by a simple requirement that he can waive because he would presumably have counsel to advise him, listen, you're better off if you go back and continue your program. \",\n",
       "   u\" I just don't understand why the waiver isn't a complete answer. \"],\n",
       "  [u\" Your Honor, it's not a complete answer for two reasons. \",\n",
       "   u\" First, one, oftentimes prisoners would prefer that there is a mistake and that they actually got sent back and the indictment be dismissed, and second, there is an interest in the institution, the sending institution in receiving the prisoner back because it's the State's interest to ensure that its prisoners are undergoing the rehabilitation programs that they are providing, and when the prisoner is away for an undue period of time, such as the sometimes lengthy period between arraignment and trial, they are not participating in those numerous programs, and it is to the State's detriment, and so in that sense, although we often rely on the prisoner as in the context of waiver to-- \"],\n",
       "  [u' Was this the essential rationale for the Act, that the prisoner have these correctional programs or was it more the thought that a State should be entitled to impose its punishment for retribution purposes? '],\n",
       "  [u' --The Act has twin purposes, and the two purposes are, one, to set up a system of an expeditious system whereby States could obtain prisoners from other jurisdictions and exact their punishment or impose the penalties prescribed by law, and the other purpose was to ensure that while they were doing that it did not unduly interfere with the State that had the prisoner in its confinement and its programs of rehabilitation, so it should have been-- '],\n",
       "  [u' Would the Act have been complied with here if the prisoner, instead of being returned to Florida, the Florida prison, had gone to some other prison because it says he has to be returned to the original place of imprisonment? '],\n",
       "  [u' --Your Honor, if one were to read the language quite literally, they could have sent him to a Federal institution, for example, in some other part of Alabama, and it would not have invoked the literal language of the statute, and dismissal would not have been required. '],\n",
       "  [u' Have there been any cases on that? '],\n",
       "  [u' No, it is a rather poorly drafted agreement in that respect, but because it is an agreement, because it is-- '],\n",
       "  [u' Or they could just send him across the street to the Federal prison for a couple months, and there would be no problem. '],\n",
       "  [u' --I-- '],\n",
       "  [u\" If that's not where he originally came from. \"],\n",
       "  [u\" --That's not where he originally came from, and that situation occurs, for example, where the United States marshals retain custody of a high security prisoner, as they have the right to do, when they have concerns that the State may not have appropriate facilities, that they would retain that prisoner potentially in another location other than that one of original confinement. \",\n",
       "   u\" It is not a well drafted agreement, but it is at its core a contract, an agreement among the States, and for that reason the sometimes more flexible terms of construction applicable to contracts, such as breach and performance, are applicable here, given the harsh consequences of a violation, complete frustration of the State's efforts to enforce its criminal law, we believe that the rule of de minimis is of particular force in this context. \",\n",
       "   u' It seems unlikely that the States meant to abrogate the principle of de minimis in light of that harsh consequence. ',\n",
       "   u' In addition-- '],\n",
       "  [u\" Why wouldn't the same argument have applied to the United States, but you got a special provision. \"],\n",
       "  [u' --Indeed, when Congress enacted that special provision, the courts were divided 4-2 in favor of that, the rule of de minimis or something similar to it. ',\n",
       "   u' Four different circuits had held that in a single overnight transfer or a very short term transfer that did not interfere with the purposes of the Act, did not require dismissal with prejudice, there were two courts of appeals that were to the contrary, and Congress therefore stepped in with a different rule and amended the Act as it was entitled to do under Article... under Section 7 of the implementing legislation. '],\n",
       "  [u\" But States couldn't replicate that because they all have to be bound by the same, is that so or don't you know what is the answer to that? \"],\n",
       "  [u\" The Fourth Circuit has addressed that issue in a case called Bush v. Muncie, and it's not a matter of any clarity, but it appears that it would be somewhat difficult for a State to unilaterally amend its implementing legislation without withdrawing unless it, as Congress did in Section 7, had expressly reserved that right, and then if it had, if it did enact the provision that was inconsistent with the Agreement, there would be an issue among the States as to whether or not those States were willing to give that amending State the benefits of the Agreement, notwithstanding its departure in some degree. \"],\n",
       "  [u\" Wouldn't the easy way to do it, though, simply be to... for the States that wanted to at least to enter into a new pact sort of in the nature of a codicil, and put that before Congress in the contract clause... the compact clause, and at least as among those States that agreed to the amendment, I would suppose there would be no impediment to applying the same rule that the United States has. \",\n",
       "   u\" I mean, that wouldn't be all that tough. \"],\n",
       "  [u' Oh, for 48 states to arrive at the Agreement, to pass it as implementing legislation in each of those 48 states and to get Congress to pass on the compact is a somewhat arduous, although it is potentially viable prospect. ',\n",
       "   u\" However, we believe that just as Congress resolved, in effect, a 4-2 circuit conflict in favor of the rule of de minimis and in favor of permitting these returns, we believe that this Court could take cognizance of the rule of de minimis as well and rule that because a single overnight transfer is so unlikely to interfere with the purposes of the Act that it falls within the rule of de minimis and therefore should not result in harsh consequence of complete frustration of the State's efforts to enforce its criminal laws. \",\n",
       "   u' That result would-- '],\n",
       "  [u\" What's your best case from this Court? \"],\n",
       "  [u' --Best case from this Court on de minimis or-- '],\n",
       "  [u' Your de minimis proposition. '],\n",
       "  [u' --The case we cited on the first page of our argument section is Wrigley, but Wrigley cites about six other people. '],\n",
       "  [u\" I didn't think that was it. \", u\" What's your next best case? \"],\n",
       "  [u' Next best case would probably be Portland v. Retail Druggists Association, and the next case after that would probably be Anderson v. Yungkau. ',\n",
       "   u\" Those cases all involved intentional conduct that was in violation of a specific prohibition, but in each of those cases this Court contemplated that because the conduct itself was of de minimis proportion in relation to the Act's purposes and the realities of the marketplace in one case and the realities of the hospital industry in another, it could be excused under the rule of de minimis. \"],\n",
       "  [u\" Justice Souter pointed out, though, this is a remedial system, and you're asking us to really alter the design of the system. \"],\n",
       "  [u\" We don't believe it's a fundamental alteration in the design of the system, it is simply a recognition that there are some applications that are so far removed from the purpose and so insubstantial and some, in fact, that are so insubstantial in light of the purpose that they fall within the well recognized rule of de minimis and therefore should not be considered violations of-- \"],\n",
       "  [u\" But Mr. Lamken, you're really asking us for across the board approval of we could bring the person up for a reason other than trial, legitimate reason, to arraign the person, to be interrogated or whatever, a special purpose unrelated to trial, and yet the statute doesn't make any room for this, and I had... Ms. Stewart was speaking and she said the prosecutor made a mistake. \",\n",
       "   u' Here it took mistakes on both ends, the sending of the person. ',\n",
       "   u' Is there no effort to communicate to the States and to all the Federal authorities that this compact as presently drawn says when you send them, they stay until the trial is over? '],\n",
       "  [u' --This is, in fact, a trap for the unwary, but the Federal government does not have a way of knowing whether or not the individual was being brought, for example, back merely to plead guilty, in which case it would take overnight... it would cost a new trial. '],\n",
       "  [u' But the communication was, we want him for 24 hours. '],\n",
       "  [u' Correct, and in fact if he were pleading guilty and that were the arranged... the agreement was trial, 24 hours would have sufficed to complete the trial within the meaning of the statute. ',\n",
       "   u' Thank you, Mr. Chief Justice. '],\n",
       "  [u' Thank you, Mr. Lamken. ', u\" Mr. Christensen, we'll hear from you. \"],\n",
       "  [u' Mr. Chief Justice, and may it please the Court-- ',\n",
       "   u' All courts that have taken up the issue of the Interstate Agreement on Detainers have recognized the mandatory language, the only issue to be resolved is whether or not that language is given effect. ',\n",
       "   u\" Ms. Stewart stated that one of the reasons that Alabama joined the IAD was because there were certain benefits to the State, and I believe that there's a sort of implied consent doctrine that's at issue here that if the State joins the IAD and the prosecutor takes the initiative to place a detainer, because that's the only way that this Act is activated, is by the placing of a detainer, then they have to be bound by what the statute says. \",\n",
       "   u\" It's quite, quite clear, there's no room for any real discretion in here. \"],\n",
       "  [u\" What's the purpose of the harmless error provision in the compact itself? \"],\n",
       "  [u\" Justice Souter, I don't believe that harmless error can apply to a situation like this where the statute is so explicit not only in what is prohibited but in the consequences if one violates that. \"],\n",
       "  [u' But do you get that from the text of the harmless error provision itself? '],\n",
       "  [u' There is no harmless error provision in the IAD. ',\n",
       "   u' Am I misunderstanding your question? '],\n",
       "  [u\" Well, maybe I'm misunderstanding. \",\n",
       "   u\" I'm sorry, I'm reading Rule 52, which comes at the end of the appendix. \",\n",
       "   u' That was my mistake. '],\n",
       "  [u' Yes, Your Honor. '],\n",
       "  [u' Withdraw the question. '],\n",
       "  [u\" I will go on and state some of the reasons that I don't believe that harmless error does apply. \",\n",
       "   u' The IAD uses a sanction of dismissal with prejudice in three separate places. ',\n",
       "   u' I simply cannot believe that the legislative bodies that have adopted this merely overlooked this sanction. ',\n",
       "   u' I believe that it says this is an important issue. ',\n",
       "   u\" Harmless error, even if one were to concede for the purposes of argument that it applied, it would be the State's burden to show that something that is so substantial within this statute, a right that is stated three separate places is... that there was no prejudice, and that's... I'm uncomfortable with all these Federal courts that presume that a short transfer is harmless. \"],\n",
       "  [u' Well, what happens if the State of Alabama picks up the prisoner at the Federal facility and starts a three hour journey, but after half an hour there is a big snowstorm and it has to go back? '],\n",
       "  [u\" That might be applicable in other States, Justice Kennedy, it's probably not in Alabama, but-- \"],\n",
       "  [u' No, a tornado. '],\n",
       "  [u' --A hurricane, perhaps. ',\n",
       "   u\" I think there, that might be a unique situation where, where you might have a legitimate argument that we didn't complete this. \"],\n",
       "  [u' Act of God is a different exception than de minimis and a different exception than harmless error? '],\n",
       "  [u' Certainly. '],\n",
       "  [u\" God doesn't act in de minimis ways? \"],\n",
       "  [u' Yes, it would not be de minimis and perhaps not harmless. '],\n",
       "  [u' What if they return him to another facility, they take him away from the... this was in... in Florida, but-- '],\n",
       "  [u' He was in Florida, yes. '],\n",
       "  [u' --Suppose they took him next to Marion, Ohio. ',\n",
       "   u\" That's not the original place of imprisonment. \"],\n",
       "  [u' Well, I think that liberally construing the statute as Article IX calls for means returning him to the original jurisdiction, not just to the original-- '],\n",
       "  [u\" Well, you live by the sword and you know what else you do, if you're going to believe in strict construction here. \",\n",
       "   u\" There's a kind of liberal construction in favor of the prisoner? \"],\n",
       "  [u' --Yes. '],\n",
       "  [u' Where... have we said that or-- '],\n",
       "  [u' Numerous courts have said that this is remedial, it benefits the prisoner and ought to be construed in favor of the prisoner. ',\n",
       "   u' The council on State governments also has stated this although it was a number of years after it originally proposed the legislation. '],\n",
       "  [u\" --What's the authority of the council of State Governments as to interpreting a written document? \"],\n",
       "  [u\" It's somewhat weaker than most legislative bodies or so on, but it is the group that originally proposed the legislation and originally drafted it. \",\n",
       "   u\" It's the source of the IAD which has been adopted in nearly every State, there are 48 states plus the Federal government that have adopted this. \"],\n",
       "  [u' And what was the position that the council of State Governments took, that it should be liberally construed to accomplish its beneficent ends or something like that? '],\n",
       "  [u' Liberally construed in favor of the prisoner as a remedial statute. '],\n",
       "  [u' But of course it had more purposes than one, did it not? ',\n",
       "   u\" I mean, I don't think you would find a whole lot of States signing onto it if it did nothing but benefit prisoners. \"],\n",
       "  [u\" Yes, Mr. Chief Justice, it also benefits the States, and that's what Ms. Stewart acknowledged in that it provides them with an expedited mechanism for getting prisoners without going through lengthy extradition procedures. \",\n",
       "   u\" It is of benefit to them, and that's why I mentioned this implied consent, that if they go through, join this agreement, go through the procedures to get the person and are enjoying those benefits, they also have to live by what-- \"],\n",
       "  [u\" Yes, and that's true of prisoners, too, I suppose, responding to Justice Kennedy's hypothetical, they return him to the original jurisdiction. \"],\n",
       "  [u\" --And in fact most cases from all jurisdictions that refer to Article III where it is the prisoner who initiates the transfer, they have to follow the procedures quite strictly or they don't, do not get the benefits. \",\n",
       "   u\" It's... part of my argument has been that what's fair for one side-- \"],\n",
       "  [u' Sauce for the goose is sauce for the gander? '],\n",
       "  [u' --Precisely. '],\n",
       "  [u\" He doesn't actually literally, if you take, if you were a literalist, and you look at (e), it doesn't say where it begins to run. \",\n",
       "   u' It says if trial is not had on any indictment. ',\n",
       "   u\" It doesn't say... well, I mean, when if not trial? \",\n",
       "   u\" It just doesn't say. \",\n",
       "   u' So we have quite a lot of flexibility as to what we might read in there. ',\n",
       "   u' I take it that they want to us say, in any instance where imprisonment in the original State is significantly interrupted, then if. ',\n",
       "   u\" All right, so what's your candidate for when it starts to run? \",\n",
       "   u\" You want to say in Justice Kennedy's hypothetical, if subject to a detainer the prisoner puts one foot out the door and immediately runs back, then if trial is not had before he ran back, I mean, how do we fill in that? \",\n",
       "   u\" That's a total blank. \"],\n",
       "  [u' Well, that running back would be the waiver, which Justice Stevens had proposed as-- '],\n",
       "  [u' But my question is, what triggers (e)? ',\n",
       "   u\" (E) doesn't say what triggers it. \"],\n",
       "  [u' --The trigger is the change, the temporary custody pursuant to a detainer. ',\n",
       "   u' If temporary custody is taken by the receiving State and-- '],\n",
       "  [u\" All right, now, what they want to do is just say you're right, if significant temporary custody where significant is interpreted in light of the purposes of the law, that's what they want to do, and so literalism isn't going to help because neither literally is there. \"],\n",
       "  [u' --Well, the legislative bodies that have adopted this have made a legislative determination here. ',\n",
       "   u\" There's no room for discretion in the statute. \",\n",
       "   u' They say-- '],\n",
       "  [u\" I'm sorry, my question is, what language says that you said if and your language was what? \",\n",
       "   u' If there is an interruption. ',\n",
       "   u\" It doesn't say that in (e). \",\n",
       "   u' There is no language in (e), if there is an interruption. ',\n",
       "   u\" You're making up the whole thing to read into it. \",\n",
       "   u\" By the way, I think you're right, something like that must be read into it, but literally where you get the words, you're reading into it. \"],\n",
       "  [u' --My wording is in IV(e), prior to being returned, there must be a trial prior to being returned to the-- '],\n",
       "  [u' I know prior to being returned, but once what, prior to being returned? ',\n",
       "   u' Once he sets a foot out the door? ',\n",
       "   u' There is nothing there that tells us when (e) begins to run. ',\n",
       "   u' Once what? ',\n",
       "   u' Once he leaves? ',\n",
       "   u' Once he leaves any day? ',\n",
       "   u' Once he leaves to visit his grandmother? ',\n",
       "   u\" It's obviously not that. \",\n",
       "   u\" It's something. \"],\n",
       "  [u' --I believe that you have to read it in context, you have to go up to-- '],\n",
       "  [u' Yes, exactly. '],\n",
       "  [u' --(c), where-- '],\n",
       "  [u\" You have to read it in context, and now my question is what are the words that you're reading in in context? \"],\n",
       "  [u' --From IV(c), the arrival of the prisoner in the receiving State. '],\n",
       "  [u\" All right, maybe that's it. \",\n",
       "   u\" I can read those, but you don't want to say... okay, maybe that's the answer. \"],\n",
       "  [u' I think so. ',\n",
       "   u\" I think also since we are on the time period that's contained in IV(e), the 120 days, I believe that that also militates against a finding of harmless error or a requirement that one has to show prejudice. \",\n",
       "   u' Certainly 120 days is in the vast majority of cases is going to be nowhere near what the constitutional speedy trial requirement would be. '],\n",
       "  [u\" May I ask you, if your reference to the arrival of the prisoner in the receiving state in subparagraph (c) is that your response to Justice Kennedy's hypothetical, too, about the hurricane or the snowstorm in Alabama. \",\n",
       "   u' But you have to arrive before-- '],\n",
       "  [u' Justice Stevens, I believe that it has to be that if they cross the State line that-- '],\n",
       "  [u' --Well, but there are many cases in which the Federal prison is right across the street from the State prison. '],\n",
       "  [u' --Yes, and there is a special provision in the IAD for that, Justice Kennedy, where the Federal Government can maintain custody of a prisoner and merely make them available for trial without turning over the temporary custody. ',\n",
       "   u\" That's not the situation here, but that... in those cases, that would be a perfectly good, logical ending, keeping with the statute. \"],\n",
       "  [u\" Could there have been an argument here that there was, I don't know, continuous constructive custody by the Federal government? \"],\n",
       "  [u' No, he was in the custody of the sheriff of Covington County. '],\n",
       "  [u' Because they delivered him over to those-- '],\n",
       "  [u' Yes, sir. ',\n",
       "   u' Now, if they had wanted to send a Federal marshal with him, that would have been one of the prerogatives of the Federal Government as a sending State in this situation. ',\n",
       "   u\" That's not available when it's a State to State transfer, but it is when the Federal Government is the sending State. \",\n",
       "   u\" I would like to talk about the Federal circuits because I'm, even though I concede that there is a majority that have said something to the effect that a brief transfer doesn't harm a prisoner's rehabilitation, but I find that those statements are in many cases are dicta or not persuasive, and these cases all tend to be somewhat incestuous also in that they rely upon one another. \",\n",
       "   u' The earliest is a Chico case from the Second Circuit which would not have-- '],\n",
       "  [u\" --Mr. Christensen, can I ask you, before you get on to that, why one couldn't read the statute as has been proposed by the appellant to say the don't return until trial is over kicks in only when the transportation is for purposes of trial, that is the Act simply does not apply to bringing somebody in for pretrial matters. \"],\n",
       "  [u\" --I would disagree with that, Justice Ginsburg, because the Act itself says that it applies when there's a detainer and someone has been brought in for purposes of prosecution. \",\n",
       "   u\" Now, if you've placed a detainer on someone for questioning or as a witness in another case, the Interstate Agreement on Detainers does not apply to that because it only applies to detainers that are based on untried indictments, informations, and complaints, but I simply-- \"],\n",
       "  [u' Well, how could... how could this have been done? '],\n",
       "  [u' --An arraignment is certainly part of a prosecution. '],\n",
       "  [u\" This very case, here's the prosecutor says I want him here for one day. \",\n",
       "   u' To avoid this trap of it, is there a procedure, State to State for bringing somebody up for purpose other than trial? '],\n",
       "  [u' Certainly. ',\n",
       "   u' You can have a hearing and ask the prisoner to waive. ',\n",
       "   u' If he waives... in fact, this Court in United States versus Mauro, which is the first IAD case that this Court has dealt with, the Court clearly agreed with the idea that Ford had waived the antishuttling provision. ',\n",
       "   u' He had not waived the speedy trial provision, and so this Court affirmed the dismissal of his indictment, and I would also point out that that was without any requirement that he had been prejudiced by this and he was brought to trial within about five months of having been transferred into the receiving State, which is just over the 120 days, so I would suggest to this Court that you have dealt with this issue of prejudice before and resolved it in favor of the prisoners. '],\n",
       "  [u\" I don't really see, still, the theory of (e). \",\n",
       "   u' I mean, what are they trying to do? ',\n",
       "   u' Once the person gets out, you know, once you take the prisoner in for a preliminary proceeding or something, it interferes with his rehabilitation in the initial prison more rather than less to keep him in the State. '],\n",
       "  [u\" Well, and that's a presumption that is perhaps intuitive but one that I'm not convinced is borne out by the facts, and in the record below here there simply is nothing. \",\n",
       "   u' That issue was not dealt with. '],\n",
       "  [u\" I'm asking for your experience as a criminal lawyer. \"],\n",
       "  [u\" Mr. Bozeman has informed me that he lost his position as a barber in the prison at Mariana because of the one day transfer, so he was prejudiced, although that's not in the record below. \",\n",
       "   u' The State below-- '],\n",
       "  [u\" That's not what I mean. \",\n",
       "   u\" I don't mean in this case. \",\n",
       "   u\" I mean in your general experience, having looked at all these statutes, what's your view of what the theory of this thing is? \",\n",
       "   u\" How is it really supposed to work because intuitively I'd think that a person who comes from a preliminary hearing, the longer he stays away, the worse things are, but this provision seems to force the State to keep him away. \"],\n",
       "  [u' --Well, no more than 120 days, Justice Breyer, and again I mentioned the short time periods that are involved here. ',\n",
       "   u\" It envisions, I believe, those time periods because they're sufficient to take care of all pretrial matters within that time. \",\n",
       "   u\" He's sitting there, he gets it taken care of, and of course Article I, in stating the purposes, says that the purpose is to resolve detainers. \",\n",
       "   u' Bring someone in for arraignment, send him back, the detainer is still there, and the harm caused by the detainer is still there, and that is-- '],\n",
       "  [u\" But if you're bringing somebody in just for trial, presumably you're going to get counsel appointed if he's indigent only at the time he's brought in for trial, and is that going to be enough time for counsel to prepare? \"],\n",
       "  [u' --Well, again, with the 120 days there is a provision that continuances can be granted for good cause shown. ',\n",
       "   u' Now, in the antishuttling clause, there is no parallel construction there with the State. ',\n",
       "   u\" There's no provision that we're going to shuttle you over your objection. \",\n",
       "   u\" However, the Federal Government provision would allow that by reading the Federal amendment, the Article IX, which says if there's a hearing and the court orders that you're sent back, that's not a violation, but that's only applying to the Federal Government as a receiving State. \",\n",
       "   u\" It's not in the main body of the IAD, and I think that that is significant in terms of the statutory construction. \",\n",
       "   u' In fact, I think it would be to run rough shod over the text to simply ignore it. '],\n",
       "  [u' Well, I did have the same question as the Chief Justice. ',\n",
       "   u' It seemed to me that earlier the prisoner sees his new State counsel and begins working on the case and then the more time before the case starts, the better off the prisoner is. '],\n",
       "  [u' The more time to confer with his counsel or? ',\n",
       "   u' I certainly would think that. ',\n",
       "   u' In this case there was very little opportunity to confer with counsel. ',\n",
       "   u' If I could turn back to these Federal cases, the Chico case, Mr. Chico was transferred for arraignment, transferred back, and then transferred back to plead guilty. ',\n",
       "   u' He did not appeal. ',\n",
       "   u' He made no objection to the transfer. ',\n",
       "   u' He was transferred pursuant to a writ of habeas corpus ad prosequendum rather than as a detainer. ',\n",
       "   u' This was before this Court had dealt with Mauro. ',\n",
       "   u' Then when he had a probation violation, he filed a petition for writ of habeas corpus asking that the IAD be recognized. ',\n",
       "   u' In Reed v. Farley, this Court has held that habeas corpus is not something that can be used to recognize violations of the IAD, so that would simply not apply. ',\n",
       "   u' This case is then cited as justification in another Second Circuit case, the Roy case, Mr. Roy had so many detainers from so many different jurisdictions that I feel quite certain that the Second Circuit was looking for any reason whatsoever to keep from excusing him. ',\n",
       "   u' Mr. Roy had another case in the Seventh Circuit which referred to the Second Circuit case and to the Chico case, and in fact the same transfer was complained about in the Second Circuit and in the Seventh and the Second Circuit cases. ',\n",
       "   u\" The Taylor case that Mr. Lamken mentioned does say that a brief transfer doesn't happen, but the prisoner there asked to be transferred back to State custody. \",\n",
       "   u\" There's quite clearly a waiver, although the Court for some inexplicable reason doesn't seem to reach that. \",\n",
       "   u\" That's a First Circuit case. \",\n",
       "   u' The Fifth Circuit Sassoon case is also was raised on habeas corpus, and in fact it was raised on habeas corpus in the State courts. ',\n",
       "   u' Mr. Sassoon had not appealed the issue following his conviction. ',\n",
       "   u\" Sixth Circuit Taylor case, many of these people for some unknown reason seem to be named Taylor, the court there held that since he was held in a jail and hadn't been transferred to a prison yet, that there was no violation, and then adds, and besides, all these other courts hold that quick, temporary transfers do not violate the IAD. \",\n",
       "   u\" It mentions Article IX of the Federal amendment in a footnote but doesn't rely on it. \",\n",
       "   u\" I find it somewhat inexplicable that these courts have this Federal amendment available to them, but it's evidently not being used because none of the opinions that I've found have done more than mention it in a footnote. \"],\n",
       "  [u' Well, were these Federal prisoners? '],\n",
       "  [u' Yes, sir. '],\n",
       "  [u' So they could get, the State could get, the Government could get the advantage of the Federal amendment? '],\n",
       "  [u' Yes, all these are cases where the United States was the receiving State. ',\n",
       "   u\" The Eighth Circuit Baxter case mentions this but it's again citing Chico, Taylor, and Roy, but it really resolves the issue on the fact that Mr. Baxter was transferred by writ of habeas corpus ad prosequendum before a detainer had been lodged, so it really doesn't add to the argument other than to saying, yes, us, too, and the Ninth Circuit Johnson case simply comes down saying well, we've looked through and this is what the majority thinks, and we think that also. \",\n",
       "   u\" I would also point out that another reason I believe this cannot be de minimis or harmless error is that we tend to focus in on the phrase, the Court shall enter an order dismissing with prejudice, but there's also a self executing clause in there, it seems that by the transfer itself, ex operi operato, the indictment becomes without further effect. \",\n",
       "   u\" Now, that is something that I believe that it requires an objection prior to trial to preserve that, just like any sort of defect in an indictment would require, yet it's not something that you can apply harmless error or de minimis analysis to. \",\n",
       "   u\" If the... it seems somewhat redundant to have, then having the court enter a ruling dismissing the charge but I believe that that's to prevent the prosecutor from coming back and reindicting on these same charges, and it also recognizes that there really is no indictment, self executing clauses being somewhat difficult to enforce otherwise. \",\n",
       "   u\" I would also point out, it's not very difficult for the States to follow these rules. \",\n",
       "   u\" It's laid out quite clearly. \",\n",
       "   u' In this particular case, as I have set out in the red brief, the prosecutor had ample opportunity to know what the statute said and to follow the rules. ',\n",
       "   u' She even had notice from Mr. Bozeman himself who had filed a pro se motion objecting to a prior transfer that said the IAD requires dismissal. ',\n",
       "   u\" It's... to excuse that is simply, I believe, would be saying that a prosecutor can do whatever he or she pleases and that they hope to be able to get away with it by claiming that it's harmless. \",\n",
       "   u' As a practical matter, a trial court judge is almost always going to rule that an error is harmless. ',\n",
       "   u\" He's going to rule against the prosecutor unless there is some real teeth given to the wording of the statute. \"],\n",
       "  [u' Against the prosecutor or against the defendant? '],\n",
       "  [u' Against the defendant. ',\n",
       "   u\" Well, it is a sanction, I suppose, against the prosecutor and they understandably don't like that because it's so rare that that happens, and as a defense lawyer, it gives me that small bit of cheer to occasionally have the upper hand. \",\n",
       "   u' And also, this statute provides a bright line. ',\n",
       "   u' I think that there are going to be endless hearings on whether or not harm has taken place if this Court rules that harmless error can apply. ',\n",
       "   u\" If you rule that the strict language applies, the Court needn't... merely see, has there been a transfer, and if so, has there been a waiver. \"],\n",
       "  [u\" I'm not sure what the harm consists of if we had to look for harmless error, what would we look for? \",\n",
       "   u' Losing a job as a barber? '],\n",
       "  [u' I think that it would be something along the lines of rehabilitation, even though this purpose of the IAD is to resolve detainers, I think the background behind that is that detainers interfere with rehabilitation. ',\n",
       "   u' Thank you. '],\n",
       "  [u' Thank you, Mr. Christensen. ',\n",
       "   u' Ms. Stewart, you have three minutes remaining. '],\n",
       "  [u' Thank you, Mr. Chief Justice. ',\n",
       "   u' Just a few points. ',\n",
       "   u' I wanted to point out, the respondent has conceded that there are some exceptions to the actual wording of section, of Article IV(e), he has conceded that the language is not that clear and that there might have to be some construction of that statute in order to make it effectuate its purposes. ',\n",
       "   u\" Also, it's very important to point out that the agreement was not just for the benefit of the prisoner here, this agreement was entered into for the benefit of the party States as well as for the benefit of the prisoner, and that purpose is specifically stated in Article I, and it is one of the purposes that needs to be considered in determining whether or not a harmless error analysis should apply. \",\n",
       "   u\" In response to Justice Stevens' question about waiver and whether or not we could just have the prisoner waive, I think it's important to point out that the respondent has argued that one of the problems with implementing harmless error is it would lead to additional litigation in the trial courts, and I would point out that if we have a hearing every time we need to determine whether or not the prisoner wants to waive the right, then again we're going to have additional litigation, so either way we're going to come up with additional litigation. \",\n",
       "   u\" In answer to Justice Breyer's question about what's the purpose behind Article IV(e), I think it's simply meant to implement Article IV(c), and it's a way to bring the prisoner over, and we need to have him here, dispose of the charges, and bring him back, but I don't think the purpose is to give the prisoner some sort of benefit, some sort of way to have the charges disposed of short of a trial. \",\n",
       "   u' Finally, Mr. Bozeman made no argument below about harm and that he suffered any harm, so it should not be considered here, and if this Court has no further questions, I thank you. '],\n",
       "  [u' Thank you, Ms. Stewart. ', u' The case is submitted. ']]]"
      ]
     },
     "execution_count": 130,
     "metadata": {},
     "output_type": "execute_result"
    },
    {
     "name": "stdout",
     "output_type": "stream",
     "text": [
      "time: 35.5 ms\n"
     ]
    }
   ],
   "source": [
    "list_text3[0]"
   ]
  },
  {
   "cell_type": "code",
   "execution_count": 131,
   "metadata": {},
   "outputs": [
    {
     "name": "stdout",
     "output_type": "stream",
     "text": [
      "time: 1.14 ms\n"
     ]
    }
   ],
   "source": [
    "df = pd.DataFrame()"
   ]
  },
  {
   "cell_type": "code",
   "execution_count": 132,
   "metadata": {},
   "outputs": [
    {
     "name": "stdout",
     "output_type": "stream",
     "text": [
      "time: 12 ms\n"
     ]
    }
   ],
   "source": [
    "list1 = []\n",
    "list2 = []\n",
    "list3 = []\n",
    "list4 = []\n",
    "list5 = []\n",
    "list6 = []\n",
    "list7 = []\n",
    "list8 = []\n",
    "list9 = []\n",
    "\n",
    "for i in list_text3:\n",
    "    list1.append(i[0])\n",
    "    list2.append(i[1][0])\n",
    "    list3.append(i[2])\n",
    "    list4.append(i[3])\n",
    "    list5.append(i[4])\n",
    "    list6.append(i[5])\n",
    "    list7.append(i[6])\n",
    "    list8.append(i[7])\n",
    "    list9.append(i[8])"
   ]
  },
  {
   "cell_type": "code",
   "execution_count": 133,
   "metadata": {},
   "outputs": [
    {
     "name": "stdout",
     "output_type": "stream",
     "text": [
      "time: 10.2 ms\n"
     ]
    }
   ],
   "source": [
    "df['link1'] = list1\n",
    "df['link2'] = list2\n",
    "df['docket'] = list3\n",
    "df['respondent'] = list4\n",
    "df['petitioner'] = list5\n",
    "df['decided'] = list6\n",
    "df['decision'] = list7\n",
    "df['speakers'] = list8\n",
    "df['verbage'] = list9"
   ]
  },
  {
   "cell_type": "code",
   "execution_count": 140,
   "metadata": {
    "scrolled": true
   },
   "outputs": [
    {
     "data": {
      "text/html": [
       "<div>\n",
       "<style>\n",
       "    .dataframe thead tr:only-child th {\n",
       "        text-align: right;\n",
       "    }\n",
       "\n",
       "    .dataframe thead th {\n",
       "        text-align: left;\n",
       "    }\n",
       "\n",
       "    .dataframe tbody tr th {\n",
       "        vertical-align: top;\n",
       "    }\n",
       "</style>\n",
       "<table border=\"1\" class=\"dataframe\">\n",
       "  <thead>\n",
       "    <tr style=\"text-align: right;\">\n",
       "      <th></th>\n",
       "      <th>Unnamed: 0</th>\n",
       "      <th>link1</th>\n",
       "      <th>link2</th>\n",
       "      <th>docket</th>\n",
       "      <th>respondent</th>\n",
       "      <th>petitioner</th>\n",
       "      <th>decided</th>\n",
       "      <th>decision</th>\n",
       "      <th>speakers</th>\n",
       "      <th>verbage</th>\n",
       "      <th>petition_won</th>\n",
       "      <th>just_text</th>\n",
       "    </tr>\n",
       "  </thead>\n",
       "  <tbody>\n",
       "    <tr>\n",
       "      <th>0</th>\n",
       "      <td>0</td>\n",
       "      <td>https://apps.oyez.org/player/#/rehnquist10/ora...</td>\n",
       "      <td>https://apps.oyez.org/player/#/rehnquist10/ora...</td>\n",
       "      <td>00-492</td>\n",
       "      <td>Bozeman</td>\n",
       "      <td>Alabama</td>\n",
       "      <td>Jun 11, 2001</td>\n",
       "      <td>[]</td>\n",
       "      <td>[u'William H. Rehnquist', u'Sandra Jean Stewar...</td>\n",
       "      <td>[[u\" We'll hear argument next in number 00-492...</td>\n",
       "      <td>0</td>\n",
       "      <td>We'll hear argument next in number 00-492, Al...</td>\n",
       "    </tr>\n",
       "    <tr>\n",
       "      <th>1</th>\n",
       "      <td>1</td>\n",
       "      <td>https://apps.oyez.org/player/#/rehnquist10/ora...</td>\n",
       "      <td>https://apps.oyez.org/player/#/rehnquist10/ora...</td>\n",
       "      <td>99-1908</td>\n",
       "      <td>Sandoval</td>\n",
       "      <td>Alexander</td>\n",
       "      <td>Apr 24, 2001</td>\n",
       "      <td>Alexander</td>\n",
       "      <td>[u'William H. Rehnquist', u'Jeffrey S. Sutton'...</td>\n",
       "      <td>[[u\" We'll hear argument first this morning in...</td>\n",
       "      <td>1</td>\n",
       "      <td>We'll hear argument first this morning in Num...</td>\n",
       "    </tr>\n",
       "    <tr>\n",
       "      <th>2</th>\n",
       "      <td>2</td>\n",
       "      <td>https://apps.oyez.org/player/#/rehnquist10/ora...</td>\n",
       "      <td>https://apps.oyez.org/player/#/rehnquist10/ora...</td>\n",
       "      <td>99-1238</td>\n",
       "      <td>Bennett</td>\n",
       "      <td>Artuz</td>\n",
       "      <td>Nov 7, 2000</td>\n",
       "      <td>[]</td>\n",
       "      <td>[u'William H. Rehnquist', u'John M. Castellano...</td>\n",
       "      <td>[[u\" We'll hear argument next in Number 99-123...</td>\n",
       "      <td>0</td>\n",
       "      <td>We'll hear argument next in Number 99-1238, C...</td>\n",
       "    </tr>\n",
       "    <tr>\n",
       "      <th>3</th>\n",
       "      <td>5</td>\n",
       "      <td>https://apps.oyez.org/player/#/rehnquist10/ora...</td>\n",
       "      <td>https://apps.oyez.org/player/#/rehnquist10/ora...</td>\n",
       "      <td>99-1687</td>\n",
       "      <td>Vopper</td>\n",
       "      <td>Bartnicki</td>\n",
       "      <td>May 21, 2001</td>\n",
       "      <td>[]</td>\n",
       "      <td>[u'William H. Rehnquist', u'Jeremiah A. Collin...</td>\n",
       "      <td>[[u\" We'll hear argument next in Number 99-168...</td>\n",
       "      <td>0</td>\n",
       "      <td>We'll hear argument next in Number 99-1687, G...</td>\n",
       "    </tr>\n",
       "    <tr>\n",
       "      <th>4</th>\n",
       "      <td>6</td>\n",
       "      <td>https://apps.oyez.org/player/#/rehnquist10/ora...</td>\n",
       "      <td>https://apps.oyez.org/player/#/rehnquist10/ora...</td>\n",
       "      <td>00-6374</td>\n",
       "      <td>Montgomery</td>\n",
       "      <td>Becker</td>\n",
       "      <td>May 29, 2001</td>\n",
       "      <td>Becker</td>\n",
       "      <td>[u'William H. Rehnquist', u'Jeffrey S. Sutton'...</td>\n",
       "      <td>[[u\" We'll hear argument now in No. 00-6374, D...</td>\n",
       "      <td>1</td>\n",
       "      <td>We'll hear argument now in No. 00-6374, Dale ...</td>\n",
       "    </tr>\n",
       "    <tr>\n",
       "      <th>5</th>\n",
       "      <td>8</td>\n",
       "      <td>https://apps.oyez.org/player/#/rehnquist10/ora...</td>\n",
       "      <td>https://apps.oyez.org/player/#/rehnquist10/ora...</td>\n",
       "      <td>99-1964</td>\n",
       "      <td>Churner</td>\n",
       "      <td>Booth</td>\n",
       "      <td>May 29, 2001</td>\n",
       "      <td>[]</td>\n",
       "      <td>[u'William H. Rehnquist', u'Nancy Winkelman', ...</td>\n",
       "      <td>[[u\" We'll hear argument next in Number 99-196...</td>\n",
       "      <td>0</td>\n",
       "      <td>We'll hear argument next in Number 99-1964, T...</td>\n",
       "    </tr>\n",
       "    <tr>\n",
       "      <th>6</th>\n",
       "      <td>9</td>\n",
       "      <td>https://apps.oyez.org/player/#/rehnquist10/ora...</td>\n",
       "      <td>https://apps.oyez.org/player/#/rehnquist10/ora...</td>\n",
       "      <td>99-901</td>\n",
       "      <td>Tennessee Secondary School Athletic Assn.</td>\n",
       "      <td>Brentwood Academy</td>\n",
       "      <td>Feb 20, 2001</td>\n",
       "      <td>Brentwood Academy</td>\n",
       "      <td>[u'William H. Rehnquist', u'James F. Blumstein...</td>\n",
       "      <td>[[u\" We'll hear argument next in Number 99-901...</td>\n",
       "      <td>1</td>\n",
       "      <td>We'll hear argument next in Number 99-901, Br...</td>\n",
       "    </tr>\n",
       "    <tr>\n",
       "      <th>7</th>\n",
       "      <td>12</td>\n",
       "      <td>https://apps.oyez.org/player/#/rehnquist10/ora...</td>\n",
       "      <td>https://apps.oyez.org/player/#/rehnquist10/ora...</td>\n",
       "      <td>99-9073</td>\n",
       "      <td>United States</td>\n",
       "      <td>Buford</td>\n",
       "      <td>Mar 20, 2001</td>\n",
       "      <td>[]</td>\n",
       "      <td>[u'William H. Rehnquist', u'Dean A. Strang', u...</td>\n",
       "      <td>[[u\" We'll hear argument now in Number 99-9073...</td>\n",
       "      <td>0</td>\n",
       "      <td>We'll hear argument now in Number 99-9073, Pa...</td>\n",
       "    </tr>\n",
       "    <tr>\n",
       "      <th>8</th>\n",
       "      <td>15</td>\n",
       "      <td>https://apps.oyez.org/player/#/rehnquist10/ora...</td>\n",
       "      <td>https://apps.oyez.org/player/#/rehnquist10/ora...</td>\n",
       "      <td>00-292</td>\n",
       "      <td>Citizen Band Potawatomi Indian Tribe of Oklah...</td>\n",
       "      <td>C. &amp; L. Enterprises, Inc.</td>\n",
       "      <td>Apr 30, 2001</td>\n",
       "      <td>C. &amp; L. Enterprises, Inc.</td>\n",
       "      <td>[u'William H. Rehnquist', u'John D. Mashburn',...</td>\n",
       "      <td>[[u\" We'll hear argument now in Number 00-292,...</td>\n",
       "      <td>1</td>\n",
       "      <td>We'll hear argument now in Number 00-292, C &amp;...</td>\n",
       "    </tr>\n",
       "    <tr>\n",
       "      <th>9</th>\n",
       "      <td>16</td>\n",
       "      <td>https://apps.oyez.org/player/#/rehnquist10/ora...</td>\n",
       "      <td>https://apps.oyez.org/player/#/rehnquist10/ora...</td>\n",
       "      <td>00-1011</td>\n",
       "      <td>INS</td>\n",
       "      <td>Calcano-Martinez et al.</td>\n",
       "      <td>Jun 25, 2001</td>\n",
       "      <td>Calcano-Martinez et al.</td>\n",
       "      <td>[u'William H. Rehnquist', u'Lucas Guttentag', ...</td>\n",
       "      <td>[[u\" We'll hear argument now in Number 00-1011...</td>\n",
       "      <td>1</td>\n",
       "      <td>We'll hear argument now in Number 00-1011, De...</td>\n",
       "    </tr>\n",
       "    <tr>\n",
       "      <th>10</th>\n",
       "      <td>17</td>\n",
       "      <td>https://apps.oyez.org/player/#/rehnquist10/ora...</td>\n",
       "      <td>https://apps.oyez.org/player/#/rehnquist10/ora...</td>\n",
       "      <td>00-549</td>\n",
       "      <td>King</td>\n",
       "      <td>Cedric Kushner Promotions, Ltd.</td>\n",
       "      <td>Jun 11, 2001</td>\n",
       "      <td>[]</td>\n",
       "      <td>[u'William H. Rehnquist', u'Richard A. Edlin',...</td>\n",
       "      <td>[[u\" We'll hear argument now in No. 00-549, Ce...</td>\n",
       "      <td>0</td>\n",
       "      <td>We'll hear argument now in No. 00-549, Cedric...</td>\n",
       "    </tr>\n",
       "    <tr>\n",
       "      <th>11</th>\n",
       "      <td>18</td>\n",
       "      <td>https://apps.oyez.org/player/#/rehnquist10/ora...</td>\n",
       "      <td>https://apps.oyez.org/player/#/rehnquist10/ora...</td>\n",
       "      <td>99-859</td>\n",
       "      <td>United States</td>\n",
       "      <td>Central Green Company</td>\n",
       "      <td>Feb 21, 2001</td>\n",
       "      <td>Central Green Company</td>\n",
       "      <td>[u'William H. Rehnquist', u'Timothy Jones', u'...</td>\n",
       "      <td>[[u\" We'll hear argument next in Number 99-859...</td>\n",
       "      <td>1</td>\n",
       "      <td>We'll hear argument next in Number 99-859, Ce...</td>\n",
       "    </tr>\n",
       "    <tr>\n",
       "      <th>12</th>\n",
       "      <td>19</td>\n",
       "      <td>https://apps.oyez.org/player/#/rehnquist10/ora...</td>\n",
       "      <td>https://apps.oyez.org/player/#/rehnquist10/ora...</td>\n",
       "      <td>99-1379</td>\n",
       "      <td>Adams</td>\n",
       "      <td>Circuit City Stores, Inc.</td>\n",
       "      <td>Mar 21, 2001</td>\n",
       "      <td>Circuit City Stores, Inc.</td>\n",
       "      <td>[u'William H. Rehnquist', u'David E. Nagle', u...</td>\n",
       "      <td>[[u\" We'll hear argument now in Number 99-1379...</td>\n",
       "      <td>1</td>\n",
       "      <td>We'll hear argument now in Number 99-1379, Ci...</td>\n",
       "    </tr>\n",
       "    <tr>\n",
       "      <th>13</th>\n",
       "      <td>22</td>\n",
       "      <td>https://apps.oyez.org/player/#/rehnquist10/ora...</td>\n",
       "      <td>https://apps.oyez.org/player/#/rehnquist10/ora...</td>\n",
       "      <td>99-804</td>\n",
       "      <td>United States</td>\n",
       "      <td>Cleveland</td>\n",
       "      <td>Nov 7, 2000</td>\n",
       "      <td>Cleveland</td>\n",
       "      <td>[u'William H. Rehnquist', u'Paul Mogin', u'Ant...</td>\n",
       "      <td>[[u\" We'll hear argument now in Number 99-804,...</td>\n",
       "      <td>1</td>\n",
       "      <td>We'll hear argument now in Number 99-804, Car...</td>\n",
       "    </tr>\n",
       "    <tr>\n",
       "      <th>14</th>\n",
       "      <td>24</td>\n",
       "      <td>https://apps.oyez.org/player/#/rehnquist10/ora...</td>\n",
       "      <td>https://apps.oyez.org/player/#/rehnquist10/ora...</td>\n",
       "      <td>99-2035</td>\n",
       "      <td>Leatherman Tool Group, Inc.</td>\n",
       "      <td>Cooper Industries, Inc.</td>\n",
       "      <td>May 14, 2001</td>\n",
       "      <td>Cooper Industries, Inc.</td>\n",
       "      <td>[u'William H. Rehnquist', u'William Bradford R...</td>\n",
       "      <td>[[u\" We'll hear argument first this morning in...</td>\n",
       "      <td>1</td>\n",
       "      <td>We'll hear argument first this morning in Num...</td>\n",
       "    </tr>\n",
       "    <tr>\n",
       "      <th>15</th>\n",
       "      <td>25</td>\n",
       "      <td>https://apps.oyez.org/player/#/rehnquist10/ora...</td>\n",
       "      <td>https://apps.oyez.org/player/#/rehnquist10/ora...</td>\n",
       "      <td>99-9136</td>\n",
       "      <td>United States</td>\n",
       "      <td>Daniels</td>\n",
       "      <td>Apr 25, 2001</td>\n",
       "      <td>[]</td>\n",
       "      <td>[u'William H. Rehnquist', u'G. Michael Tanaka'...</td>\n",
       "      <td>[[u\" We'll hear argument now in Number 99-9136...</td>\n",
       "      <td>0</td>\n",
       "      <td>We'll hear argument now in Number 99-9136, Ea...</td>\n",
       "    </tr>\n",
       "    <tr>\n",
       "      <th>16</th>\n",
       "      <td>26</td>\n",
       "      <td>https://apps.oyez.org/player/#/rehnquist10/ora...</td>\n",
       "      <td>https://apps.oyez.org/player/#/rehnquist10/ora...</td>\n",
       "      <td>99-1871</td>\n",
       "      <td>Klamath Water Users Protective Association</td>\n",
       "      <td>Department of Interior</td>\n",
       "      <td>Mar 5, 2001</td>\n",
       "      <td>[]</td>\n",
       "      <td>[u'William H. Rehnquist', u'Malcolm L. Stewart...</td>\n",
       "      <td>[[u\" We'll hear argument next in Number 99-187...</td>\n",
       "      <td>0</td>\n",
       "      <td>We'll hear argument next in Number 99-1871, D...</td>\n",
       "    </tr>\n",
       "    <tr>\n",
       "      <th>17</th>\n",
       "      <td>30</td>\n",
       "      <td>https://apps.oyez.org/player/#/rehnquist10/ora...</td>\n",
       "      <td>https://apps.oyez.org/player/#/rehnquist10/ora...</td>\n",
       "      <td>00-191</td>\n",
       "      <td>Colorado Republican Federal Campaign Committee</td>\n",
       "      <td>Federal Election Commission</td>\n",
       "      <td>Jun 25, 2001</td>\n",
       "      <td>Federal Election Commission</td>\n",
       "      <td>[u'William H. Rehnquist', u'Barbara D. Underwo...</td>\n",
       "      <td>[[u\" We'll hear argument next in No. 00-191, F...</td>\n",
       "      <td>1</td>\n",
       "      <td>We'll hear argument next in No. 00-191, Feder...</td>\n",
       "    </tr>\n",
       "    <tr>\n",
       "      <th>18</th>\n",
       "      <td>32</td>\n",
       "      <td>https://apps.oyez.org/player/#/rehnquist10/ora...</td>\n",
       "      <td>https://apps.oyez.org/player/#/rehnquist10/ora...</td>\n",
       "      <td>00-391</td>\n",
       "      <td>Thomas</td>\n",
       "      <td>Florida</td>\n",
       "      <td>Jun 4, 2001</td>\n",
       "      <td>[]</td>\n",
       "      <td>[u'William H. Rehnquist', u'Robert J. Krauss',...</td>\n",
       "      <td>[[u\" We'll hear argument next in Number 00-391...</td>\n",
       "      <td>0</td>\n",
       "      <td>We'll hear argument next in Number 00-391, Fl...</td>\n",
       "    </tr>\n",
       "    <tr>\n",
       "      <th>19</th>\n",
       "      <td>33</td>\n",
       "      <td>https://apps.oyez.org/player/#/rehnquist10/ora...</td>\n",
       "      <td>https://apps.oyez.org/player/#/rehnquist10/ora...</td>\n",
       "      <td>99-1295</td>\n",
       "      <td>Commissioner of Internal Revenue</td>\n",
       "      <td>Gitlitz</td>\n",
       "      <td>Jan 9, 2001</td>\n",
       "      <td>Gitlitz</td>\n",
       "      <td>[u'William H. Rehnquist', u'Darrell D. Hallett...</td>\n",
       "      <td>[[u' We will hear argument first this morning ...</td>\n",
       "      <td>1</td>\n",
       "      <td>We will hear argument first this morning on n...</td>\n",
       "    </tr>\n",
       "  </tbody>\n",
       "</table>\n",
       "</div>"
      ],
      "text/plain": [
       "    Unnamed: 0                                              link1  \\\n",
       "0            0  https://apps.oyez.org/player/#/rehnquist10/ora...   \n",
       "1            1  https://apps.oyez.org/player/#/rehnquist10/ora...   \n",
       "2            2  https://apps.oyez.org/player/#/rehnquist10/ora...   \n",
       "3            5  https://apps.oyez.org/player/#/rehnquist10/ora...   \n",
       "4            6  https://apps.oyez.org/player/#/rehnquist10/ora...   \n",
       "5            8  https://apps.oyez.org/player/#/rehnquist10/ora...   \n",
       "6            9  https://apps.oyez.org/player/#/rehnquist10/ora...   \n",
       "7           12  https://apps.oyez.org/player/#/rehnquist10/ora...   \n",
       "8           15  https://apps.oyez.org/player/#/rehnquist10/ora...   \n",
       "9           16  https://apps.oyez.org/player/#/rehnquist10/ora...   \n",
       "10          17  https://apps.oyez.org/player/#/rehnquist10/ora...   \n",
       "11          18  https://apps.oyez.org/player/#/rehnquist10/ora...   \n",
       "12          19  https://apps.oyez.org/player/#/rehnquist10/ora...   \n",
       "13          22  https://apps.oyez.org/player/#/rehnquist10/ora...   \n",
       "14          24  https://apps.oyez.org/player/#/rehnquist10/ora...   \n",
       "15          25  https://apps.oyez.org/player/#/rehnquist10/ora...   \n",
       "16          26  https://apps.oyez.org/player/#/rehnquist10/ora...   \n",
       "17          30  https://apps.oyez.org/player/#/rehnquist10/ora...   \n",
       "18          32  https://apps.oyez.org/player/#/rehnquist10/ora...   \n",
       "19          33  https://apps.oyez.org/player/#/rehnquist10/ora...   \n",
       "\n",
       "                                                link2     docket  \\\n",
       "0   https://apps.oyez.org/player/#/rehnquist10/ora...    00-492    \n",
       "1   https://apps.oyez.org/player/#/rehnquist10/ora...   99-1908    \n",
       "2   https://apps.oyez.org/player/#/rehnquist10/ora...   99-1238    \n",
       "3   https://apps.oyez.org/player/#/rehnquist10/ora...   99-1687    \n",
       "4   https://apps.oyez.org/player/#/rehnquist10/ora...   00-6374    \n",
       "5   https://apps.oyez.org/player/#/rehnquist10/ora...   99-1964    \n",
       "6   https://apps.oyez.org/player/#/rehnquist10/ora...    99-901    \n",
       "7   https://apps.oyez.org/player/#/rehnquist10/ora...   99-9073    \n",
       "8   https://apps.oyez.org/player/#/rehnquist10/ora...    00-292    \n",
       "9   https://apps.oyez.org/player/#/rehnquist10/ora...   00-1011    \n",
       "10  https://apps.oyez.org/player/#/rehnquist10/ora...    00-549    \n",
       "11  https://apps.oyez.org/player/#/rehnquist10/ora...    99-859    \n",
       "12  https://apps.oyez.org/player/#/rehnquist10/ora...   99-1379    \n",
       "13  https://apps.oyez.org/player/#/rehnquist10/ora...    99-804    \n",
       "14  https://apps.oyez.org/player/#/rehnquist10/ora...   99-2035    \n",
       "15  https://apps.oyez.org/player/#/rehnquist10/ora...   99-9136    \n",
       "16  https://apps.oyez.org/player/#/rehnquist10/ora...   99-1871    \n",
       "17  https://apps.oyez.org/player/#/rehnquist10/ora...    00-191    \n",
       "18  https://apps.oyez.org/player/#/rehnquist10/ora...    00-391    \n",
       "19  https://apps.oyez.org/player/#/rehnquist10/ora...   99-1295    \n",
       "\n",
       "                                           respondent  \\\n",
       "0                                            Bozeman    \n",
       "1                                           Sandoval    \n",
       "2                                            Bennett    \n",
       "3                                             Vopper    \n",
       "4                                         Montgomery    \n",
       "5                                            Churner    \n",
       "6          Tennessee Secondary School Athletic Assn.    \n",
       "7                                      United States    \n",
       "8    Citizen Band Potawatomi Indian Tribe of Oklah...   \n",
       "9                                                INS    \n",
       "10                                              King    \n",
       "11                                     United States    \n",
       "12                                             Adams    \n",
       "13                                     United States    \n",
       "14                       Leatherman Tool Group, Inc.    \n",
       "15                                     United States    \n",
       "16        Klamath Water Users Protective Association    \n",
       "17    Colorado Republican Federal Campaign Committee    \n",
       "18                                            Thomas    \n",
       "19                  Commissioner of Internal Revenue    \n",
       "\n",
       "                           petitioner       decided  \\\n",
       "0                            Alabama   Jun 11, 2001   \n",
       "1                          Alexander   Apr 24, 2001   \n",
       "2                              Artuz    Nov 7, 2000   \n",
       "3                          Bartnicki   May 21, 2001   \n",
       "4                             Becker   May 29, 2001   \n",
       "5                              Booth   May 29, 2001   \n",
       "6                  Brentwood Academy   Feb 20, 2001   \n",
       "7                             Buford   Mar 20, 2001   \n",
       "8          C. & L. Enterprises, Inc.   Apr 30, 2001   \n",
       "9            Calcano-Martinez et al.   Jun 25, 2001   \n",
       "10   Cedric Kushner Promotions, Ltd.   Jun 11, 2001   \n",
       "11             Central Green Company   Feb 21, 2001   \n",
       "12         Circuit City Stores, Inc.   Mar 21, 2001   \n",
       "13                         Cleveland    Nov 7, 2000   \n",
       "14           Cooper Industries, Inc.   May 14, 2001   \n",
       "15                           Daniels   Apr 25, 2001   \n",
       "16            Department of Interior    Mar 5, 2001   \n",
       "17       Federal Election Commission   Jun 25, 2001   \n",
       "18                           Florida    Jun 4, 2001   \n",
       "19                           Gitlitz    Jan 9, 2001   \n",
       "\n",
       "                       decision  \\\n",
       "0                            []   \n",
       "1                     Alexander   \n",
       "2                            []   \n",
       "3                            []   \n",
       "4                        Becker   \n",
       "5                            []   \n",
       "6             Brentwood Academy   \n",
       "7                            []   \n",
       "8     C. & L. Enterprises, Inc.   \n",
       "9       Calcano-Martinez et al.   \n",
       "10                           []   \n",
       "11        Central Green Company   \n",
       "12    Circuit City Stores, Inc.   \n",
       "13                    Cleveland   \n",
       "14      Cooper Industries, Inc.   \n",
       "15                           []   \n",
       "16                           []   \n",
       "17  Federal Election Commission   \n",
       "18                           []   \n",
       "19                      Gitlitz   \n",
       "\n",
       "                                             speakers  \\\n",
       "0   [u'William H. Rehnquist', u'Sandra Jean Stewar...   \n",
       "1   [u'William H. Rehnquist', u'Jeffrey S. Sutton'...   \n",
       "2   [u'William H. Rehnquist', u'John M. Castellano...   \n",
       "3   [u'William H. Rehnquist', u'Jeremiah A. Collin...   \n",
       "4   [u'William H. Rehnquist', u'Jeffrey S. Sutton'...   \n",
       "5   [u'William H. Rehnquist', u'Nancy Winkelman', ...   \n",
       "6   [u'William H. Rehnquist', u'James F. Blumstein...   \n",
       "7   [u'William H. Rehnquist', u'Dean A. Strang', u...   \n",
       "8   [u'William H. Rehnquist', u'John D. Mashburn',...   \n",
       "9   [u'William H. Rehnquist', u'Lucas Guttentag', ...   \n",
       "10  [u'William H. Rehnquist', u'Richard A. Edlin',...   \n",
       "11  [u'William H. Rehnquist', u'Timothy Jones', u'...   \n",
       "12  [u'William H. Rehnquist', u'David E. Nagle', u...   \n",
       "13  [u'William H. Rehnquist', u'Paul Mogin', u'Ant...   \n",
       "14  [u'William H. Rehnquist', u'William Bradford R...   \n",
       "15  [u'William H. Rehnquist', u'G. Michael Tanaka'...   \n",
       "16  [u'William H. Rehnquist', u'Malcolm L. Stewart...   \n",
       "17  [u'William H. Rehnquist', u'Barbara D. Underwo...   \n",
       "18  [u'William H. Rehnquist', u'Robert J. Krauss',...   \n",
       "19  [u'William H. Rehnquist', u'Darrell D. Hallett...   \n",
       "\n",
       "                                              verbage  petition_won  \\\n",
       "0   [[u\" We'll hear argument next in number 00-492...             0   \n",
       "1   [[u\" We'll hear argument first this morning in...             1   \n",
       "2   [[u\" We'll hear argument next in Number 99-123...             0   \n",
       "3   [[u\" We'll hear argument next in Number 99-168...             0   \n",
       "4   [[u\" We'll hear argument now in No. 00-6374, D...             1   \n",
       "5   [[u\" We'll hear argument next in Number 99-196...             0   \n",
       "6   [[u\" We'll hear argument next in Number 99-901...             1   \n",
       "7   [[u\" We'll hear argument now in Number 99-9073...             0   \n",
       "8   [[u\" We'll hear argument now in Number 00-292,...             1   \n",
       "9   [[u\" We'll hear argument now in Number 00-1011...             1   \n",
       "10  [[u\" We'll hear argument now in No. 00-549, Ce...             0   \n",
       "11  [[u\" We'll hear argument next in Number 99-859...             1   \n",
       "12  [[u\" We'll hear argument now in Number 99-1379...             1   \n",
       "13  [[u\" We'll hear argument now in Number 99-804,...             1   \n",
       "14  [[u\" We'll hear argument first this morning in...             1   \n",
       "15  [[u\" We'll hear argument now in Number 99-9136...             0   \n",
       "16  [[u\" We'll hear argument next in Number 99-187...             0   \n",
       "17  [[u\" We'll hear argument next in No. 00-191, F...             1   \n",
       "18  [[u\" We'll hear argument next in Number 00-391...             0   \n",
       "19  [[u' We will hear argument first this morning ...             1   \n",
       "\n",
       "                                            just_text  \n",
       "0    We'll hear argument next in number 00-492, Al...  \n",
       "1    We'll hear argument first this morning in Num...  \n",
       "2    We'll hear argument next in Number 99-1238, C...  \n",
       "3    We'll hear argument next in Number 99-1687, G...  \n",
       "4    We'll hear argument now in No. 00-6374, Dale ...  \n",
       "5    We'll hear argument next in Number 99-1964, T...  \n",
       "6    We'll hear argument next in Number 99-901, Br...  \n",
       "7    We'll hear argument now in Number 99-9073, Pa...  \n",
       "8    We'll hear argument now in Number 00-292, C &...  \n",
       "9    We'll hear argument now in Number 00-1011, De...  \n",
       "10   We'll hear argument now in No. 00-549, Cedric...  \n",
       "11   We'll hear argument next in Number 99-859, Ce...  \n",
       "12   We'll hear argument now in Number 99-1379, Ci...  \n",
       "13   We'll hear argument now in Number 99-804, Car...  \n",
       "14   We'll hear argument first this morning in Num...  \n",
       "15   We'll hear argument now in Number 99-9136, Ea...  \n",
       "16   We'll hear argument next in Number 99-1871, D...  \n",
       "17   We'll hear argument next in No. 00-191, Feder...  \n",
       "18   We'll hear argument next in Number 00-391, Fl...  \n",
       "19   We will hear argument first this morning on n...  "
      ]
     },
     "execution_count": 140,
     "metadata": {},
     "output_type": "execute_result"
    },
    {
     "name": "stdout",
     "output_type": "stream",
     "text": [
      "time: 79.8 ms\n"
     ]
    }
   ],
   "source": [
    "df.head(20)"
   ]
  },
  {
   "cell_type": "code",
   "execution_count": 184,
   "metadata": {
    "scrolled": false
   },
   "outputs": [
    {
     "name": "stdout",
     "output_type": "stream",
     "text": [
      "time: 2.58 ms\n"
     ]
    }
   ],
   "source": [
    "df = df[[len(i)>0 for i in df.petitioner]]"
   ]
  },
  {
   "cell_type": "code",
   "execution_count": 189,
   "metadata": {},
   "outputs": [
    {
     "name": "stdout",
     "output_type": "stream",
     "text": [
      "time: 2.97 ms\n"
     ]
    }
   ],
   "source": [
    "df = df[[len(i)>0 for i in df.speakers]]"
   ]
  },
  {
   "cell_type": "code",
   "execution_count": 190,
   "metadata": {},
   "outputs": [
    {
     "data": {
      "text/plain": [
       "(479, 10)"
      ]
     },
     "execution_count": 190,
     "metadata": {},
     "output_type": "execute_result"
    },
    {
     "name": "stdout",
     "output_type": "stream",
     "text": [
      "time: 2.77 ms\n"
     ]
    }
   ],
   "source": [
    "df.shape"
   ]
  },
  {
   "cell_type": "code",
   "execution_count": 136,
   "metadata": {
    "scrolled": true
   },
   "outputs": [
    {
     "name": "stdout",
     "output_type": "stream",
     "text": [
      "time: 8.02 ms\n"
     ]
    }
   ],
   "source": [
    "wins = []\n",
    "for term1,term2 in zip(df.decision, df.petitioner):\n",
    "    if str(term1)[:4] in str(term2):\n",
    "        win = 1\n",
    "    else:\n",
    "        win = 0\n",
    "    wins.append(win)"
   ]
  },
  {
   "cell_type": "code",
   "execution_count": 137,
   "metadata": {},
   "outputs": [
    {
     "name": "stdout",
     "output_type": "stream",
     "text": [
      "time: 1.29 ms\n"
     ]
    }
   ],
   "source": [
    "df['petition_won'] = wins"
   ]
  },
  {
   "cell_type": "code",
   "execution_count": 138,
   "metadata": {},
   "outputs": [
    {
     "data": {
      "text/plain": [
       "1    312\n",
       "0    167\n",
       "Name: petition_won, dtype: int64"
      ]
     },
     "execution_count": 138,
     "metadata": {},
     "output_type": "execute_result"
    },
    {
     "name": "stdout",
     "output_type": "stream",
     "text": [
      "time: 4.61 ms\n"
     ]
    }
   ],
   "source": [
    "df.petition_won.value_counts(dropna=False)"
   ]
  },
  {
   "cell_type": "code",
   "execution_count": null,
   "metadata": {
    "collapsed": true
   },
   "outputs": [],
   "source": []
  },
  {
   "cell_type": "code",
   "execution_count": 218,
   "metadata": {},
   "outputs": [
    {
     "name": "stdout",
     "output_type": "stream",
     "text": [
      "time: 263 ms\n"
     ]
    }
   ],
   "source": [
    "full_text = []\n",
    "for i in df.verbage:\n",
    "    words = ' '\n",
    "    for x in i:\n",
    "        for y in x:\n",
    "            words = words + y.encode('utf-8').strip()\n",
    "    full_text.append(words)"
   ]
  },
  {
   "cell_type": "code",
   "execution_count": 221,
   "metadata": {},
   "outputs": [
    {
     "name": "stdout",
     "output_type": "stream",
     "text": [
      "time: 2.12 ms\n"
     ]
    }
   ],
   "source": [
    "df['just_text'] = full_text"
   ]
  },
  {
   "cell_type": "code",
   "execution_count": 141,
   "metadata": {
    "scrolled": true
   },
   "outputs": [
    {
     "name": "stdout",
     "output_type": "stream",
     "text": [
      "time: 744 ms\n"
     ]
    }
   ],
   "source": [
    "df.to_csv('data_2000_2015.csv')"
   ]
  },
  {
   "cell_type": "markdown",
   "metadata": {},
   "source": [
    "## Model Section"
   ]
  },
  {
   "cell_type": "code",
   "execution_count": 2,
   "metadata": {},
   "outputs": [
    {
     "name": "stdout",
     "output_type": "stream",
     "text": [
      "time: 503 ms\n"
     ]
    }
   ],
   "source": [
    "df = pd.read_csv('data_2000_2015.csv')"
   ]
  },
  {
   "cell_type": "code",
   "execution_count": 142,
   "metadata": {
    "scrolled": true
   },
   "outputs": [
    {
     "data": {
      "text/html": [
       "<div>\n",
       "<style>\n",
       "    .dataframe thead tr:only-child th {\n",
       "        text-align: right;\n",
       "    }\n",
       "\n",
       "    .dataframe thead th {\n",
       "        text-align: left;\n",
       "    }\n",
       "\n",
       "    .dataframe tbody tr th {\n",
       "        vertical-align: top;\n",
       "    }\n",
       "</style>\n",
       "<table border=\"1\" class=\"dataframe\">\n",
       "  <thead>\n",
       "    <tr style=\"text-align: right;\">\n",
       "      <th></th>\n",
       "      <th>Unnamed: 0</th>\n",
       "      <th>link1</th>\n",
       "      <th>link2</th>\n",
       "      <th>docket</th>\n",
       "      <th>respondent</th>\n",
       "      <th>petitioner</th>\n",
       "      <th>decided</th>\n",
       "      <th>decision</th>\n",
       "      <th>speakers</th>\n",
       "      <th>verbage</th>\n",
       "      <th>petition_won</th>\n",
       "      <th>just_text</th>\n",
       "    </tr>\n",
       "  </thead>\n",
       "  <tbody>\n",
       "    <tr>\n",
       "      <th>0</th>\n",
       "      <td>0</td>\n",
       "      <td>https://apps.oyez.org/player/#/rehnquist10/ora...</td>\n",
       "      <td>https://apps.oyez.org/player/#/rehnquist10/ora...</td>\n",
       "      <td>00-492</td>\n",
       "      <td>Bozeman</td>\n",
       "      <td>Alabama</td>\n",
       "      <td>Jun 11, 2001</td>\n",
       "      <td>[]</td>\n",
       "      <td>[u'William H. Rehnquist', u'Sandra Jean Stewar...</td>\n",
       "      <td>[[u\" We'll hear argument next in number 00-492...</td>\n",
       "      <td>0</td>\n",
       "      <td>We'll hear argument next in number 00-492, Al...</td>\n",
       "    </tr>\n",
       "    <tr>\n",
       "      <th>1</th>\n",
       "      <td>1</td>\n",
       "      <td>https://apps.oyez.org/player/#/rehnquist10/ora...</td>\n",
       "      <td>https://apps.oyez.org/player/#/rehnquist10/ora...</td>\n",
       "      <td>99-1908</td>\n",
       "      <td>Sandoval</td>\n",
       "      <td>Alexander</td>\n",
       "      <td>Apr 24, 2001</td>\n",
       "      <td>Alexander</td>\n",
       "      <td>[u'William H. Rehnquist', u'Jeffrey S. Sutton'...</td>\n",
       "      <td>[[u\" We'll hear argument first this morning in...</td>\n",
       "      <td>1</td>\n",
       "      <td>We'll hear argument first this morning in Num...</td>\n",
       "    </tr>\n",
       "    <tr>\n",
       "      <th>2</th>\n",
       "      <td>2</td>\n",
       "      <td>https://apps.oyez.org/player/#/rehnquist10/ora...</td>\n",
       "      <td>https://apps.oyez.org/player/#/rehnquist10/ora...</td>\n",
       "      <td>99-1238</td>\n",
       "      <td>Bennett</td>\n",
       "      <td>Artuz</td>\n",
       "      <td>Nov 7, 2000</td>\n",
       "      <td>[]</td>\n",
       "      <td>[u'William H. Rehnquist', u'John M. Castellano...</td>\n",
       "      <td>[[u\" We'll hear argument next in Number 99-123...</td>\n",
       "      <td>0</td>\n",
       "      <td>We'll hear argument next in Number 99-1238, C...</td>\n",
       "    </tr>\n",
       "    <tr>\n",
       "      <th>3</th>\n",
       "      <td>5</td>\n",
       "      <td>https://apps.oyez.org/player/#/rehnquist10/ora...</td>\n",
       "      <td>https://apps.oyez.org/player/#/rehnquist10/ora...</td>\n",
       "      <td>99-1687</td>\n",
       "      <td>Vopper</td>\n",
       "      <td>Bartnicki</td>\n",
       "      <td>May 21, 2001</td>\n",
       "      <td>[]</td>\n",
       "      <td>[u'William H. Rehnquist', u'Jeremiah A. Collin...</td>\n",
       "      <td>[[u\" We'll hear argument next in Number 99-168...</td>\n",
       "      <td>0</td>\n",
       "      <td>We'll hear argument next in Number 99-1687, G...</td>\n",
       "    </tr>\n",
       "    <tr>\n",
       "      <th>4</th>\n",
       "      <td>6</td>\n",
       "      <td>https://apps.oyez.org/player/#/rehnquist10/ora...</td>\n",
       "      <td>https://apps.oyez.org/player/#/rehnquist10/ora...</td>\n",
       "      <td>00-6374</td>\n",
       "      <td>Montgomery</td>\n",
       "      <td>Becker</td>\n",
       "      <td>May 29, 2001</td>\n",
       "      <td>Becker</td>\n",
       "      <td>[u'William H. Rehnquist', u'Jeffrey S. Sutton'...</td>\n",
       "      <td>[[u\" We'll hear argument now in No. 00-6374, D...</td>\n",
       "      <td>1</td>\n",
       "      <td>We'll hear argument now in No. 00-6374, Dale ...</td>\n",
       "    </tr>\n",
       "  </tbody>\n",
       "</table>\n",
       "</div>"
      ],
      "text/plain": [
       "   Unnamed: 0                                              link1  \\\n",
       "0           0  https://apps.oyez.org/player/#/rehnquist10/ora...   \n",
       "1           1  https://apps.oyez.org/player/#/rehnquist10/ora...   \n",
       "2           2  https://apps.oyez.org/player/#/rehnquist10/ora...   \n",
       "3           5  https://apps.oyez.org/player/#/rehnquist10/ora...   \n",
       "4           6  https://apps.oyez.org/player/#/rehnquist10/ora...   \n",
       "\n",
       "                                               link2     docket    respondent  \\\n",
       "0  https://apps.oyez.org/player/#/rehnquist10/ora...    00-492       Bozeman    \n",
       "1  https://apps.oyez.org/player/#/rehnquist10/ora...   99-1908      Sandoval    \n",
       "2  https://apps.oyez.org/player/#/rehnquist10/ora...   99-1238       Bennett    \n",
       "3  https://apps.oyez.org/player/#/rehnquist10/ora...   99-1687        Vopper    \n",
       "4  https://apps.oyez.org/player/#/rehnquist10/ora...   00-6374    Montgomery    \n",
       "\n",
       "    petitioner       decided   decision  \\\n",
       "0     Alabama   Jun 11, 2001         []   \n",
       "1   Alexander   Apr 24, 2001  Alexander   \n",
       "2       Artuz    Nov 7, 2000         []   \n",
       "3   Bartnicki   May 21, 2001         []   \n",
       "4      Becker   May 29, 2001     Becker   \n",
       "\n",
       "                                            speakers  \\\n",
       "0  [u'William H. Rehnquist', u'Sandra Jean Stewar...   \n",
       "1  [u'William H. Rehnquist', u'Jeffrey S. Sutton'...   \n",
       "2  [u'William H. Rehnquist', u'John M. Castellano...   \n",
       "3  [u'William H. Rehnquist', u'Jeremiah A. Collin...   \n",
       "4  [u'William H. Rehnquist', u'Jeffrey S. Sutton'...   \n",
       "\n",
       "                                             verbage  petition_won  \\\n",
       "0  [[u\" We'll hear argument next in number 00-492...             0   \n",
       "1  [[u\" We'll hear argument first this morning in...             1   \n",
       "2  [[u\" We'll hear argument next in Number 99-123...             0   \n",
       "3  [[u\" We'll hear argument next in Number 99-168...             0   \n",
       "4  [[u\" We'll hear argument now in No. 00-6374, D...             1   \n",
       "\n",
       "                                           just_text  \n",
       "0   We'll hear argument next in number 00-492, Al...  \n",
       "1   We'll hear argument first this morning in Num...  \n",
       "2   We'll hear argument next in Number 99-1238, C...  \n",
       "3   We'll hear argument next in Number 99-1687, G...  \n",
       "4   We'll hear argument now in No. 00-6374, Dale ...  "
      ]
     },
     "execution_count": 142,
     "metadata": {},
     "output_type": "execute_result"
    },
    {
     "name": "stdout",
     "output_type": "stream",
     "text": [
      "time: 30.7 ms\n"
     ]
    }
   ],
   "source": [
    "df.head()"
   ]
  },
  {
   "cell_type": "code",
   "execution_count": 143,
   "metadata": {},
   "outputs": [
    {
     "name": "stdout",
     "output_type": "stream",
     "text": [
      "time: 3.92 ms\n"
     ]
    }
   ],
   "source": [
    "from sklearn.linear_model import LogisticRegression\n",
    "from sklearn.model_selection import  train_test_split\n",
    "from sklearn.feature_extraction.text import CountVectorizer, TfidfVectorizer\n",
    "from sklearn.naive_bayes import MultinomialNB\n",
    "from sklearn import metrics\n",
    "import matplotlib.pyplot as plt\n",
    "%matplotlib inline"
   ]
  },
  {
   "cell_type": "code",
   "execution_count": 144,
   "metadata": {},
   "outputs": [
    {
     "name": "stdout",
     "output_type": "stream",
     "text": [
      "time: 1.22 ms\n"
     ]
    }
   ],
   "source": [
    "X = df.just_text\n",
    "y = df.petition_won"
   ]
  },
  {
   "cell_type": "code",
   "execution_count": 145,
   "metadata": {},
   "outputs": [
    {
     "name": "stdout",
     "output_type": "stream",
     "text": [
      "time: 2.64 ms\n"
     ]
    }
   ],
   "source": [
    "X_train, X_test, y_train, y_test = train_test_split(X,y, train_size = .8)"
   ]
  },
  {
   "cell_type": "code",
   "execution_count": 146,
   "metadata": {},
   "outputs": [
    {
     "data": {
      "text/plain": [
       "LogisticRegression(C=1.0, class_weight=None, dual=False, fit_intercept=True,\n",
       "          intercept_scaling=1, max_iter=100, multi_class='ovr', n_jobs=1,\n",
       "          penalty='l2', random_state=None, solver='liblinear', tol=0.0001,\n",
       "          verbose=0, warm_start=False)"
      ]
     },
     "execution_count": 146,
     "metadata": {},
     "output_type": "execute_result"
    },
    {
     "name": "stdout",
     "output_type": "stream",
     "text": [
      "time: 1min 8s\n"
     ]
    }
   ],
   "source": [
    "cvt = CountVectorizer(ngram_range=(1,5), stop_words='english')\n",
    "Xcvt = cvt.fit_transform(X_train)\n",
    "test_cvt = cvt.transform(X_test)\n",
    "\n",
    "lr = LogisticRegression()\n",
    "lr.fit(Xcvt,y_train)"
   ]
  },
  {
   "cell_type": "code",
   "execution_count": 191,
   "metadata": {},
   "outputs": [
    {
     "data": {
      "text/plain": [
       "0.5831578947368421"
      ]
     },
     "execution_count": 191,
     "metadata": {},
     "output_type": "execute_result"
    },
    {
     "name": "stdout",
     "output_type": "stream",
     "text": [
      "time: 8.01 s\n"
     ]
    }
   ],
   "source": [
    "from sklearn.model_selection import cross_val_score\n",
    "\n",
    "cross_val_score(lr, test_cvt, y_test, cv=5).mean()"
   ]
  },
  {
   "cell_type": "code",
   "execution_count": 148,
   "metadata": {},
   "outputs": [
    {
     "data": {
      "text/plain": [
       "0.651356993736952"
      ]
     },
     "execution_count": 148,
     "metadata": {},
     "output_type": "execute_result"
    },
    {
     "name": "stdout",
     "output_type": "stream",
     "text": [
      "time: 2.44 ms\n"
     ]
    }
   ],
   "source": [
    "#BASELINE\n",
    "df.petition_won.mean()"
   ]
  },
  {
   "cell_type": "code",
   "execution_count": 149,
   "metadata": {
    "scrolled": false
   },
   "outputs": [
    {
     "name": "stdout",
     "output_type": "stream",
     "text": [
      "0.614583333333\n",
      "time: 515 ms\n"
     ]
    }
   ],
   "source": [
    "nb = MultinomialNB()\n",
    "nb.fit(Xcvt, y_train)\n",
    "y_pred_class = nb.predict(test_cvt)\n",
    "\n",
    "print metrics.accuracy_score(y_test, y_pred_class)"
   ]
  },
  {
   "cell_type": "code",
   "execution_count": 192,
   "metadata": {},
   "outputs": [
    {
     "data": {
      "text/plain": [
       "0.66701754385964906"
      ]
     },
     "execution_count": 192,
     "metadata": {},
     "output_type": "execute_result"
    },
    {
     "name": "stdout",
     "output_type": "stream",
     "text": [
      "time: 1.39 s\n"
     ]
    }
   ],
   "source": [
    "cross_val_score(nb, test_cvt, y_test, cv=5).mean()"
   ]
  },
  {
   "cell_type": "markdown",
   "metadata": {},
   "source": [
    "### Add common phrases and words to stopwords and then retrain models"
   ]
  },
  {
   "cell_type": "code",
   "execution_count": 150,
   "metadata": {},
   "outputs": [
    {
     "name": "stdout",
     "output_type": "stream",
     "text": [
      "time: 5.21 ms\n"
     ]
    }
   ],
   "source": [
    "from nltk.corpus import stopwords\n",
    "from collections import Counter\n",
    "stop = stopwords.words('english')\n",
    "more_stop = [ 'counsel', 'case', 'submitted','hear' ,'argument', 'next','united', 'states','mr','honor', \n",
    "             'chief' ,'justice' ,'may', 'please' ,'court','thank','minutes', 'remaining','would','think','well',\n",
    "            'one','the','that','acquiescence','platonic','relegates','indemnifies','10374','timbuktu','syracuse',\n",
    "             'nonjurisdiction','clogged','excesses','to39']\n",
    "stop = stop + more_stop"
   ]
  },
  {
   "cell_type": "code",
   "execution_count": 151,
   "metadata": {},
   "outputs": [
    {
     "data": {
      "text/plain": [
       "[(u'say', 12666),\n",
       " (u'state', 12318),\n",
       " (u'question', 11092),\n",
       " (u'could', 10203),\n",
       " (u'statute', 10169),\n",
       " (u'said', 9715),\n",
       " (u'right', 9486),\n",
       " (u'congress', 9350),\n",
       " (u'law', 9342),\n",
       " (u'whether', 8468),\n",
       " (u'know', 8386),\n",
       " (u'going', 8170),\n",
       " (u'federal', 7497),\n",
       " (u'rule', 7162),\n",
       " (u'government', 7086),\n",
       " (u'mean', 6649),\n",
       " (u'cases', 6645),\n",
       " (u'yes', 6418),\n",
       " (u'point', 6300),\n",
       " (u'way', 6245)]"
      ]
     },
     "execution_count": 151,
     "metadata": {},
     "output_type": "execute_result"
    },
    {
     "name": "stdout",
     "output_type": "stream",
     "text": [
      "time: 8.96 s\n"
     ]
    }
   ],
   "source": [
    "#for seeing common words/phrases\n",
    "vect = CountVectorizer(ngram_range=(1,3), stop_words=stop)\n",
    "\n",
    "summaries = ''.join(df.just_text)\n",
    "ngram_sum = vect.build_analyzer()(summaries)\n",
    "\n",
    "Counter(ngram_sum).most_common(20)"
   ]
  },
  {
   "cell_type": "code",
   "execution_count": 320,
   "metadata": {
    "scrolled": true
   },
   "outputs": [
    {
     "name": "stdout",
     "output_type": "stream",
     "text": [
      "time: 36.2 s\n"
     ]
    }
   ],
   "source": [
    "cvt = CountVectorizer(ngram_range=(1,3), stop_words=stop,strip_accents='unicode',analyzer = 'word')\n",
    "Xvect = cvt.fit(X_train)\n",
    "Xcvt = cvt.fit_transform(X_train)\n",
    "test_cvt = cvt.transform(X_test)"
   ]
  },
  {
   "cell_type": "code",
   "execution_count": null,
   "metadata": {
    "collapsed": true
   },
   "outputs": [],
   "source": []
  },
  {
   "cell_type": "code",
   "execution_count": 321,
   "metadata": {},
   "outputs": [
    {
     "data": {
      "text/plain": [
       "LogisticRegression(C=1.0, class_weight=None, dual=False, fit_intercept=True,\n",
       "          intercept_scaling=1, max_iter=100, multi_class='ovr', n_jobs=1,\n",
       "          penalty='l2', random_state=None, solver='liblinear', tol=0.0001,\n",
       "          verbose=0, warm_start=False)"
      ]
     },
     "execution_count": 321,
     "metadata": {},
     "output_type": "execute_result"
    },
    {
     "name": "stdout",
     "output_type": "stream",
     "text": [
      "time: 2.28 s\n"
     ]
    }
   ],
   "source": [
    "lr2 = LogisticRegression()\n",
    "lr2.fit(Xcvt,y_train)"
   ]
  },
  {
   "cell_type": "code",
   "execution_count": 322,
   "metadata": {},
   "outputs": [
    {
     "name": "stdout",
     "output_type": "stream",
     "text": [
      "time: 8.26 ms\n"
     ]
    }
   ],
   "source": [
    "y_pred = lr2.predict(test_cvt)"
   ]
  },
  {
   "cell_type": "code",
   "execution_count": 325,
   "metadata": {
    "scrolled": true
   },
   "outputs": [
    {
     "data": {
      "text/plain": [
       "array([[ 15,  64],\n",
       "       [ 36, 125]])"
      ]
     },
     "execution_count": 325,
     "metadata": {},
     "output_type": "execute_result"
    },
    {
     "name": "stdout",
     "output_type": "stream",
     "text": [
      "time: 3.81 ms\n"
     ]
    }
   ],
   "source": [
    "from sklearn.metrics import confusion_matrix\n",
    "confusion_matrix(y_test, y_pred)"
   ]
  },
  {
   "cell_type": "code",
   "execution_count": 326,
   "metadata": {
    "scrolled": false
   },
   "outputs": [
    {
     "name": "stdout",
     "output_type": "stream",
     "text": [
      "             precision    recall  f1-score   support\n",
      "\n",
      "          0       0.29      0.19      0.23        79\n",
      "          1       0.66      0.78      0.71       161\n",
      "\n",
      "avg / total       0.54      0.58      0.56       240\n",
      "\n",
      "time: 3.46 ms\n"
     ]
    }
   ],
   "source": [
    "from sklearn.metrics import classification_report\n",
    "print classification_report(y_test, y_pred)"
   ]
  },
  {
   "cell_type": "code",
   "execution_count": 327,
   "metadata": {
    "scrolled": true
   },
   "outputs": [
    {
     "name": "stdout",
     "output_type": "stream",
     "text": [
      "time: 1.02 ms\n"
     ]
    }
   ],
   "source": [
    "from sklearn.metrics import roc_curve, auc"
   ]
  },
  {
   "cell_type": "code",
   "execution_count": 328,
   "metadata": {},
   "outputs": [
    {
     "data": {
      "text/html": [
       "<div>\n",
       "<style>\n",
       "    .dataframe thead tr:only-child th {\n",
       "        text-align: right;\n",
       "    }\n",
       "\n",
       "    .dataframe thead th {\n",
       "        text-align: left;\n",
       "    }\n",
       "\n",
       "    .dataframe tbody tr th {\n",
       "        vertical-align: top;\n",
       "    }\n",
       "</style>\n",
       "<table border=\"1\" class=\"dataframe\">\n",
       "  <thead>\n",
       "    <tr style=\"text-align: right;\">\n",
       "      <th></th>\n",
       "      <th>class_0_pp</th>\n",
       "      <th>class_1_pp</th>\n",
       "    </tr>\n",
       "  </thead>\n",
       "  <tbody>\n",
       "    <tr>\n",
       "      <th>0</th>\n",
       "      <td>0.067346</td>\n",
       "      <td>0.932654</td>\n",
       "    </tr>\n",
       "    <tr>\n",
       "      <th>1</th>\n",
       "      <td>0.014231</td>\n",
       "      <td>0.985769</td>\n",
       "    </tr>\n",
       "    <tr>\n",
       "      <th>2</th>\n",
       "      <td>0.764761</td>\n",
       "      <td>0.235239</td>\n",
       "    </tr>\n",
       "    <tr>\n",
       "      <th>3</th>\n",
       "      <td>0.998056</td>\n",
       "      <td>0.001944</td>\n",
       "    </tr>\n",
       "    <tr>\n",
       "      <th>4</th>\n",
       "      <td>0.983915</td>\n",
       "      <td>0.016085</td>\n",
       "    </tr>\n",
       "  </tbody>\n",
       "</table>\n",
       "</div>"
      ],
      "text/plain": [
       "   class_0_pp  class_1_pp\n",
       "0    0.067346    0.932654\n",
       "1    0.014231    0.985769\n",
       "2    0.764761    0.235239\n",
       "3    0.998056    0.001944\n",
       "4    0.983915    0.016085"
      ]
     },
     "execution_count": 328,
     "metadata": {},
     "output_type": "execute_result"
    },
    {
     "name": "stdout",
     "output_type": "stream",
     "text": [
      "time: 15.1 ms\n"
     ]
    }
   ],
   "source": [
    "Y_pp = pd.DataFrame(lr2.predict_proba(test_cvt), columns=['class_0_pp','class_1_pp'])\n",
    "Y_pp.head()"
   ]
  },
  {
   "cell_type": "code",
   "execution_count": 330,
   "metadata": {
    "scrolled": false
   },
   "outputs": [
    {
     "data": {
      "image/png": "[encoded data removed]",
      "text/plain": [
       "<matplotlib.figure.Figure at 0x12ac07690>"
      ]
     },
     "metadata": {},
     "output_type": "display_data"
    },
    {
     "name": "stdout",
     "output_type": "stream",
     "text": [
      "time: 232 ms\n"
     ]
    }
   ],
   "source": [
    "# For class 1, find the area under the curve\n",
    "fpr, tpr, _ = roc_curve(y_test, Y_pp.class_1_pp)\n",
    "roc_auc = auc(fpr, tpr)\n",
    "\n",
    "# Plot of a ROC curve for class 1 (has_cancer)\n",
    "plt.figure(figsize=[8,8])\n",
    "plt.plot(fpr, tpr, label='ROC curve (area = %0.2f)' % roc_auc, linewidth=4)\n",
    "plt.plot([0, 1], [0, 1], 'k--', linewidth=4)\n",
    "plt.xlim([-0.05, 1.0])\n",
    "plt.ylim([-0.05, 1.05])\n",
    "plt.xlabel('False Positive Rate', fontsize=18)\n",
    "plt.ylabel('True Positive Rate', fontsize=18)\n",
    "plt.title('Receiver operating characteristic for supreme court', fontsize=18)\n",
    "plt.legend(loc=\"lower right\")\n",
    "plt.show()"
   ]
  },
  {
   "cell_type": "code",
   "execution_count": 259,
   "metadata": {},
   "outputs": [
    {
     "data": {
      "text/plain": [
       "0.59426900584795328"
      ]
     },
     "execution_count": 259,
     "metadata": {},
     "output_type": "execute_result"
    },
    {
     "name": "stdout",
     "output_type": "stream",
     "text": [
      "time: 2.35 s\n"
     ]
    }
   ],
   "source": [
    "cross_val_score(lr2, test_cvt, y_test, cv=5).mean()"
   ]
  },
  {
   "cell_type": "code",
   "execution_count": 260,
   "metadata": {},
   "outputs": [
    {
     "name": "stdout",
     "output_type": "stream",
     "text": [
      "time: 1.01 ms\n"
     ]
    }
   ],
   "source": [
    "coef_series = pd.Series(lr2.coef_[0])"
   ]
  },
  {
   "cell_type": "code",
   "execution_count": 261,
   "metadata": {},
   "outputs": [
    {
     "name": "stdout",
     "output_type": "stream",
     "text": [
      "time: 4 s\n"
     ]
    }
   ],
   "source": [
    "feature_df = pd.DataFrame()\n",
    "feature_df['coef'] = coef_series\n",
    "feature_df['name'] = cvt.get_feature_names()"
   ]
  },
  {
   "cell_type": "code",
   "execution_count": 262,
   "metadata": {
    "scrolled": false
   },
   "outputs": [
    {
     "data": {
      "text/html": [
       "<div>\n",
       "<style>\n",
       "    .dataframe thead tr:only-child th {\n",
       "        text-align: right;\n",
       "    }\n",
       "\n",
       "    .dataframe thead th {\n",
       "        text-align: left;\n",
       "    }\n",
       "\n",
       "    .dataframe tbody tr th {\n",
       "        vertical-align: top;\n",
       "    }\n",
       "</style>\n",
       "<table border=\"1\" class=\"dataframe\">\n",
       "  <thead>\n",
       "    <tr style=\"text-align: right;\">\n",
       "      <th></th>\n",
       "      <th>coef</th>\n",
       "      <th>name</th>\n",
       "    </tr>\n",
       "  </thead>\n",
       "  <tbody>\n",
       "    <tr>\n",
       "      <th>313680</th>\n",
       "      <td>-0.056876</td>\n",
       "      <td>de novo review</td>\n",
       "    </tr>\n",
       "    <tr>\n",
       "      <th>1348206</th>\n",
       "      <td>-0.056069</td>\n",
       "      <td>year day rule</td>\n",
       "    </tr>\n",
       "    <tr>\n",
       "      <th>159369</th>\n",
       "      <td>-0.051286</td>\n",
       "      <td>bright line rule</td>\n",
       "    </tr>\n",
       "    <tr>\n",
       "      <th>107104</th>\n",
       "      <td>-0.049096</td>\n",
       "      <td>article iii judge</td>\n",
       "    </tr>\n",
       "    <tr>\n",
       "      <th>466141</th>\n",
       "      <td>-0.049001</td>\n",
       "      <td>felony drug offense</td>\n",
       "    </tr>\n",
       "  </tbody>\n",
       "</table>\n",
       "</div>"
      ],
      "text/plain": [
       "             coef                 name\n",
       "313680  -0.056876       de novo review\n",
       "1348206 -0.056069        year day rule\n",
       "159369  -0.051286     bright line rule\n",
       "107104  -0.049096    article iii judge\n",
       "466141  -0.049001  felony drug offense"
      ]
     },
     "execution_count": 262,
     "metadata": {},
     "output_type": "execute_result"
    },
    {
     "name": "stdout",
     "output_type": "stream",
     "text": [
      "time: 317 ms\n"
     ]
    }
   ],
   "source": [
    "feature_df.sort_values(by='coef', ascending=True).head()"
   ]
  },
  {
   "cell_type": "code",
   "execution_count": 263,
   "metadata": {},
   "outputs": [
    {
     "name": "stdout",
     "output_type": "stream",
     "text": [
      "time: 515 ms\n"
     ]
    }
   ],
   "source": [
    "feature_df['abs_coef'] = [abs(i) for i in feature_df.coef]"
   ]
  },
  {
   "cell_type": "code",
   "execution_count": 264,
   "metadata": {
    "scrolled": true
   },
   "outputs": [
    {
     "data": {
      "text/plain": [
       "array([u'habeas corpus proceedings', u'subject matter jurisdiction',\n",
       "       u'ninth circuit decision', u'state law claims',\n",
       "       u'clearly established law', u'sixth amendment right',\n",
       "       u'per se rule', u'reserve remainder time', u'major life activity',\n",
       "       u'federal common law'], dtype=object)"
      ]
     },
     "execution_count": 264,
     "metadata": {},
     "output_type": "execute_result"
    },
    {
     "name": "stdout",
     "output_type": "stream",
     "text": [
      "time: 315 ms\n"
     ]
    }
   ],
   "source": [
    "feature_df.sort_values(by='abs_coef', ascending=False).head(10).name.values"
   ]
  },
  {
   "cell_type": "code",
   "execution_count": 246,
   "metadata": {},
   "outputs": [
    {
     "name": "stdout",
     "output_type": "stream",
     "text": [
      "time: 6.02 ms\n"
     ]
    }
   ],
   "source": [
    "# ngram1 = feature_df.sort_values(by='abs_coef', ascending=False).head(10).name.values"
   ]
  },
  {
   "cell_type": "code",
   "execution_count": 266,
   "metadata": {},
   "outputs": [
    {
     "data": {
      "text/plain": [
       "array([u'proceedings', u'habeas', u'prior', u'corpus', u'south', u'number',\n",
       "       u'bankruptcy', u'illinois', u'third', u'agency'], dtype=object)"
      ]
     },
     "execution_count": 266,
     "metadata": {},
     "output_type": "execute_result"
    },
    {
     "name": "stdout",
     "output_type": "stream",
     "text": [
      "time: 3.01 ms\n"
     ]
    }
   ],
   "source": [
    "ngram1"
   ]
  },
  {
   "cell_type": "code",
   "execution_count": 256,
   "metadata": {},
   "outputs": [
    {
     "name": "stdout",
     "output_type": "stream",
     "text": [
      "time: 195 ms\n"
     ]
    }
   ],
   "source": [
    "# ngram2 = feature_df.sort_values(by='abs_coef', ascending=False).head(10).name.values"
   ]
  },
  {
   "cell_type": "code",
   "execution_count": 267,
   "metadata": {},
   "outputs": [
    {
     "data": {
      "text/plain": [
       "array([u'ninth circuit', u'corpus proceedings', u'south carolina',\n",
       "       u'williamson county', u'habeas corpus', u'scope employment',\n",
       "       u'sixth circuit', u'death penalty', u'ten commandments',\n",
       "       u'writs act'], dtype=object)"
      ]
     },
     "execution_count": 267,
     "metadata": {},
     "output_type": "execute_result"
    },
    {
     "name": "stdout",
     "output_type": "stream",
     "text": [
      "time: 2.71 ms\n"
     ]
    }
   ],
   "source": [
    "ngram2"
   ]
  },
  {
   "cell_type": "code",
   "execution_count": 265,
   "metadata": {},
   "outputs": [
    {
     "name": "stdout",
     "output_type": "stream",
     "text": [
      "time: 303 ms\n"
     ]
    }
   ],
   "source": [
    "# ngram3 = feature_df.sort_values(by='abs_coef', ascending=False).head(10).name.values"
   ]
  },
  {
   "cell_type": "code",
   "execution_count": 268,
   "metadata": {},
   "outputs": [
    {
     "data": {
      "text/plain": [
       "array([u'habeas corpus proceedings', u'subject matter jurisdiction',\n",
       "       u'ninth circuit decision', u'state law claims',\n",
       "       u'clearly established law', u'sixth amendment right',\n",
       "       u'per se rule', u'reserve remainder time', u'major life activity',\n",
       "       u'federal common law'], dtype=object)"
      ]
     },
     "execution_count": 268,
     "metadata": {},
     "output_type": "execute_result"
    },
    {
     "name": "stdout",
     "output_type": "stream",
     "text": [
      "time: 3.45 ms\n"
     ]
    }
   ],
   "source": [
    "ngram3"
   ]
  },
  {
   "cell_type": "code",
   "execution_count": 214,
   "metadata": {},
   "outputs": [
    {
     "data": {
      "text/plain": [
       "MultinomialNB(alpha=1.0, class_prior=None, fit_prior=True)"
      ]
     },
     "execution_count": 214,
     "metadata": {},
     "output_type": "execute_result"
    },
    {
     "name": "stdout",
     "output_type": "stream",
     "text": [
      "time: 196 ms\n"
     ]
    }
   ],
   "source": [
    "nb2 = MultinomialNB()\n",
    "nb2.fit(Xcvt, y_train)\n"
   ]
  },
  {
   "cell_type": "code",
   "execution_count": 215,
   "metadata": {},
   "outputs": [
    {
     "data": {
      "text/plain": [
       "0.64596491228070174"
      ]
     },
     "execution_count": 215,
     "metadata": {},
     "output_type": "execute_result"
    },
    {
     "name": "stdout",
     "output_type": "stream",
     "text": [
      "time: 823 ms\n"
     ]
    }
   ],
   "source": [
    "cross_val_score(nb2, test_cvt, y_test, cv=5).mean()"
   ]
  },
  {
   "cell_type": "code",
   "execution_count": 288,
   "metadata": {},
   "outputs": [
    {
     "name": "stdout",
     "output_type": "stream",
     "text": [
      "time: 3.03 ms\n"
     ]
    }
   ],
   "source": [
    "gram1 = pd.Series(ngram1, index=range(0,10))\n",
    "gram2 = pd.Series(ngram2, index=range(0,10))\n",
    "gram3 = pd.Series(ngram3, index=range(0,10))"
   ]
  },
  {
   "cell_type": "code",
   "execution_count": 293,
   "metadata": {},
   "outputs": [
    {
     "name": "stdout",
     "output_type": "stream",
     "text": [
      "time: 3.24 ms\n"
     ]
    }
   ],
   "source": [
    "# gram_df = pd.DataFrame([gram1,gram2,gram3])"
   ]
  },
  {
   "cell_type": "markdown",
   "metadata": {},
   "source": [
    "Try new model"
   ]
  },
  {
   "cell_type": "code",
   "execution_count": 303,
   "metadata": {},
   "outputs": [
    {
     "name": "stdout",
     "output_type": "stream",
     "text": [
      "time: 3.74 ms\n"
     ]
    }
   ],
   "source": [
    "stop = stopwords.words('english')\n",
    "more_stop = [ 'counsel', 'case', 'submitted','hear' ,'argument', 'next','united', 'states','mr','honor', \n",
    "             'chief' ,'justice' ,'may', 'please' ,'court','thank','minutes', 'remaining','would','think','well',\n",
    "            '10374','to39']\n",
    "stop = stop + more_stop"
   ]
  },
  {
   "cell_type": "code",
   "execution_count": 304,
   "metadata": {},
   "outputs": [
    {
     "name": "stdout",
     "output_type": "stream",
     "text": [
      "time: 1.23 ms\n"
     ]
    }
   ],
   "source": [
    "X = df.just_text\n",
    "y = df.petition_won"
   ]
  },
  {
   "cell_type": "code",
   "execution_count": 316,
   "metadata": {},
   "outputs": [
    {
     "name": "stdout",
     "output_type": "stream",
     "text": [
      "time: 2.12 ms\n"
     ]
    }
   ],
   "source": [
    "X_train, X_test, y_train, y_test = train_test_split(X,y, train_size = .5)\n"
   ]
  },
  {
   "cell_type": "code",
   "execution_count": 317,
   "metadata": {},
   "outputs": [
    {
     "name": "stdout",
     "output_type": "stream",
     "text": [
      "time: 34.7 s\n"
     ]
    }
   ],
   "source": [
    "cvt = CountVectorizer(ngram_range=(1,4), stop_words=stop, strip_accents='unicode' , analyzer = 'word')\n",
    "Xcvt = cvt.fit_transform(X_train)\n",
    "test_cvt = cvt.transform(X_test)"
   ]
  },
  {
   "cell_type": "code",
   "execution_count": 300,
   "metadata": {},
   "outputs": [
    {
     "name": "stdout",
     "output_type": "stream",
     "text": [
      "time: 4.58 ms\n"
     ]
    }
   ],
   "source": [
    "from sklearn.tree import DecisionTreeClassifier\n",
    "from sklearn.ensemble import RandomForestClassifier\n",
    "from sklearn.ensemble import (RandomTreesEmbedding, RandomForestClassifier,\n",
    "                              GradientBoostingClassifier)\n",
    "from sklearn.preprocessing import OneHotEncoder\n",
    "from sklearn.model_selection import train_test_split\n",
    "from sklearn.metrics import roc_curve\n",
    "from sklearn.pipeline import make_pipeline\n"
   ]
  },
  {
   "cell_type": "code",
   "execution_count": 183,
   "metadata": {},
   "outputs": [
    {
     "name": "stdout",
     "output_type": "stream",
     "text": [
      "0.681462140992\n",
      "0.741514360313\n",
      "0.809399477807\n",
      "1.0\n",
      "____________________\n",
      "0.560409356725\n",
      "0.562105263158\n",
      "0.623742690058\n",
      "0.582105263158\n",
      "time: 1min 30s\n"
     ]
    }
   ],
   "source": [
    "Classifier1 = DecisionTreeClassifier(max_depth=1)\n",
    "Classifier2 = DecisionTreeClassifier(max_depth=3)\n",
    "Classifier3 = DecisionTreeClassifier(max_depth=6)\n",
    "Classifier4 = DecisionTreeClassifier(max_depth=None)\n",
    "\n",
    "Classifier1.fit(Xcvt,y_train)\n",
    "Classifier2.fit(Xcvt,y_train)\n",
    "Classifier3.fit(Xcvt,y_train)\n",
    "Classifier4.fit(Xcvt,y_train)\n",
    "\n",
    "\n",
    "print Classifier1.score(Xcvt,y_train)\n",
    "print Classifier2.score(Xcvt,y_train)\n",
    "print Classifier3.score(Xcvt,y_train)\n",
    "print Classifier4.score(Xcvt,y_train)\n",
    "\n",
    "print '____________________'\n",
    "print cross_val_score(Classifier1, test_cvt ,y_test,cv=5).mean()\n",
    "print cross_val_score(Classifier2, test_cvt ,y_test,cv=5).mean()\n",
    "print cross_val_score(Classifier3, test_cvt ,y_test,cv=5).mean()\n",
    "print cross_val_score(Classifier4, test_cvt ,y_test,cv=5).mean()"
   ]
  },
  {
   "cell_type": "code",
   "execution_count": 187,
   "metadata": {
    "scrolled": true
   },
   "outputs": [
    {
     "name": "stdout",
     "output_type": "stream",
     "text": [
      "0.65274151436\n",
      "0.657963446475\n",
      "0.699738903394\n",
      "0.98955613577\n",
      "____________________\n",
      "0.645964912281\n",
      "0.655964912281\n",
      "0.645964912281\n",
      "0.645964912281\n",
      "time: 16.1 s\n"
     ]
    }
   ],
   "source": [
    "RClassifier1 = RandomForestClassifier(max_depth=1)\n",
    "RClassifier2 = RandomForestClassifier(max_depth=3)\n",
    "RClassifier3 = RandomForestClassifier(max_depth=6)\n",
    "RClassifier4 = RandomForestClassifier(max_depth=None)\n",
    "\n",
    "RClassifier1.fit(Xcvt,y_train)\n",
    "RClassifier2.fit(Xcvt,y_train)\n",
    "RClassifier3.fit(Xcvt,y_train)\n",
    "RClassifier4.fit(Xcvt,y_train)\n",
    "\n",
    "\n",
    "print RClassifier1.score(Xcvt,y_train)\n",
    "print RClassifier2.score(Xcvt,y_train)\n",
    "print RClassifier3.score(Xcvt,y_train)\n",
    "print RClassifier4.score(Xcvt,y_train)\n",
    "\n",
    "print '____________________'\n",
    "print cross_val_score(RClassifier1, test_cvt ,y_test,cv=5).mean()\n",
    "print cross_val_score(RClassifier2, test_cvt ,y_test,cv=5).mean()\n",
    "print cross_val_score(RClassifier3, test_cvt ,y_test,cv=5).mean()\n",
    "print cross_val_score(RClassifier4, test_cvt ,y_test,cv=5).mean()"
   ]
  },
  {
   "cell_type": "code",
   "execution_count": 334,
   "metadata": {},
   "outputs": [
    {
     "name": "stdout",
     "output_type": "stream",
     "text": [
      "time: 54.4 s\n"
     ]
    }
   ],
   "source": [
    "clf = GradientBoostingClassifier(n_estimators=100, learning_rate=1.0, max_depth=1, random_state=0).fit(Xcvt, y_train)\n"
   ]
  },
  {
   "cell_type": "code",
   "execution_count": 336,
   "metadata": {},
   "outputs": [
    {
     "data": {
      "text/plain": [
       "0.62083333333333335"
      ]
     },
     "execution_count": 336,
     "metadata": {},
     "output_type": "execute_result"
    },
    {
     "name": "stdout",
     "output_type": "stream",
     "text": [
      "time: 3.58 s\n"
     ]
    }
   ],
   "source": [
    "clf.score(test_cvt.toarray(), y_test)"
   ]
  }
 ],
 "metadata": {
  "kernelspec": {
   "display_name": "Python 2",
   "language": "python",
   "name": "python2"
  },
  "language_info": {
   "codemirror_mode": {
    "name": "ipython",
    "version": 2
   },
   "file_extension": ".py",
   "mimetype": "text/x-python",
   "name": "python",
   "nbconvert_exporter": "python",
   "pygments_lexer": "ipython2",
   "version": "2.7.13"
  }
 },
 "nbformat": 4,
 "nbformat_minor": 2
}
