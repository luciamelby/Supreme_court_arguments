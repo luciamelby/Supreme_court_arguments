{
 "cells": [
  {
   "cell_type": "code",
   "execution_count": 5,
   "metadata": {},
   "outputs": [
    {
     "name": "stdout",
     "output_type": "stream",
     "text": [
      "The autotime extension is already loaded. To reload it, use:\n",
      "  %reload_ext autotime\n",
      "time: 3.58 ms\n"
     ]
    }
   ],
   "source": [
    "#import libraries and autotime\n",
    "import pandas as pd\n",
    "import numpy as np\n",
    "import requests\n",
    "from bs4 import BeautifulSoup\n",
    "from selenium import webdriver\n",
    "from time import sleep\n",
    "\n",
    "%load_ext autotime"
   ]
  },
  {
   "cell_type": "code",
   "execution_count": 6,
   "metadata": {},
   "outputs": [
    {
     "name": "stdout",
     "output_type": "stream",
     "text": [
      "time: 1.89 ms\n"
     ]
    }
   ],
   "source": [
    "#create urls for each term/year page\n",
    "years = range(1990,2018)\n",
    "urls = []\n",
    "for year in years:\n",
    "    url = 'https://www.oyez.org/cases/' + str(year)\n",
    "    urls.append(url)\n"
   ]
  },
  {
   "cell_type": "code",
   "execution_count": 7,
   "metadata": {},
   "outputs": [
    {
     "name": "stdout",
     "output_type": "stream",
     "text": [
      "time: 42.6 s\n"
     ]
    }
   ],
   "source": [
    "#get html for each term/year page\n",
    "htmls = []\n",
    "driver = webdriver.Chrome(executable_path=\"./chromedriver/chromedriver\")\n",
    "for url in urls:    \n",
    "    driver.get(url)\n",
    "    sleep(1)\n",
    "    html = driver.page_source\n",
    "    htmls.append(html)"
   ]
  },
  {
   "cell_type": "code",
   "execution_count": 8,
   "metadata": {},
   "outputs": [
    {
     "name": "stdout",
     "output_type": "stream",
     "text": [
      "time: 116 ms\n"
     ]
    }
   ],
   "source": [
    "#close webdriver\n",
    "driver.close()"
   ]
  },
  {
   "cell_type": "code",
   "execution_count": 9,
   "metadata": {},
   "outputs": [
    {
     "name": "stdout",
     "output_type": "stream",
     "text": [
      "time: 3.31 s\n"
     ]
    }
   ],
   "source": [
    "#beautiful soup the html\n",
    "soups = []\n",
    "for html in htmls:\n",
    "    soup = BeautifulSoup(html, 'lxml')\n",
    "    soups.append(soup)"
   ]
  },
  {
   "cell_type": "code",
   "execution_count": 10,
   "metadata": {},
   "outputs": [
    {
     "name": "stdout",
     "output_type": "stream",
     "text": [
      "time: 1.13 s\n"
     ]
    }
   ],
   "source": [
    "#extract the urls for the court cases on each page\n",
    "case_links = []\n",
    "for soup in soups:\n",
    "    for i in soup.find_all('a', href=True):\n",
    "        if len(i['href'])>10 and 'cases/' in i['href']:            \n",
    "            case_links.append('https://www.oyez.org/' + i['href'])"
   ]
  },
  {
   "cell_type": "code",
   "execution_count": 11,
   "metadata": {},
   "outputs": [
    {
     "name": "stdout",
     "output_type": "stream",
     "text": [
      "time: 4.2 ms\n"
     ]
    }
   ],
   "source": [
    "#cleaning\n",
    "case_series = pd.Series(case_links)\n",
    "case_series.drop_duplicates(inplace=True)\n",
    "case_series = case_series[4:]"
   ]
  },
  {
   "cell_type": "code",
   "execution_count": 12,
   "metadata": {},
   "outputs": [
    {
     "name": "stdout",
     "output_type": "stream",
     "text": [
      "time: 9h 56min 24s\n"
     ]
    }
   ],
   "source": [
    "#navigate to each page, save html, find oral argument link, follow link, and save html\n",
    "#long sleep times due to slow site.  tried using shorter times but data didn't always load\n",
    "htmls1 = []\n",
    "htmls2 = []\n",
    "links = []\n",
    "list_test = []\n",
    "driver = webdriver.Chrome(executable_path=\"./chromedriver/chromedriver\")\n",
    "for url in case_series:    \n",
    "    #go to link\n",
    "    driver.get(url)\n",
    "    #wait b/c javascript\n",
    "    sleep(5)\n",
    "    #get html\n",
    "    html1 = driver.page_source\n",
    "    htmls1.append(html1)\n",
    "    #beautiful soup\n",
    "    soup = BeautifulSoup(html1, 'lxml')\n",
    "    for i in soup.find_all('a', {'class':'ng-binding ng-isolate-scope'}):\n",
    "        if 'argument' in i['iframe-url']:\n",
    "            if 'https://apps.oyez.org' in i['iframe-url']:\n",
    "                driver.get(str(i['iframe-url']))\n",
    "                links.append(str(i['iframe-url']))\n",
    "                sleep(10)\n",
    "                html2 = driver.page_source\n",
    "                htmls2.append(html2)\n",
    "                list_test.append([str(i['iframe-url']),html2,html1,url])\n",
    "                "
   ]
  },
  {
   "cell_type": "code",
   "execution_count": 13,
   "metadata": {},
   "outputs": [
    {
     "name": "stdout",
     "output_type": "stream",
     "text": [
      "time: 107 ms\n"
     ]
    }
   ],
   "source": [
    "driver.close()"
   ]
  },
  {
   "cell_type": "code",
   "execution_count": 20,
   "metadata": {},
   "outputs": [
    {
     "name": "stdout",
     "output_type": "stream",
     "text": [
      "time: 10min 59s\n"
     ]
    }
   ],
   "source": [
    "list_text2 = []\n",
    "for i in list_test:\n",
    "    soup1 = BeautifulSoup(i[2], 'lxml')\n",
    "    soup2 = BeautifulSoup(i[1], 'lxml')\n",
    "    list_text2.append([i[0],soup1,soup2,i[3]])"
   ]
  },
  {
   "cell_type": "code",
   "execution_count": 44,
   "metadata": {},
   "outputs": [
    {
     "name": "stdout",
     "output_type": "stream",
     "text": [
      "time: 3min 35s\n"
     ]
    }
   ],
   "source": [
    "#extract necessary information.  \n",
    "list_text3 = []\n",
    "for term in list_text2:\n",
    "    audio_link = []\n",
    "    docket = []\n",
    "    petitioner = []\n",
    "    respondent = []\n",
    "    decided = []\n",
    "    decision = []\n",
    "    transcript = []\n",
    "    pet_law = []\n",
    "    resp_law = []\n",
    "    for i in term[2].find_all('section',{'ng-repeat':'turn in section.turns'}):\n",
    "        verb = ' '\n",
    "        speaker= []\n",
    "        for x in i.find('h4'):\n",
    "            speaker = x\n",
    "        for y in i.find_all('p', {'ng-repeat':'textBlock in turn.text_blocks'}):\n",
    "            verb = verb + y.text\n",
    "        if len(speaker) == 0:\n",
    "            speaker = np.NaN\n",
    "        transcript.append([speaker,verb])\n",
    "    for i in term[1].find_all('div',{'class':'cell ng-binding'}):\n",
    "        if 'Docket' in i.text:\n",
    "            docket = i.text\n",
    "        if 'Petitioner' in i.text:\n",
    "            petitioner = i.text\n",
    "        if 'Respondent' in i.text:\n",
    "            respondent = i.text\n",
    "    for g in term[1].find_all('div',{'ng-repeat':'advocate in case.advocates'}):\n",
    "        if 'Petitioner' in g.text:\n",
    "            pet_law = g.text\n",
    "        if 'Respondents' in g.text:\n",
    "            resp_law = g.text\n",
    "        \n",
    "    for x in term[1].find_all('a', {'class':'ng-binding ng-isolate-scope'}):  \n",
    "        \n",
    "        if 'oral_argument_audio' in str(x['iframe-url']):\n",
    "            audio_link.append(str(x['iframe-url']))\n",
    "    for y in term[1].find_all('div', {'ng-repeat':'chron in case.timeline'}):\n",
    "        if 'Decided' in y.text:\n",
    "            decided = y.text[9:]\n",
    "    for f in term[1].find_all('span',{'ng-if':'decision.winning_party'}):\n",
    "        decision = f.text\n",
    "        \n",
    "    list_text3.append([term[0], audio_link, docket[11:], respondent[11:], petitioner[11:] ,pet_law, resp_law, decided, decision[5:],transcript,term[3]]) "
   ]
  },
  {
   "cell_type": "code",
   "execution_count": 45,
   "metadata": {
    "scrolled": true
   },
   "outputs": [
    {
     "name": "stdout",
     "output_type": "stream",
     "text": [
      "time: 3.29 s\n"
     ]
    }
   ],
   "source": [
    "#create dictionary of speakers and the number of times they spoke and the words used by each speaker\n",
    "#adding information that was gathered in the last step\n",
    "dict_list_speakers = []\n",
    "dict_list_text = []\n",
    "list_text4 = []\n",
    "for i in list_text3:\n",
    "    temp_dict = {}\n",
    "    temp_dict2 = {}\n",
    "    for x in i[9]:\n",
    "        if x[0] in temp_dict:\n",
    "            temp_dict[x[0]] = temp_dict.get(x[0], 0) + 1\n",
    "        else:\n",
    "            temp_dict.update({x[0]:1})\n",
    "    for x in i[9]:\n",
    "        if x[0] in temp_dict:\n",
    "            temp_dict2[x[0]] = str(temp_dict2.get(x[0], 0)) + x[1].encode('utf-8').strip()\n",
    "        else:\n",
    "            temp_dict2.update({x[0]:x[1]})\n",
    "    list_text4.append([i[0],i[2],i[3], i[4],i[5],i[6],i[7],i[8], temp_dict, temp_dict2, i[10]])\n",
    "    dict_list_speakers.append(temp_dict)\n",
    "    dict_list_text.append(temp_dict2)"
   ]
  },
  {
   "cell_type": "code",
   "execution_count": 40,
   "metadata": {},
   "outputs": [
    {
     "data": {
      "text/plain": [
       "{nan: 97,\n",
       " u'Anthony M. Kennedy': 13,\n",
       " u'Antonin Scalia': 36,\n",
       " u'David H. Souter': 14,\n",
       " u'James W. Ellis': 63,\n",
       " u'John Paul Stevens': 11,\n",
       " u'Pamela A. Rumpz': 60,\n",
       " u'Ruth Bader Ginsburg': 10,\n",
       " u\"Sandra Day O'Connor\": 22,\n",
       " u'Stephen G. Breyer': 9,\n",
       " u'The Marshal': 1,\n",
       " u'William H. Rehnquist': 17}"
      ]
     },
     "execution_count": 40,
     "metadata": {},
     "output_type": "execute_result"
    },
    {
     "name": "stdout",
     "output_type": "stream",
     "text": [
      "time: 8.13 ms\n"
     ]
    }
   ],
   "source": [
    "dict_list_speakers[1000]"
   ]
  },
  {
   "cell_type": "code",
   "execution_count": 41,
   "metadata": {},
   "outputs": [
    {
     "data": {
      "text/plain": [
       "['https://apps.oyez.org/player/#/rehnquist10/oral_argument_audio/23138',\n",
       " u' 00-8452 ',\n",
       " u' Virginia ',\n",
       " u' Atkins ',\n",
       " [],\n",
       " [],\n",
       " u'Jun 20, 2002 ',\n",
       " u'Atkins',\n",
       " {nan: 97,\n",
       "  u'Anthony M. Kennedy': 13,\n",
       "  u'Antonin Scalia': 36,\n",
       "  u'David H. Souter': 14,\n",
       "  u'James W. Ellis': 63,\n",
       "  u'John Paul Stevens': 11,\n",
       "  u'Pamela A. Rumpz': 60,\n",
       "  u'Ruth Bader Ginsburg': 10,\n",
       "  u\"Sandra Day O'Connor\": 22,\n",
       "  u'Stephen G. Breyer': 9,\n",
       "  u'The Marshal': 1,\n",
       "  u'William H. Rehnquist': 17},\n",
       " {nan: \"0vary.twelve?But, it in...but but as you...categorization on the w- with your precise number...still...point.They're just...al-people...[Inaudible]Well, Mr.Mr. Ellis I I guess...commitment.and as...functioning of...[Inaudible]definition...[Inaudible]the heaviest penalty.situ-functioning.Right. Yes.yes.think it is.in in resp-appropriate punishment.and understanding. Yes.[Inaudible]States...rejected the notion.Am I right?consensus...last twenty years? I count two.consensus. Less than half.[Inaudible]I...consensus.[Inaudible][Inaudible][Inaudible]if But short of...y- the-We're ar-Would would...exactly what you were saying...That's what juries...[Inaudible]And...scheme there there there there i-I guess you're talking about a class...I I'll be ha-So, you're looking...time...I sh- I sure do.to pass a law?that that...come from, first of all.legislators have passed.competent to assist his lawyers. There's a difference there.[Inaudible]says only two mentally retarded people have been executed in in the last I don't know what.retarded people have been executed...N-it...the other States.I think...change?that there is.So...right? That's That's...May I ask...the brief of the...penalty.the laws...right?Absolutely not.No, but it is...think that the fact...pages of cases where...Well it's it's saying...N-in what...I mean  would not execute rocket scientists.is...penalty. That's if...consid-  if it's...and...It's It's not relevant.there...speculate. We...are...know...in two years...Becaus-that just didn't work.arguing?\",\n",
       "  u'Anthony M. Kennedy': \"0Well,Scalia's basic premise that it's a one-way ratchet is correct.links up to the consensus problem if you take I don't think a poll is relevant, but a- but assuming you took a poll and since you execute the ret- retarded, I think most people would have in in in mind an image of mental retardation which doesn't reflect the sophistication of the DSM which talks about mild retardation and defines somebody mi- who's mildly retarded as educable with an IQ of maybe as high as s- he- e- h- i- in that range of of seventy with with some w- with some room for statistical error.Yes.Well, why are they subject to criminal liability at all then?So, nothing wrong with putting a retarded person we know that there's a problem with definition, but in in jail for life, or in solitary.Well, the position of the Commonwealth of Virginia is that you can execute the retarded.So, any person who has criminal responsibility can be executed no matter how retarded they are.because I'd like to get the answer to Justice Souter's question myself let's assume.Justice Justice Souter asked the question, if there is that risk, is there a place in our Eighth Amendment jurisprudence for us to take account of that risk and draw some lines?asking about, and and Jus- Justice Breyer's question, as well as Justice Souter's, is i- I think must recognize the premise that one of the great facts of life in American Government is legislative inertia.I I did not have a chance to ask petitioner's counsel because his rebuttal time was running up, but it's important to me.same as the general population or higher?\",\n",
       "  u'Antonin Scalia': \"0Of course, not a- n- not all of those eighteen feel so strongly that it is unconstitutional to execute someone with reduced mental capacity that they are willing to apply that to people who've already been sentenced.that doesn't bespeak such a such an intransigent view that this is unconstitutional.doesn't.not going to do it in the future.H-do we know that? How do we know that?Mr. Ellis, would would you would you agree I you know, I'm I'm not sure assuming I agree that that when there is a a a a new consensus that the Constitution means something it didn't mean before the Constitution means that new thing, assuming I agree with that, you you must agree that that we have to be very careful about finding new consensuses, don't you? Because w- we can't go back.Ellis, logically it has to be a one-way ratchet.What what about our ment- I what about our mental illness cases dealing with the time of the crime? Why aren't they sufficient to indeed excuse somebody who couldn't help themself? You're you're saying these people can help themselves.of wh- I mean, they have to have known that what they were doing is wrong.isn't that the only thing that bears upon culpability?Yes, but but those rules were based upon the fact that some people are not as culpable.Yeah, I think it's totally untrue.Counsel is not able to bring that to the jury's attention...and say, ladies and gentlemen of the jury i- in fact, he can bring mental retardation to the attention of the jury as a basis for the j- f- for the jury's deciding not to execute the person, c- can can he not?There's no question that in all States he can do that.So, you're saying the jury is not constitutionally even allowed to to be given the option.So, you you have less less than half of the States that have ca- capital punishment make an exception for the mentally retarded, and you say that that constitutes a...I I can see the argument that there's a consensus on the other side since the other side seems to be in the majority, but you say less than half represents a consensus.legislation, and and we...we also said in Penry that you you know the argument was made to us that there was an emerging consensus, and we rejected that.You w- you would not say no matter how retarded.you argue that five-year-olds should be executed if if they have deliberated on on the on the act and and and otherwise the State can prove the the mental element?Miss Rumpz, I I ma- it's a hard question to answer because I guess you you would need a definition of what constitutes an inappropriate or improper death penalty, and we haven't we haven't established any guidelines.there is not a proper or an improper death death sentence.those States were executing a lot of retarded people, and that's why the laws were passed.the answer.the position I'm in too.There are very few executions of women in the United States.so rarely impose it?Of course.Most of the world would not execute rocket scientists.abolish the death...that's to be a...You don't...It only goes in one direction at a time, doesn't it?\",\n",
       "  u'David H. Souter': \"0what is the reason? I mean, you you in in responding to Justice Scalia's question, you you point out, well, these people pass the the test of of comprehension, which is a a condition of culpability for execution.realize that that's the judgment they're reaching, and you want us to recognize that judgment as now having constitutional significance.Is that the idea?say the same thing then about about children, about young people? So long as the State can prove the premeditation, the deliberation, the the other requirements of of of mental culpability, let them be executed.Well, let's take five-year-olds.Do you believe there is there is any role at all in in the in Eighth Amendment jurisprudence, death penalty jurisprudence I guess, for for general rules to the effect that, yes, there may in some instances, let's say, of retardation be be proof of that would at least be enough to get to a jury on premeditation and and and deliberation and so on, but that the very fact of of retardation makes it unlikely in most cases that this can be proven and makes the evidence at least highly debatable, even in those cases that get to a jury? And therefore, the sensible thing to do in order to avoid a high risk either of wrong conviction or in the case of of the penalty phase a a high risk of of unsound judgments imposing the death penalty, there ought to be a cutoff point of some sort.I'm I'm assuming that that, sure, there are cases of borderline retardation and so on in which the the there would be enough evidence to get to a jury on the various mental elements for a for a capital sentencing.clear that within the category of those who ought to be subject to the death penalty, there should be individual assessment.Well, I assume a- an an even simpler assumption is that they were executing people.I'm from New Hampshire, and the last execution was in thirty-eight or thirty-nine.Well, do you accept the view that there is in fact an evolutionary element in Eighth Amendment jurisprudence, that in fact it does change as as as societal notions of reasonableness in terms of cruelty...You So you you ac- you ac- you accept that as the framework that we are supposed to be working in.Why do you need it after it's been established?That's what I thought.\",\n",
       "  u'James W. Ellis': \"0Mr. Chief Justice, and may it please the Court.  In nineteen eighty-nine, this Court, surveying the already growing evidence from a variety of sources that the people of this country oppose the execution of individuals with mental retardation, observed that that growing sentiment might someday be manifested in legislation, particularly by the States, which this Court identified as the sort of evidence upon which it typically can rely in Eighth Amendment cases.  The evidence is now clear that the American people in every region of the country have reached a consensus on that question.  By every measurement and through a th- course of legislative enactments that is literally unprecedented in the field of capital punishment...Mr. Chief Justice, the I would define consensus, and this Court has discussed it in various terms in the cases, but I would distill from the cases in which the Court has described it that it is when the American people have reached a settled judgment based on...a mor-  Yes,Your Honor, there i- there has never been a suggestion by this Court that it differentiates among States with regard to size, and yet obviously logically if if an an if a collection of statutes only was found in the smallest of the States or the States o- of a single particular region, it would cut against the evidence that there was a consensus.This Court has never suggested that there's a particular number in response to that.I'm no- I'm not submitting on the basis of a figure, Your Honor.Yes, Your Honor, I think that you should, and I took that to be the the the teaching of this Court's opinion in the first Penry case.it's r- it's roughly twelve.part depends on how Vermont is counted, but...There're now eighteen States as compared to the two that w- that were on the books or were about to go on the books, in the case of Maryland, when this Court decided the Penry case.A number of them.I I guess I would characterize, Justice Scalia, the the statutes not as having concluded that the practice was unconstitutional, but instead that it was unacceptable.leaves your...I I I would respectfully suggest that they have not reached that judgment.and might've...The the discussion in the l- th- t- in State legislatures, there isn't legislative history in quite the way there is in Congress, where...deal differ- yeah I was going to say th- this must be a source of substantial disappointment.I I would agree with you, Justice Scalia, that a- as the Court has said in various ways in several of the cases that the that the proponents of the view that there is a consensus bear an extraordinarily heavy burden of demonstration.This Court has not had had occasion to address that in particular.W- n- not only in the area of the Eighth Amendment but in others as well.Justice O'Connor, they vary remarkably little.I- it seems to me that the States would be free to define mental retardation and, as I say, many use the definition they already have, that their clinicians are accustomed to a- so long as the definition they chose carried with it the core principles of the definition of mental retardation that this Court discussed in Penry, that is to say, m- a measured intelligence in the bottom i- i- two percent bul- bu- in the bottom two and a half percent of the population or two standard deviations below the mean, plus an impact on the real world functioning of the individual...With regard to pr- with regard to details, as I suggested a moment ago, the- there there is room for some difference, but with regard to the core principles, which I take to be at the center of y- o- o- o- of your question, are th- we describing the same group of people...what we've discovered in the States is that they've all come to essentially the same conclusion, which is all the people who fall within the AAMR or DSM four T R definition are the people that they chose to protect.individuals with mental retardation yes, Your Honor the- there ther- other than parents parents I'd put aside there is, I think, no group in this country more aware of the variety among people with mental retardation and the levels of functioning at each level than State legislators.Yes, Your Honor.W- O- obviously, in our w- we would not be totally disappointed if this Court were to resolve that question, but the the the the likelihood and prospect of a remand obviously would inapprop- be an appropriate response so that the Virginia courts who did not, in this case, have before them mental retardation as a legal question that was going to decide anything it was simply an observation in the course of making...I I I think maybe the th- the Virginia Supreme Court's chara- i- b- decision on that can be best characterized as expressing concern as to whether or not the individual in this case Mr. Atkins had mental retardation because of the testimony of Dr.In in our view, Your Honor, the people with mental retardation who have both that intellectual functioning as the core and it has manifested itself in their life throughout their life those individuals in our view lack the culpability or blame worthiness because their understanding of their actions, their understanding of the context in which their actions took place...they are subject to criminal liability because it isn't our contention that they, for example, can't tell i- e- to use the the language in in in Virginia's defense of insanity, that they can't tell right from wrong.N- n- no- nothing in the ruling that we seek here would preclude the State from imposing the most serious penalty it has other than the penalty of death.Your Honor, I believe you're discus- discussing the Ford i- issue with regard to competence to be executed? I read the Ford case as suggesting that whether the individual had mental illness or mental retardation, if if that individual lacked the understanding as execution w- became imminent, that they w- that the State would be precluded from executing.Th- that test, it seems to me, is not adequate for several reasons.Yes.in any of these States,I- it s- seems to me, Your Honor, that it is not because because under our system of capital punishment, as it has been shaped by the decisions by this Court, we don't say that the death penalty is available for everyone who can be punished.and I think it's untrue.S- so, what we're saying in in in response to to to to your question, what we are saying is that a person who commits an act who has mental retardation, who commits an act which is subject to punishment, does so within the scope of the limitations imposed by his disability.The principal reason, and and it has changed a little bit as as the as the process has gone on.And and as I said, th- the principal focus is on the understanding of people of what the limitations imposed on people with mental retardation are and how it affects they th- their comprehension...It it it is it is that their understanding of the wrongness of their action may be incomplete and in a sense immature in the same way or in a parallel way at least...And and and that was the point I was adverting to w- was adverting to a moment ago, that the principal reason is, as I've suggested, the the shared understanding of the diminished culpability of people with mental retardation.C- counsel...He clearly can.That's right.There there may well be cases in which that would be effective in guarding against that concern, but that also backs into the problem this Court observed in Penry, which is in a case-by-case determination, particularly in cases in which juries are making the decision, the mental retardation may in fact be a two-edged sword, that the that the that the juror, in evaluating whether or not to impose the penalty of death, may see mental retardation not only as a mitigating or potentially mitigating factor, but it may also see it as tied to prospective dangerousness.I- is is is is the difficulty o- of case-by-case? Yes.It it is but unlike mental ill- e- i- in in the case of mental illness, unlike mental retardation, there has not been a manifestation of a national consensus, either in legislation or elsewhere, that suggests the American people have...The th- the...w- would apply to other defendants who don't have mental retardation.But but they are not so closely tied to the defining characteristics of a class as they are here to have produced that...Your Honor, it seems to me that I read this Court's cases as saying that they will th- that the Court will look to that t- that in prospective cases you will look to a variety of forms of evidence, but that any proffer of evidence of a consensus which does not have substantial and ther- in one case a discussion of recent formulation of that consensus into enactments by the legislature will be viewed with skepticism or impact more...Theoretically there there could be twenty.we we cannot be sure but it is roughly two or three, yes.N- not by itself.I I'm not sure that that that we could conclude, for example, that people in the States that don't have the death penalty approve its imposition or if they adopted a death penalty would include within the scope...Well, the that is that is another way i- of counting.And and our position, on the basis of what has happened in the thirteen years since Penry, is that the consensus that was then emerging is now manifest, both in the legislation and in every other indicator we have of public sentiment.I- It seems to me, Your Honor, that the that the polling information, which was quite scanty then and is now quite full, as suggested in the AAMR amicus brief in McCarver, is part of the picture.And increasingly it is.Polls, it seems to me, Your Honor are a way of of of viewing the legislation, of seeing whether or not the consensus the legislation appears to reveal is in fact...I d- I don't believe I I I I'm trying to think of a case in which polling has played a part in the trial court, and and I believe it has no- I w- none comes to mind.I'll endeavor to answer couple of the questions that this Court had raised.\",\n",
       "  u'John Paul Stevens': \"0Of course, isn't it true that every new constitutional holding is a one-way ratchet in exactly the same way?apart from the consensus argument and these details, is- what is the real reason behind your position? Why what's wrong with executing the mentally retarded?another question on little different line? I think there's been sort of a consensus in the argument here that the number of executions of the mentally retarded is rather small.death And does not that reflect the fact that juries generally are reluctant to execute the mentally retarded, to p- impose the death penalty on the mentally retarded?it is true, isn't i- is that not one of the facts on which the Court relied in the rape case, holding that the crime of race could not be command the death...the number of juries that refuse to impose the death penalty.it is part of our law.never do.is the status of the legislation in Virginia on this point now?It passed one house but not the other?pendulum swing when it's all in the same direction? I thought a pendulum went back and forth.\",\n",
       "  u'Pamela A. Rumpz': \"0Yes.Yes, the retarded individuals who, like Atkins, were found competent at the time of the crime, competent at the time of to assist his lawyers, who were found guilty of a premeditated, deliberated, and calculated murder, and who...That is the position of the Commonwealth of Virginia, yes.Exactly, Your Honor, but...that, exactly.the DSM TR four TR recognizes four different categories of mental retardation.But this Court has said that about sixteen-year-olds in Stanford.I I think that that that that's an a p- unlikely to happen.A high risk cutoff rule of I'm sorry I didn't follow...That's what individualized sentencing is.I I you know, I I don't want to play dumb here, Justice Souter, but I'm afraid I'm not understanding what what you're asking me.Okay, I'll assume that.No.Well, first of all, I think this case is a perfect illustration of the first point, the first point being that that they are.W- w- well, I I I think that that the fact that eighteen States have done so in the last thirteen years i- i- i- it doesn't mean...Well, that's an equally good assumption.I don't know what State you...I I guess my answer to that is that this Court has said that societal consensuses are formed, and when you're looking to see whether there is a societal consensus, you look to the statutes that the that the...Or there's no such person o- person on death row who was not competent to to to commit his crime, was not competent at the time of his trial, was not...I suspect not.I- no, there's not.Well, the Federal Death Penalty Information Center, if you get on their web site, says that since Penry was decided in nineteen eighty-nine, twenty-five mentally...I I think just because two States in in in since nineteen eighty-nine have executed mentally retarded offenders doesn't mean that there aren't mentally retarded offen- retarded offenders in the pipeline waiting to be to become executed or waiting to go through their appellate process or or coming up to trial.Well, I I guess I'd go back to what Justice Scalia said in one of his opinions is that that may very well just be that juries and prosecutors and society believes that the death penalty ought to be imposed on the mentally retarded less often.Thirty.For two reasons.W- even given that, New York has in its statute specifically that people who commit murders, while in prison, can be executed even if they're mentally retarded.Well, because they may have some bearing on whether there's an a a consensus against the death penalty altogether.Well, t- i- Wisconsin tomorrow may decide to adopt a death penalty statute, and if they do, they'll have to affirmatively to affirmatively legislate a number of things.No.No.No.N- I I...that Spaziano says different.has said that there're...That's what that's what this Court said in...Yes...I I I'm I I don't know that that reflects that.This Court looks at the laws and the application of...is exactly right.Well, I...that we're here arguing this case today is proof that juries do, in fact, give the death penalty to mentally retarded people.And the fact that they rarely do, like I said earlier, could mean that juries believe, just as Atkins' team believes, that it sh- i- that it should be rarely imposed.And I agree.This Court has said previously that the notions of other countries and the notions of other lands cannot play the deciding factor...Well, i- it is relevant in i- as Justice Scalia said in one of his p- opinions, to determine whether our practice is a historical accident or not.of th- of the co- of the of the planet i-And...It's not dispositive, and it is relevant once the Eighth Amendment principle has already been established.You don't.I don't know, and and it w-I I I I couldn't...don't know and it's not in this record what the what the prison population of mental retarded people...It was it didn't pass the House.Passed bicameral legislature Virginia.I don't...I don't believe it was voted on.It's a pendulum swing one way.B- But my point is this practice has been allowed since the Bill of Rights was adopted in seventeen eighty-nine, and we have eighteen States, some of which can't decide in between themselves whether the mentally retarded should or shouldn't be executed, with an average age of five years.I I I I think there's not a consensus, first of all, and my backup position is if there is a consensus, it certainly isn't one of an enduring nature.\",\n",
       "  u'Ruth Bader Ginsburg': \"0Mr. Ellis, what about this very case? There was some confusion, but the Virginia Supreme Court seemed to doubt that this person would qualify as mentally retarded.precisely did the Virginia Supreme Court say about this defendant and...Ellis, I thought that you had said something different in your brief, and it was that people in this class have diminished capacity when it comes to the life or death decision.Ms. Rumpz, if we stayed just with the eighteen plus the twelve that don't have the death penalty, then we get up to what?Three-fifths of all the States.time in this Court wasn't all that long ago when this Court was making prospective declarations of unconstitutionality, this case and all future cases, not past cases.do y- in making this cruel and unusual decision this is an issue that's come up before, but does what the rest of the world thinks about e- executing the mentally retarded does should that have any relevance at all? I mean, we have, since the time we said we don't look to the rest of the world, been supporters of international human rights tribunals in for the former Yugoslavia, for the former Rwanda.I asked you if it was relevant.relevant.ask if it was dispositive.\",\n",
       "  u\"Sandra Day O'Connor\": \"0Should we not look at legislative enactments as the surest indicator of what the view of the the particular State is?And looking at that, where do we stand today? We have how many States have no death penalty at all? Is it...States have now enacted legislation providing that a retarded person may not suffer the death penalty?there's no uniform determination of when someone should be regarded as mentally retarded.point is even if this Court were to say that he- it's unconstitutional to execute a person who's mentally retarded, presumably it would still be open to the State to determine whether that individual is mentally retarded under the State's definition, or is there some Federal definition you're asking us to employ?be the same as for executing someone with a mental illness? We we have dealt with that, and and with the level of comprehension that someone must have in order to be eligible for the death penalty who has mental illness.that test not adequate here in your view?in all cases of mental illness as well?Your arguments seem to be equally applicable to those who are mentally ill.reasons you put forward to us seem to me remarkably the same.Right.So come back and tell us how we know when there's a consensus.Why not?Right, and...includes that.Let me try this another way.You don't agree that if there's a consensus, then the Eighth Amendment would bar it.This Court said that might, indeed, be the law in Penry, but you say we were wrong there.accept the notion that if there is a consensus and we find there is, that that answers the question.Was it voted on in the House?thought it wasn't voted on.that there's a consensus and want to argue it's just not enduring? Or what is it you're...\",\n",
       "  u'Stephen G. Breyer': \"0In how many of those States have there been executions of retarded people since Penry the...forty-eight constituted a...of you said this class of people and I'm not sure you meant that is no less culpable than you or me.But I want you to address, A, I've tried to make a point maybe they are not so culpable as you or me.on that is you want to say less than eighteen.want to know why not far more than eighteen, and my reason for that is that in of the remaining twenty see there are two States that have executed retarded people, and they account, I gather, for about seven percent of the population.No, no.tried bit by bit, and i- most of them are in these States and then some of them are have IQs of seventy or over.Well leave leave it at this, that since Penry Penry.\",\n",
       "  u'The Marshal': \"0The honorable court is now adjourned until Monday next at ten o'clock.\",\n",
       "  u'William H. Rehnquist': \"0We'll hear argument next in number oh oh eight four five two, Daryl Renard Atkins versus Vir- Spectators are admonished, do not talk until you get out of the courtroom, the court is still in session.  Mr. Ellis.  [Inaudible]What is your definition of a consensus, Mr. Ellis?but I I tha- that's that's a f- perfectly sound phrase, but how do we go about figuring out when that occurs? I mean, how many States must be on a particular side? Does the population make any difference? H- How about those factors?And and h- how m- how many States out of the fifty do you need, do you think, for for a consensus?but y- o- y- you're saying there is a consensus.Th- this goes to the where where is the burden of proof in a case like supposing your view is adopted, the State charges capital murder.How many States still allow the execution of retarded?you're not talking about polls if you're talking about public sentiment, are you?expect if people feel that way, it would it would be manifested in legislation?Yes, but are you saying that somehow polls are to be considered in addition to legislation?it polls should be admitted in if we're going to talk about polls as contributing to this discussion, they should be admitted in the trial court and subject to examination by the other side.Very well.M- well what what do we know, Ms. Rumpz, about the situation in the States, the eighteen States which have prohibited the execution of the retarded? W- w- had they just gone through a tremendous number of retarded executions?We- well do we kn- is there any anything in the briefs that indicates why these States w- passed the legislation that they did?m- may rep- represent a jury's belief that it is a mitigating circumstance of such force that they should be spared the death penalty.Thank you, Ms. Rumpz.Thank you, Mr. Ellis.\"},\n",
       " 'https://www.oyez.org/cases/2001/00-8452']"
      ]
     },
     "execution_count": 41,
     "metadata": {},
     "output_type": "execute_result"
    },
    {
     "name": "stdout",
     "output_type": "stream",
     "text": [
      "time: 5.08 ms\n"
     ]
    }
   ],
   "source": [
    "list_text4[1000]"
   ]
  },
  {
   "cell_type": "code",
   "execution_count": 37,
   "metadata": {},
   "outputs": [
    {
     "name": "stderr",
     "output_type": "stream",
     "text": [
      "IOPub data rate exceeded.\n",
      "The notebook server will temporarily stop sending output\n",
      "to the client in order to avoid crashing it.\n",
      "To change this limit, set the config variable\n",
      "`--NotebookApp.iopub_data_rate_limit`.\n"
     ]
    },
    {
     "name": "stdout",
     "output_type": "stream",
     "text": [
      "time: 7.59 s\n"
     ]
    }
   ],
   "source": []
  },
  {
   "cell_type": "code",
   "execution_count": 34,
   "metadata": {},
   "outputs": [
    {
     "data": {
      "text/plain": [
       "dict"
      ]
     },
     "execution_count": 34,
     "metadata": {},
     "output_type": "execute_result"
    },
    {
     "name": "stdout",
     "output_type": "stream",
     "text": [
      "time: 2.83 ms\n"
     ]
    }
   ],
   "source": [
    "type(temp_dict2)"
   ]
  },
  {
   "cell_type": "code",
   "execution_count": 23,
   "metadata": {},
   "outputs": [
    {
     "name": "stdout",
     "output_type": "stream",
     "text": [
      "time: 24.2 ms\n"
     ]
    }
   ],
   "source": [
    "#sort into lists\n",
    "list1 = []\n",
    "list2 = []\n",
    "list3 = []\n",
    "list4 = []\n",
    "list5 = []\n",
    "list6 = []\n",
    "list7 = []\n",
    "list8 = []\n",
    "list9 = []\n",
    "list10 = []\n",
    "list11 = []\n",
    "\n",
    "for i in list_text4:\n",
    "    list1.append(i[0])\n",
    "    list2.append(i[1])\n",
    "    list3.append(i[2])\n",
    "    list4.append(i[3])\n",
    "    list5.append(i[4])\n",
    "    list6.append(i[5])\n",
    "    list7.append(i[6])\n",
    "    list8.append(i[7])\n",
    "    list9.append(i[8])\n",
    "    list10.append(i[9])\n",
    "    list11.append(i[10])\n"
   ]
  },
  {
   "cell_type": "code",
   "execution_count": 24,
   "metadata": {},
   "outputs": [
    {
     "name": "stdout",
     "output_type": "stream",
     "text": [
      "time: 934 ms\n"
     ]
    }
   ],
   "source": [
    "#put lists in dataframe\n",
    "df = pd.DataFrame()\n",
    "df['link_trans'] = list1\n",
    "df['docket'] = list2\n",
    "df['respondent'] = list3\n",
    "df['petitioner'] = list4\n",
    "df['pet_lawyer'] = list5\n",
    "df['resp_lawyer'] = list6\n",
    "df['decided'] = list7\n",
    "df['decision'] = list8\n",
    "df['justice_counts'] = list9\n",
    "df['speaker_verbage'] = list10\n",
    "df['case_link'] = list11"
   ]
  },
  {
   "cell_type": "code",
   "execution_count": 25,
   "metadata": {},
   "outputs": [
    {
     "name": "stdout",
     "output_type": "stream",
     "text": [
      "time: 4.01 s\n"
     ]
    }
   ],
   "source": [
    "#save data to csv file\n",
    "df.to_csv('data_speaker_1990_2017.csv',encoding='utf-8')"
   ]
  },
  {
   "cell_type": "code",
   "execution_count": 26,
   "metadata": {},
   "outputs": [
    {
     "name": "stdout",
     "output_type": "stream",
     "text": [
      "time: 3.76 s\n"
     ]
    }
   ],
   "source": [
    "#get list of supreme court justices\n",
    "html_justice = []\n",
    "driver = webdriver.Chrome(executable_path=\"./chromedriver/chromedriver\")   \n",
    "driver.get('https://www.oyez.org/justices')\n",
    "sleep(1)\n",
    "html_justice = driver.page_source\n",
    "driver.close()"
   ]
  },
  {
   "cell_type": "code",
   "execution_count": 27,
   "metadata": {},
   "outputs": [
    {
     "name": "stdout",
     "output_type": "stream",
     "text": [
      "time: 213 ms\n"
     ]
    }
   ],
   "source": [
    "soup_justice = BeautifulSoup(html_justice, 'lxml')"
   ]
  },
  {
   "cell_type": "code",
   "execution_count": 28,
   "metadata": {},
   "outputs": [
    {
     "name": "stdout",
     "output_type": "stream",
     "text": [
      "time: 57.2 ms\n"
     ]
    }
   ],
   "source": [
    "justices = []\n",
    "for i in soup_justice.find_all('a', {'class':'ng-binding'}):         \n",
    "    justices.append(i.text)"
   ]
  },
  {
   "cell_type": "code",
   "execution_count": 29,
   "metadata": {},
   "outputs": [
    {
     "name": "stdout",
     "output_type": "stream",
     "text": [
      "time: 2.25 ms\n"
     ]
    }
   ],
   "source": [
    "justices = justices[4:]"
   ]
  },
  {
   "cell_type": "code",
   "execution_count": 30,
   "metadata": {},
   "outputs": [
    {
     "name": "stdout",
     "output_type": "stream",
     "text": [
      "time: 5.57 ms\n"
     ]
    }
   ],
   "source": [
    "j_df = pd.DataFrame(justices)"
   ]
  },
  {
   "cell_type": "code",
   "execution_count": 32,
   "metadata": {},
   "outputs": [
    {
     "name": "stdout",
     "output_type": "stream",
     "text": [
      "time: 2.5 ms\n"
     ]
    }
   ],
   "source": [
    "j_df.to_csv('justice_list.csv')"
   ]
  },
  {
   "cell_type": "code",
   "execution_count": null,
   "metadata": {
    "collapsed": true
   },
   "outputs": [],
   "source": []
  }
 ],
 "metadata": {
  "kernelspec": {
   "display_name": "Python 2",
   "language": "python",
   "name": "python2"
  },
  "language_info": {
   "codemirror_mode": {
    "name": "ipython",
    "version": 2
   },
   "file_extension": ".py",
   "mimetype": "text/x-python",
   "name": "python",
   "nbconvert_exporter": "python",
   "pygments_lexer": "ipython2",
   "version": "2.7.13"
  }
 },
 "nbformat": 4,
 "nbformat_minor": 2
}
